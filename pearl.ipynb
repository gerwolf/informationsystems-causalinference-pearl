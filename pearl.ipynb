{
 "cells": [
  {
   "cell_type": "markdown",
   "metadata": {
    "heading_collapsed": true,
    "slideshow": {
     "slide_type": "slide"
    }
   },
   "source": [
    "### _Causal inference beyond the potential outcome framework_\n",
    "# Pearl's graphical theory of causality\n",
    "\n",
    "---\n",
    "<div>\n",
    "<img src=\"https://upload.wikimedia.org/wikipedia/commons/c/ce/Huberlin-logo.svg\" width=\"200\" align=\"right\"/>\n",
    "</div>\n",
    "\n",
    "Information Systems Seminar @ HU Berlin\n",
    "\n",
    "Gerome Wolf, Gleb Zhidkov, Nesrin Othmann, and Mariia Semenenko\n",
    "\n",
    "28.01.2020"
   ]
  },
  {
   "cell_type": "markdown",
   "metadata": {
    "slideshow": {
     "slide_type": "subslide"
    }
   },
   "source": [
    "# Outlay\n",
    "\n",
    "* Motivation"
   ]
  },
  {
   "cell_type": "markdown",
   "metadata": {
    "slideshow": {
     "slide_type": "fragment"
    }
   },
   "source": [
    "* Pearl's __graphical theory__ of causality\n",
    "* (1) __Definition__ of a (causal) model\n",
    "* (2) Causal __assumptions__\n",
    "* (3) __Identification__\n",
    "* (4) __Estimation__\n",
    "* (5) __Robustness__ checks\n",
    "* Conclusions"
   ]
  },
  {
   "cell_type": "markdown",
   "metadata": {
    "slideshow": {
     "slide_type": "fragment"
    }
   },
   "source": [
    "* Practical example: Hotel booking cancellations"
   ]
  },
  {
   "cell_type": "markdown",
   "metadata": {
    "heading_collapsed": true,
    "slideshow": {
     "slide_type": "skip"
    }
   },
   "source": [
    "# Environment setup (skipped in presentation)"
   ]
  },
  {
   "cell_type": "code",
   "execution_count": 14,
   "metadata": {
    "colab": {
     "base_uri": "https://localhost:8080/"
    },
    "hidden": true,
    "id": "UBozFPvRe7IM",
    "outputId": "4e403883-26fa-441a-c4b2-6ddee38334f4",
    "slideshow": {
     "slide_type": "skip"
    }
   },
   "outputs": [],
   "source": [
    "import warnings\n",
    "import logging\n",
    "from pprint import pprint\n",
    "from typing import List, Dict, Union, Optional, Tuple\n",
    "from IPython.display import Image, display\n",
    "\n",
    "import numpy as np\n",
    "import pandas as pd\n",
    "import matplotlib.pyplot as plt\n",
    "\n",
    "try:\n",
    "    import dowhy\n",
    "except:\n",
    "    !pip install dowhy==0.5\n",
    "    import dowhy\n",
    "    \n",
    "try:\n",
    "    import linearmodels\n",
    "except:\n",
    "    !pip install linearmodels\n",
    "    import linearmodels\n",
    "\n",
    "from linearmodels.iv import IV2SLS\n",
    "\n",
    "try:\n",
    "    import statsmodels.api as sm\n",
    "except:\n",
    "    !pip install statsmodels\n",
    "    import statsmodels.api as sm\n",
    "\n",
    "try:\n",
    "    import pygraphviz\n",
    "except:\n",
    "    !apt install libgraphviz-dev\n",
    "    !pip install pygraphviz\n",
    "    import pygraphviz\n",
    "\n",
    "# reducing logging by doWhy\n",
    "logger = logging.getLogger('dowhy')\n",
    "logger.setLevel(logging.CRITICAL)"
   ]
  },
  {
   "cell_type": "code",
   "execution_count": 15,
   "metadata": {
    "hidden": true,
    "id": "NRx-fdA-fG3B",
    "slideshow": {
     "slide_type": "skip"
    }
   },
   "outputs": [],
   "source": [
    "from graphviz import Digraph\n",
    "\n",
    "def make_graph(\n",
    "    edges: List[str], \n",
    "    nodes: Optional[Dict[str, str]] = None,\n",
    "    highlight: Optional[List[str]] = None\n",
    "    ) -> Digraph:\n",
    "    \"\"\"Makes a directed `graphviz` graph from its description\n",
    "\n",
    "    Parms:\n",
    "    edges     a list of directed edges (arrows), e.g. `['AB']` for `A->B`\n",
    "    nodes     (optional) a mapping of node names, e.g. `{'A':'name'}`\n",
    "    highlight (optional) a list of nodes to be highlighted, e.g. `['A']`\n",
    "    \"\"\"\n",
    "\n",
    "    dot = Digraph()\n",
    "    dot.edges(edges)\n",
    "    if nodes:\n",
    "        for node in nodes:\n",
    "            dot.node(node, nodes[node])\n",
    "    if highlight:\n",
    "        for node in highlight:\n",
    "            dot.node(node, fillcolor='#40e0d0', style='filled')\n",
    "    return dot"
   ]
  },
  {
   "cell_type": "code",
   "execution_count": 16,
   "metadata": {
    "hidden": true,
    "id": "x_TgLGvzfGoA",
    "slideshow": {
     "slide_type": "skip"
    }
   },
   "outputs": [],
   "source": [
    "_AVAILABLE_REFUTATION_METHODS = [\n",
    "    'random_common_cause',         # effect -> no significant change (should be: estimation method should not change, not implemented in doWhy)\n",
    "    'placebo_treatment_refuter',   # effect -> 0\n",
    "    'dummy_outcome_refuter',       # effect -> 0\n",
    "    'add_unobserved_common_cause', # effect -> no significant change\n",
    "    'data_subset_refuter',         # effect -> no significant change\n",
    "    'bootstrap_refuter',           # effect -> no significant change\n",
    "    #'simulated_outcome'           # effect -> no significant change # NOT IMPLEMENTED IN doWhy\n",
    "  ]\n",
    "\n",
    "methods = _AVAILABLE_REFUTATION_METHODS.copy()\n",
    "methods.remove('add_unobserved_common_cause')\n",
    "\n",
    "refutation_config = {\n",
    "    'methods': methods,\n",
    "    'tolerance': 0.1,\n",
    "    'suppress_warnings': True,\n",
    "\n",
    "    # kwargs for dowhy's model.refute()\n",
    "    'random_seed': 2020,\n",
    "    'num_simulations': 10,\n",
    "\n",
    "    # kwargs for add_unobserved_common_cause (values must be assumed, out of the scope of this tutorial):\n",
    "    #'effect_strength_on_treatment': 0.5,\n",
    "    #'effect_strength_on_outcome': 0.5\n",
    "}\n",
    "\n",
    "\n",
    "class CausalRefuter():\n",
    "\n",
    "    def __init__(self, \n",
    "            methods: Optional[List[str]] = _AVAILABLE_REFUTATION_METHODS,\n",
    "            tolerance: Optional[int] = 0.1,\n",
    "            suppress_warnings: Optional[bool] = True, \n",
    "            **kwargs\n",
    "            ) -> None:\n",
    "        \"\"\" \"\"\"\n",
    "        self.methods = kwargs.pop('methods', methods).copy()\n",
    "        self.tolerance = kwargs.pop('tolerance', tolerance)\n",
    "        self.suppress_warnings = kwargs.pop('suppress_warnings', tolerance)\n",
    "        self.kwargs = kwargs\n",
    "\n",
    "        if self.suppress_warnings:\n",
    "            self.kwargs['logging_level'] = logging.CRITICAL\n",
    "\n",
    "    def refute(self, \n",
    "            model: dowhy.CausalModel,\n",
    "            estimand: dowhy.causal_identifier.IdentifiedEstimand,\n",
    "            estimate: dowhy.causal_estimator.CausalEstimate, \n",
    "            method: Optional[str] = None\n",
    "            ) -> None:\n",
    "        \"\"\"\n",
    "        Refutes a causal estimate using a single `method` \n",
    "        or all `methods` specified when initiating the CausalRefuter\n",
    "        \"\"\"\n",
    "\n",
    "        self.results = {}\n",
    "        self.estimate_effect = estimate.value\n",
    "        METHODS = [method] if method is not None else self.methods\n",
    "\n",
    "        def loop_over_methods() -> None:\n",
    "            for method in METHODS:\n",
    "                self._refute(model, estimand, estimate, method, **self.kwargs)\n",
    "\n",
    "        if not self.suppress_warnings:\n",
    "            loop_over_methods()\n",
    "    \n",
    "        else:\n",
    "            logger = logging.getLogger('dowhy')\n",
    "            logger_level = logger.level\n",
    "            logger.setLevel(logging.CRITICAL)\n",
    "            with warnings.catch_warnings():\n",
    "                warnings.simplefilter('ignore')\n",
    "                loop_over_methods()\n",
    "            logger.setLevel(logger_level)\n",
    "  \n",
    "    def _refute(self, \n",
    "            model: dowhy.CausalModel, \n",
    "            estimand: dowhy.causal_identifier.IdentifiedEstimand, \n",
    "            estimate: dowhy.causal_estimator.CausalEstimate, \n",
    "            method: str, \n",
    "            **kwargs\n",
    "            ) -> None:\n",
    "\n",
    "        # FIX for a bug in doWhy code\n",
    "        if method == 'dummy_outcome_refuter':\n",
    "            target_var = model._outcome[0]\n",
    "            model._outcome[0] = 'y'\n",
    "            model._data.rename(columns={target_var: 'y'}, inplace=True)\n",
    "\n",
    "        if method == 'add_unobserved_common_cause' and (\n",
    "                'effect_strength_on_treatment' not in self.kwargs or \n",
    "                'effect_strength_on_outcome' not in self.kwargs):\n",
    "            print('To refute using add_unobserved_common_cause, please specify the following args: ')\n",
    "            print(\"'effect_strength_on_treatment' and 'effect_strength_on_outcome'\\n\")\n",
    "            return\n",
    "\n",
    "        if method not in _AVAILABLE_REFUTATION_METHODS:\n",
    "            print(f'Method {method} not supported.\\n')\n",
    "            return\n",
    "\n",
    "        self.results[method] = model.refute_estimate(estimand, estimate, method, **kwargs)\n",
    "\n",
    "        # FIX for a bug in doWhy code\n",
    "        if method == 'dummy_outcome_refuter' and isinstance(self.results[method], list):\n",
    "            self.results[method] = self.results[method][0]\n",
    "\n",
    "        self._print_results(method)\n",
    "\n",
    "    def _validate(self, \n",
    "            method: str,\n",
    "            new_effect: float\n",
    "            ) -> Tuple[bool, str]:\n",
    "\n",
    "        if method in ('placebo_treatment_refuter', 'dummy_outcome_refuter'):\n",
    "            if -self.tolerance < new_effect < self.tolerance:\n",
    "                return True, 'Effect should go to zero'\n",
    "            else:\n",
    "                return False, 'Effect should go to zero'\n",
    "\n",
    "        elif method in ('data_subset_refuter', 'bootstrap_refuter', 'add_unobserved_common_cause', 'random_common_cause'):\n",
    "            if (new_effect - self.tolerance) < self.estimate_effect < (new_effect + self.tolerance):\n",
    "                return True, 'Effect should not change significantly'\n",
    "            else:\n",
    "                return False, 'Effect should not change significantly'\n",
    "\n",
    "    def _print_results(self, method: str) -> None:\n",
    "\n",
    "        passed, comment = self._validate(\n",
    "          method = method,\n",
    "          new_effect = self.results[method].new_effect\n",
    "        )\n",
    "    \n",
    "        print(f\"{method}: {comment} -- {'PASSED' if passed else 'FAILED'} with tolerance of +/- {self.tolerance}\")\n",
    "        print(f\"effect: {self.estimate_effect:.2f} -> {self.results[method].new_effect:.2f}\\n\")"
   ]
  },
  {
   "cell_type": "code",
   "execution_count": 17,
   "metadata": {
    "hidden": true,
    "id": "2YA0Jyw5YHul",
    "slideshow": {
     "slide_type": "skip"
    }
   },
   "outputs": [],
   "source": [
    "def prepare_booking_cancellation_data(dataset: pd.DataFrame) -> pd.DataFrame:\n",
    "\n",
    "    # Total stay in nights\n",
    "    dataset['total_stay'] = dataset['stays_in_week_nights'] + dataset['stays_in_weekend_nights']\n",
    "    # Total number of guests\n",
    "    dataset['guests'] = dataset['adults'] + dataset['children'] + dataset['babies']\n",
    "    # Creating the different_room_assigned feature\n",
    "    dataset['different_room_assigned'] = 0\n",
    "    slice_indices = (dataset['reserved_room_type'] != dataset['assigned_room_type'])\n",
    "    dataset.loc[slice_indices,'different_room_assigned'] = 1\n",
    "    # Deleting older features\n",
    "    dataset = dataset.drop(\n",
    "        ['stays_in_week_nights', 'stays_in_weekend_nights', 'adults', \n",
    "         'children', 'babies','reserved_room_type', 'assigned_room_type'], \n",
    "        axis=1)\n",
    "\n",
    "    #dataset.isnull().sum() # Country,Agent,Company contain 488,16340,112593 missing entries \n",
    "    dataset = dataset.drop(['agent','company'], axis=1)\n",
    "    # Replacing missing countries with most freqently occuring countries\n",
    "    dataset['country'] = dataset['country'].fillna(dataset['country'].mode()[0])\n",
    "\n",
    "    dataset = dataset.drop(['reservation_status','reservation_status_date','arrival_date_day_of_month'], axis=1)\n",
    "    dataset = dataset.drop(['arrival_date_year'], axis=1)\n",
    "\n",
    "    # Replacing 1 by True and 0 by False for the experiment and outcome variables\n",
    "    dataset['different_room_assigned'] = dataset['different_room_assigned'].replace(1, True)\n",
    "    dataset['different_room_assigned'] = dataset['different_room_assigned'].replace(0, False)\n",
    "    dataset['is_canceled'] = dataset['is_canceled'].replace(1, True)\n",
    "    dataset['is_canceled'] = dataset['is_canceled'].replace(0, False)\n",
    "    dataset.dropna(inplace=True)\n",
    "    dataset.reset_index(inplace=True, drop=True)\n",
    "\n",
    "    return dataset"
   ]
  },
  {
   "cell_type": "code",
   "execution_count": 41,
   "metadata": {
    "hidden": true,
    "slideshow": {
     "slide_type": "skip"
    }
   },
   "outputs": [],
   "source": [
    "graph1 = {\n",
    "    'edges': ['AB', 'BC', 'DE', 'EF', 'GH', 'IH', 'JK', 'LK', 'KM'],\n",
    "    'highlight': ['E', 'M'] # conditioning set\n",
    "}\n",
    "\n",
    "graph2 = {\n",
    "    'edges': ['AX', 'AO', 'BO', 'BY', 'OX', 'OY', 'XY'],\n",
    "    'nodes': {'A': 'Z1', 'B': 'Z2', 'O': 'Z3'},\n",
    "}"
   ]
  },
  {
   "cell_type": "code",
   "execution_count": 93,
   "metadata": {
    "hidden": true,
    "slideshow": {
     "slide_type": "skip"
    }
   },
   "outputs": [],
   "source": [
    "def pretty_estimand_output(identified_estimand):\n",
    "    valid_estimands = [estimand \n",
    "                       for estimand in identified_estimand.estimands \n",
    "                       if identified_estimand.estimands[estimand] is not None]\n",
    "\n",
    "    print(f\"\"\"A total of {len(valid_estimands)} estimands identified for this model. \n",
    "First back-door estimand:\n",
    "\n",
    "> Unconfoundedness assumptions:\n",
    "{identified_estimand.estimands['backdoor1']['assumptions']['Unconfoundedness']}\n",
    "\n",
    "> Estimand:\n",
    "\"\"\")\n",
    "    display(identified_estimand.estimands['backdoor1']['estimand'])"
   ]
  },
  {
   "cell_type": "markdown",
   "metadata": {
    "slideshow": {
     "slide_type": "slide"
    }
   },
   "source": [
    "# Motivation\n",
    "\n",
    "![meme](https://www.explainxkcd.com/wiki/images/9/9c/correlation.png)"
   ]
  },
  {
   "cell_type": "markdown",
   "metadata": {
    "slideshow": {
     "slide_type": "subslide"
    }
   },
   "source": [
    "### Counterfactual\n",
    "* How can we measure something that never happened?\n",
    "* A non-trivial task when it comes to identifying, estimating, and validating causal effects\n",
    "\n",
    "\n",
    "* Experimental settings → e.g. A-B testing\n",
    "* Non-experimental enviroments → Potential outcomes framework (Neyman-Rubin 1923, 1974; Rosenbaum 1983)"
   ]
  },
  {
   "cell_type": "markdown",
   "metadata": {
    "slideshow": {
     "slide_type": "fragment"
    }
   },
   "source": [
    "### Common methods of causal inference \n",
    "_(both experimental and non-experimental)_\n",
    "\n",
    "- regression\n",
    "- propensity score matching\n",
    "- instrumental variables\n",
    "- difference-in-differences\n",
    "- regression discontinuity design\n",
    "\n",
    "- in dynamic causality (~time series): SVAR"
   ]
  },
  {
   "cell_type": "markdown",
   "metadata": {
    "slideshow": {
     "slide_type": "subslide"
    }
   },
   "source": [
    "Pearl's claim: \n",
    "> Even though the causal interpretation inherited from appropriate methods relying on well-known statistical properties may be justified, some objects, especially the \"counterfactual\", within this framework are subject to a lack of mathematical rigor, formalisation and identification.\n",
    "\n",
    "To see this formally, recall the potential outcomes framework that justifies the causal interpretation of regression coefficients with randomization of the (binary) treatment, $D_i = \\{0,1\\}$:\n",
    "\n",
    "The observed outcome, $Y_i$, can be written in terms of potential  outcomes as\n",
    "\n",
    "\\begin{align*}\n",
    "    Y_i &=\n",
    "    \\begin{cases}\n",
    "        Y_{1i},& \\text{if } D_i = 1\\\\\n",
    "        Y_{0i}, & \\text{if } D_i = 0\\\\\n",
    "    \\end{cases}\n",
    "\\end{align*}\n",
    "\n",
    "\\begin{align*}\n",
    "    &= Y_{0i} + (Y_{1i} - Y_{0i}) D_i\n",
    "\\end{align*}"
   ]
  },
  {
   "cell_type": "markdown",
   "metadata": {
    "slideshow": {
     "slide_type": "subslide"
    }
   },
   "source": [
    "* By its nature, the treatment variable $D_i$ can only be observed once per case in individual $i$, i.e. those who received the treatment and those who did not, giving rise to the __counterfactual__ $\\color{red}{\\mathop{\\mathbb{E}}[Y_{0i}|D_i = 1]}$ — which is __unobservable__.\n",
    "* \"What would the outcome $Y_i$ be if an individual who did not receive treatment $D_i$ would have received it?\"\n",
    "\n",
    "\\begin{align*}\n",
    "    \\underbrace{\\mathop{\\mathbb{E}}[Y_{i}|D_i = 1] - \\mathop{\\mathbb{E}}[Y_{i}|D_i = 0]}_\\text{Observable difference in mean outcomes} = \\underbrace{\\mathop{\\mathbb{E}}[Y_{1i}|D_i = 1] - \\color{red}{\\mathop{\\mathbb{E}}[Y_{0i}|D_i = 1]}}_\\text{Average treatment effect on the treated} + \\underbrace{\\mathop{\\mathbb{E}}[Y_{0i}|D_i = 1] - \\mathop{\\mathbb{E}}[Y_{0i}|D_i = 0]}_\\text{Selection bias}\n",
    "\\end{align*}"
   ]
  },
  {
   "cell_type": "markdown",
   "metadata": {
    "slideshow": {
     "slide_type": "subslide"
    }
   },
   "source": [
    "[THIS TEXT TO BE ADJUSTED TO BULLET POINTS]\n",
    "\n",
    "There is a reason (~propensity) why those who received (or seeked) treatment produce certain outcomes that are not due to the treatment itself but to underlying attributes. Non-randomization (e.g. self-selection in the case of hospizalization) therefore biases the naive comparison of observable mean-differences into the direction of which underlying propensity quantitatively dominates the outcomes (\"selection bias\"). If treatment was randomly assigned, the conditional independence assumption (\"ignorability assumption\" = possible outcomes are independent of the treatment assignment conditional on covariates, you cannot predict the treatment from the residuals) is satisfied and selection bias is equal to zero. Hence, mean-differences as measured by the regression coefficient on $D_i$ has a causal interpretation. \n",
    "This illustration with its necessary conditions to make it work can be thought of a special case of a much broader, generalized theory which has been proposed by Pearl (YEAR). The idea rests on a structural specification of the model's equations, assisted by graphs that clearly visualize the relationships among the variables (and their error terms), therefore making all paths and directions explicit."
   ]
  },
  {
   "cell_type": "markdown",
   "metadata": {
    "slideshow": {
     "slide_type": "subslide"
    }
   },
   "source": [
    "[THIS TEXT TO BE ADJUSTED TO BULLET POINTS]\n",
    "\n",
    "It's important to stress that the counterfactual model and Pearl's graphical theory of causality are **fully compatible** with each other and are therefore **complementary and not rivalling** concepts. Two fundamental differences in Pearl's framework stand out, though:\n",
    "\n",
    "- No specific functional forms imposed (i.e. non-parametric and/or recursive ~ matching)\n",
    "- Importance of collider (i.e. endogeneous) variables\n",
    "- Irrelevance of the specific model: any model must, given a set of assumptions $A$, be able to identify the target quantity $Q$ [formally: $P(M_1) = P(M_2) \\Rightarrow Q(M_1) = Q(M_2)$]\n",
    "\n",
    "\"The main conceptual difference between the two approaches is that, whereas the structural approach views the intervention $do(x)$ as an operation that changes a distribution but keeps the variables the same, the potential-outcome approach views the variable Y under $do(x)$ to be a different variable, $Y_X$, loosely connected to Y.\" (Pearl, 2010) \n",
    "\n",
    "Pearl requires from the researcher/analyst a clearly defined model specification in a structural form and thus, domain knowledge.\n",
    "\n",
    "Pearl's expression for the \"counterfactual\" (the value of $Y$ in unit $u$, had $X$ been $x$) is \n",
    "\n",
    "\\begin{align*}\n",
    "Y_{x}(u) = Y_{M_{x}}(u)\n",
    "\\end{align*}\n",
    "\n",
    "where $M$ is a structural model and $M_x$ is a modified version of $M$ such that some intervention $do(x)$ has been introduced."
   ]
  },
  {
   "cell_type": "markdown",
   "metadata": {
    "slideshow": {
     "slide_type": "slide"
    }
   },
   "source": [
    "# Judea Pearl's graphical theory of causality"
   ]
  },
  {
   "cell_type": "markdown",
   "metadata": {
    "heading_collapsed": true,
    "slideshow": {
     "slide_type": "subslide"
    }
   },
   "source": [
    "### Judea Pearl\n",
    "\n",
    "![Judea](https://samueli.ucla.edu/wp-content/uploads/samueli/profile_2.jpg)\n",
    "\n",
    "* computer scientist and philosopher, scholar at UCLA (University of California, LA)\n",
    "* pioneered Bayesian networks (= probabilistic graphical model) \n",
    "* brought probabilistic/causal reasoning to the field of AI\n",
    "* developed a theory of __causal and counterfactual inference__ based on structural models"
   ]
  },
  {
   "cell_type": "markdown",
   "metadata": {
    "hidden": true,
    "slideshow": {
     "slide_type": "notes"
    }
   },
   "source": [
    "<div>\n",
    "<img src=\"https://images-na.ssl-images-amazon.com/images/I/51xNMvkSlYL._SX331_BO1,204,203,200_.jpg\" width=\"350\" align=\"center\"/>\n",
    "</div>"
   ]
  },
  {
   "cell_type": "markdown",
   "metadata": {
    "hidden": true,
    "slideshow": {
     "slide_type": "notes"
    }
   },
   "source": [
    "Judea Pearl, a computer scientist and philosopher and a scholar at UCLA (University of California, LA), dedicated a big share of his academic career to fill this gap by designing and polishing an accessible framework for causal inference, also known as Pearl's graphical theory of causality. Despite Pearl's tremendous efforts, his framework (somewhat undeservedly) remains not so well-known or used among practitioners.\n",
    "\n",
    "This notebook gives a (necessary) first glimpse into the theoretical concepts underlying the Pearl's framework of causal inference, followed by two practical examples utilizing the [doWhy](https://github.com/microsoft/dowhy) library: one simple example for a linear relationship between the treatment and outcome features, and one real-world data example for a marketing application of the framework.\n",
    "\n",
    "Somewhat simplified, the Pearl's framework can be summarized to five steps the analyst has to go through when analyzing causal effects: ...\n",
    "\n",
    "_(The 1st step is usually omitted in practical applications, whereas the 5th step is only briefly referenced by Judea Pearl in his papers.)_"
   ]
  },
  {
   "cell_type": "markdown",
   "metadata": {
    "slideshow": {
     "slide_type": "subslide"
    }
   },
   "source": [
    "### Pearl's framework for causal inference (in 5 steps)"
   ]
  },
  {
   "cell_type": "markdown",
   "metadata": {
    "slideshow": {
     "slide_type": "fragment"
    }
   },
   "source": [
    "(1) __Defining__ a _general_ model which is not restricted to a specific functional form (which is the case for, e.g., a linear regression)."
   ]
  },
  {
   "cell_type": "markdown",
   "metadata": {
    "slideshow": {
     "slide_type": "fragment"
    }
   },
   "source": [
    "(2) __Assuming__ causal (i.e., directed) relationships between data features by designing a __causal graph__"
   ]
  },
  {
   "cell_type": "markdown",
   "metadata": {
    "slideshow": {
     "slide_type": "fragment"
    }
   },
   "source": [
    "(3) __Identifying__ the estimand by checking whether explicit assumptions allow to solve for the parameter(s) of interest as function(s) of exogeneous variables"
   ]
  },
  {
   "cell_type": "markdown",
   "metadata": {
    "slideshow": {
     "slide_type": "fragment"
    }
   },
   "source": [
    "(4) __Estimating__ the causal effect by applying an arbitrary (appropriate) statistical method"
   ]
  },
  {
   "cell_type": "markdown",
   "metadata": {
    "slideshow": {
     "slide_type": "fragment"
    }
   },
   "source": [
    "(5) __Refuting__ the original assumptions by examining the robustness of the model"
   ]
  },
  {
   "cell_type": "markdown",
   "metadata": {
    "slideshow": {
     "slide_type": "slide"
    }
   },
   "source": [
    "## Practical example"
   ]
  },
  {
   "cell_type": "markdown",
   "metadata": {
    "slideshow": {
     "slide_type": "subslide"
    }
   },
   "source": [
    "### Python implementation: `doWhy` package\n",
    "\n",
    "<div>\n",
    "<br>\n",
    "<img src=\"https://raw.githubusercontent.com/microsoft/dowhy/master/docs/images/dowhy-schematic.png\" width=\"800\" align=\"center\"/>\n",
    "</div>\n",
    "\n",
    "* [Github repo](https://github.com/microsoft/dowhy) | \n",
    "[documentation](https://microsoft.github.io/dowhy/) |\n",
    "[examplary notebooks](https://github.com/microsoft/dowhy/tree/master/docs/source/example_notebooks)"
   ]
  },
  {
   "cell_type": "markdown",
   "metadata": {
    "slideshow": {
     "slide_type": "subslide"
    }
   },
   "source": [
    "### Python implementation: `doWhy` package\n",
    "\n",
    "* Microsoft Open Source project (Sharma and Kiciman, 2019)\n",
    "* end-to-end interface for causal analysis\n",
    "* compatible with `econML` and `causalML`"
   ]
  },
  {
   "cell_type": "markdown",
   "metadata": {
    "slideshow": {
     "slide_type": "fragment"
    }
   },
   "source": [
    "* _different to Pearl:_ not a general model _(definition step)_\n",
    "* _similar to Pearl:_ assumptions → identifying estimand → estimating causal effect"
   ]
  },
  {
   "cell_type": "markdown",
   "metadata": {
    "slideshow": {
     "slide_type": "fragment"
    }
   },
   "source": [
    "### Critical notes:\n",
    "* different to most statistical packages in Python, a very messy source code\n",
    "* throws a lot of warnings, partially due to bugs in the source code"
   ]
  },
  {
   "cell_type": "markdown",
   "metadata": {
    "slideshow": {
     "slide_type": "subslide"
    }
   },
   "source": [
    "### Data: Hotel booking cancellations\n",
    "\n",
    "* Booking information for a city hotel and a resort hotel in Portugal\n",
    "* 27 data features and nearly 120k rows\n",
    "\n",
    "\n",
    "* Treatment: `different_room_assigned` (binary)\n",
    "* Outcome: `is_canceled` (binary)\n",
    "* Hypothesis: guests assigned a different room are more likely to cancel their hotel stay\n",
    "\n",
    "\n",
    "* Source: Towards Data Science Article by Siddharth Dixit - \n",
    "[Article](https://towardsdatascience.com/beyond-predictive-models-the-causal-story-behind-hotel-booking-cancellations-d29e8558cbaf) |\n",
    "[GitHub repository](https://github.com/Sid-darthvader/DoWhy-The-Causal-Story-Behind-Hotel-Booking-Cancellations)"
   ]
  },
  {
   "cell_type": "code",
   "execution_count": 18,
   "metadata": {
    "slideshow": {
     "slide_type": "subslide"
    }
   },
   "outputs": [
    {
     "data": {
      "text/html": [
       "<div>\n",
       "<style scoped>\n",
       "    .dataframe tbody tr th:only-of-type {\n",
       "        vertical-align: middle;\n",
       "    }\n",
       "\n",
       "    .dataframe tbody tr th {\n",
       "        vertical-align: top;\n",
       "    }\n",
       "\n",
       "    .dataframe thead th {\n",
       "        text-align: right;\n",
       "    }\n",
       "</style>\n",
       "<table border=\"1\" class=\"dataframe\">\n",
       "  <thead>\n",
       "    <tr style=\"text-align: right;\">\n",
       "      <th></th>\n",
       "      <th>26101</th>\n",
       "      <th>82528</th>\n",
       "      <th>24899</th>\n",
       "      <th>46652</th>\n",
       "      <th>30118</th>\n",
       "    </tr>\n",
       "  </thead>\n",
       "  <tbody>\n",
       "    <tr>\n",
       "      <th>hotel</th>\n",
       "      <td>Resort Hotel</td>\n",
       "      <td>City Hotel</td>\n",
       "      <td>Resort Hotel</td>\n",
       "      <td>City Hotel</td>\n",
       "      <td>Resort Hotel</td>\n",
       "    </tr>\n",
       "    <tr>\n",
       "      <th>is_canceled</th>\n",
       "      <td>False</td>\n",
       "      <td>False</td>\n",
       "      <td>False</td>\n",
       "      <td>True</td>\n",
       "      <td>False</td>\n",
       "    </tr>\n",
       "    <tr>\n",
       "      <th>lead_time</th>\n",
       "      <td>38</td>\n",
       "      <td>70</td>\n",
       "      <td>116</td>\n",
       "      <td>43</td>\n",
       "      <td>3</td>\n",
       "    </tr>\n",
       "    <tr>\n",
       "      <th>arrival_date_month</th>\n",
       "      <td>July</td>\n",
       "      <td>December</td>\n",
       "      <td>May</td>\n",
       "      <td>January</td>\n",
       "      <td>November</td>\n",
       "    </tr>\n",
       "    <tr>\n",
       "      <th>arrival_date_week_number</th>\n",
       "      <td>30</td>\n",
       "      <td>53</td>\n",
       "      <td>23</td>\n",
       "      <td>3</td>\n",
       "      <td>49</td>\n",
       "    </tr>\n",
       "    <tr>\n",
       "      <th>meal</th>\n",
       "      <td>BB</td>\n",
       "      <td>HB</td>\n",
       "      <td>HB</td>\n",
       "      <td>BB</td>\n",
       "      <td>BB</td>\n",
       "    </tr>\n",
       "    <tr>\n",
       "      <th>country</th>\n",
       "      <td>IRL</td>\n",
       "      <td>FRA</td>\n",
       "      <td>DEU</td>\n",
       "      <td>ESP</td>\n",
       "      <td>PRT</td>\n",
       "    </tr>\n",
       "    <tr>\n",
       "      <th>market_segment</th>\n",
       "      <td>Online TA</td>\n",
       "      <td>Direct</td>\n",
       "      <td>Offline TA/TO</td>\n",
       "      <td>Online TA</td>\n",
       "      <td>Corporate</td>\n",
       "    </tr>\n",
       "    <tr>\n",
       "      <th>distribution_channel</th>\n",
       "      <td>TA/TO</td>\n",
       "      <td>Direct</td>\n",
       "      <td>TA/TO</td>\n",
       "      <td>TA/TO</td>\n",
       "      <td>TA/TO</td>\n",
       "    </tr>\n",
       "    <tr>\n",
       "      <th>is_repeated_guest</th>\n",
       "      <td>0</td>\n",
       "      <td>0</td>\n",
       "      <td>0</td>\n",
       "      <td>0</td>\n",
       "      <td>1</td>\n",
       "    </tr>\n",
       "    <tr>\n",
       "      <th>previous_cancellations</th>\n",
       "      <td>0</td>\n",
       "      <td>0</td>\n",
       "      <td>0</td>\n",
       "      <td>0</td>\n",
       "      <td>0</td>\n",
       "    </tr>\n",
       "    <tr>\n",
       "      <th>previous_bookings_not_canceled</th>\n",
       "      <td>0</td>\n",
       "      <td>0</td>\n",
       "      <td>0</td>\n",
       "      <td>0</td>\n",
       "      <td>4</td>\n",
       "    </tr>\n",
       "    <tr>\n",
       "      <th>booking_changes</th>\n",
       "      <td>0</td>\n",
       "      <td>0</td>\n",
       "      <td>0</td>\n",
       "      <td>0</td>\n",
       "      <td>0</td>\n",
       "    </tr>\n",
       "    <tr>\n",
       "      <th>deposit_type</th>\n",
       "      <td>No Deposit</td>\n",
       "      <td>No Deposit</td>\n",
       "      <td>No Deposit</td>\n",
       "      <td>No Deposit</td>\n",
       "      <td>No Deposit</td>\n",
       "    </tr>\n",
       "    <tr>\n",
       "      <th>days_in_waiting_list</th>\n",
       "      <td>0</td>\n",
       "      <td>0</td>\n",
       "      <td>0</td>\n",
       "      <td>0</td>\n",
       "      <td>0</td>\n",
       "    </tr>\n",
       "    <tr>\n",
       "      <th>customer_type</th>\n",
       "      <td>Transient</td>\n",
       "      <td>Transient</td>\n",
       "      <td>Transient</td>\n",
       "      <td>Transient-Party</td>\n",
       "      <td>Transient</td>\n",
       "    </tr>\n",
       "    <tr>\n",
       "      <th>adr</th>\n",
       "      <td>179</td>\n",
       "      <td>190.78</td>\n",
       "      <td>90</td>\n",
       "      <td>86.75</td>\n",
       "      <td>30</td>\n",
       "    </tr>\n",
       "    <tr>\n",
       "      <th>required_car_parking_spaces</th>\n",
       "      <td>1</td>\n",
       "      <td>0</td>\n",
       "      <td>0</td>\n",
       "      <td>0</td>\n",
       "      <td>0</td>\n",
       "    </tr>\n",
       "    <tr>\n",
       "      <th>total_of_special_requests</th>\n",
       "      <td>1</td>\n",
       "      <td>2</td>\n",
       "      <td>0</td>\n",
       "      <td>1</td>\n",
       "      <td>2</td>\n",
       "    </tr>\n",
       "    <tr>\n",
       "      <th>total_stay</th>\n",
       "      <td>1</td>\n",
       "      <td>4</td>\n",
       "      <td>9</td>\n",
       "      <td>3</td>\n",
       "      <td>1</td>\n",
       "    </tr>\n",
       "    <tr>\n",
       "      <th>guests</th>\n",
       "      <td>2</td>\n",
       "      <td>3</td>\n",
       "      <td>2</td>\n",
       "      <td>2</td>\n",
       "      <td>1</td>\n",
       "    </tr>\n",
       "    <tr>\n",
       "      <th>different_room_assigned</th>\n",
       "      <td>False</td>\n",
       "      <td>True</td>\n",
       "      <td>False</td>\n",
       "      <td>False</td>\n",
       "      <td>True</td>\n",
       "    </tr>\n",
       "  </tbody>\n",
       "</table>\n",
       "</div>"
      ],
      "text/plain": [
       "                                       26101       82528          24899  \\\n",
       "hotel                           Resort Hotel  City Hotel   Resort Hotel   \n",
       "is_canceled                            False       False          False   \n",
       "lead_time                                 38          70            116   \n",
       "arrival_date_month                      July    December            May   \n",
       "arrival_date_week_number                  30          53             23   \n",
       "meal                                      BB          HB             HB   \n",
       "country                                  IRL         FRA            DEU   \n",
       "market_segment                     Online TA      Direct  Offline TA/TO   \n",
       "distribution_channel                   TA/TO      Direct          TA/TO   \n",
       "is_repeated_guest                          0           0              0   \n",
       "previous_cancellations                     0           0              0   \n",
       "previous_bookings_not_canceled             0           0              0   \n",
       "booking_changes                            0           0              0   \n",
       "deposit_type                      No Deposit  No Deposit     No Deposit   \n",
       "days_in_waiting_list                       0           0              0   \n",
       "customer_type                      Transient   Transient      Transient   \n",
       "adr                                      179      190.78             90   \n",
       "required_car_parking_spaces                1           0              0   \n",
       "total_of_special_requests                  1           2              0   \n",
       "total_stay                                 1           4              9   \n",
       "guests                                     2           3              2   \n",
       "different_room_assigned                False        True          False   \n",
       "\n",
       "                                          46652         30118  \n",
       "hotel                                City Hotel  Resort Hotel  \n",
       "is_canceled                                True         False  \n",
       "lead_time                                    43             3  \n",
       "arrival_date_month                      January      November  \n",
       "arrival_date_week_number                      3            49  \n",
       "meal                                         BB            BB  \n",
       "country                                     ESP           PRT  \n",
       "market_segment                        Online TA     Corporate  \n",
       "distribution_channel                      TA/TO         TA/TO  \n",
       "is_repeated_guest                             0             1  \n",
       "previous_cancellations                        0             0  \n",
       "previous_bookings_not_canceled                0             4  \n",
       "booking_changes                               0             0  \n",
       "deposit_type                         No Deposit    No Deposit  \n",
       "days_in_waiting_list                          0             0  \n",
       "customer_type                   Transient-Party     Transient  \n",
       "adr                                       86.75            30  \n",
       "required_car_parking_spaces                   0             0  \n",
       "total_of_special_requests                     1             2  \n",
       "total_stay                                    3             1  \n",
       "guests                                        2             1  \n",
       "different_room_assigned                   False          True  "
      ]
     },
     "execution_count": 18,
     "metadata": {},
     "output_type": "execute_result"
    }
   ],
   "source": [
    "dataset_link = (\n",
    "    'https://raw.githubusercontent.com/Sid-darthvader/'\n",
    "    'DoWhy-The-Causal-Story-Behind-Hotel-Booking-Cancellations/master/hotel_bookings.csv'\n",
    ")\n",
    "\n",
    "dataset = pd.read_csv(dataset_link)\n",
    "dataset = prepare_booking_cancellation_data(dataset)\n",
    "\n",
    "dataset.sample(5).T"
   ]
  },
  {
   "cell_type": "code",
   "execution_count": 28,
   "metadata": {
    "slideshow": {
     "slide_type": "subslide"
    }
   },
   "outputs": [
    {
     "name": "stdout",
     "output_type": "stream",
     "text": [
      "Different room assigned: 12.49% of all bookings\n",
      "Booking canceled:        37.04% of all bookings\n",
      "\n",
      "Total bookings: 119386\n"
     ]
    }
   ],
   "source": [
    "print(\n",
    "    f'Different room assigned: {100*dataset.different_room_assigned.mean():.2f}% of all bookings\\n'\n",
    "    f'Booking canceled:        {100*dataset.is_canceled.mean():.2f}% of all bookings\\n\\n'\n",
    "    f'Total bookings: {dataset.shape[0]}'\n",
    ")"
   ]
  },
  {
   "cell_type": "markdown",
   "metadata": {
    "slideshow": {
     "slide_type": "slide"
    }
   },
   "source": [
    "## _5 Steps of Causal inference:_\n",
    "## (1) Definition of a general model"
   ]
  },
  {
   "cell_type": "markdown",
   "metadata": {
    "slideshow": {
     "slide_type": "subslide"
    }
   },
   "source": [
    "Let's start with a general question: __when is a causal effect identifiable?__"
   ]
  },
  {
   "cell_type": "markdown",
   "metadata": {
    "slideshow": {
     "slide_type": "fragment"
    }
   },
   "source": [
    "According to Pearl's definition (2010, 12), \n",
    "> A causal effect is identifiable when its estimation depends solely on the distribution of observed variables and not on the model used for the estimation (for any model that satisfies assumptions encoded in the causal graph).\n",
    "\n",
    "In other words, __the (choice of) model does not matter as long as assumptions are satisfied!__"
   ]
  },
  {
   "cell_type": "markdown",
   "metadata": {
    "slideshow": {
     "slide_type": "fragment"
    }
   },
   "source": [
    "Hence, the first step of causal inference is to __define a general model__ which is not restricted to a specific functional form.\n",
    "\n",
    "More formally,\n",
    "> The target quantity $Q$ is represented structurally or graphically as a function $Q(M)$ for any model $M$ satisfying our beliefs (assumptions) about the data generating process and its directionalities."
   ]
  },
  {
   "cell_type": "markdown",
   "metadata": {
    "slideshow": {
     "slide_type": "subslide"
    }
   },
   "source": [
    "<div>\n",
    "<img src=\"https://i1.wp.com/epiresearch.org/wp-content/uploads/2014/10/jpearl.jpg\" width=\"300\" align=\"right\"/>\n",
    "</div>\n",
    "\n",
    "<br><br><br>\n",
    "\n",
    "The concept of a general model is integral to understand the Pearl's framework of causal inference!\n",
    "\n",
    "Yet in practice one still has to assume some functional form when estimating the causal effect."
   ]
  },
  {
   "cell_type": "markdown",
   "metadata": {
    "slideshow": {
     "slide_type": "slide"
    }
   },
   "source": [
    "## (2) Causal assumptions → causal graph"
   ]
  },
  {
   "cell_type": "markdown",
   "metadata": {
    "slideshow": {
     "slide_type": "subslide"
    }
   },
   "source": [
    "### Introduction to graph theory\n",
    "\n",
    "* A __directed graph__ is a set of nodes (vertices) connected by arrows (directed edges).\n",
    "* An arrow $A\\!\\longrightarrow\\!B$ is said to be directed from the node $A$ (_head_ of the arrow) to the node $B$ (_tail_ of the arrow).\n",
    "* If a __path__ of arrows leads from $X$ to $Y$, then $Y$ is said to be a _successor_ of $X$ and to be _reachable_ from $X$.\n",
    "* A path can pass several intermediary nodes, and there may be several paths from $X$ to $Y$."
   ]
  },
  {
   "cell_type": "code",
   "execution_count": 38,
   "metadata": {
    "slideshow": {
     "slide_type": "fragment"
    }
   },
   "outputs": [
    {
     "data": {
      "image/svg+xml": [
       "<?xml version=\"1.0\" encoding=\"UTF-8\" standalone=\"no\"?>\n",
       "<!DOCTYPE svg PUBLIC \"-//W3C//DTD SVG 1.1//EN\"\n",
       " \"http://www.w3.org/Graphics/SVG/1.1/DTD/svg11.dtd\">\n",
       "<!-- Generated by graphviz version 2.44.1 (20200629.0846)\n",
       " -->\n",
       "<!-- Pages: 1 -->\n",
       "<svg width=\"62pt\" height=\"116pt\"\n",
       " viewBox=\"0.00 0.00 62.00 116.00\" xmlns=\"http://www.w3.org/2000/svg\" xmlns:xlink=\"http://www.w3.org/1999/xlink\">\n",
       "<g id=\"graph0\" class=\"graph\" transform=\"scale(1 1) rotate(0) translate(4 112)\">\n",
       "<polygon fill=\"white\" stroke=\"transparent\" points=\"-4,4 -4,-112 58,-112 58,4 -4,4\"/>\n",
       "<!-- A -->\n",
       "<g id=\"node1\" class=\"node\">\n",
       "<title>A</title>\n",
       "<ellipse fill=\"none\" stroke=\"black\" cx=\"27\" cy=\"-90\" rx=\"27\" ry=\"18\"/>\n",
       "<text text-anchor=\"middle\" x=\"27\" y=\"-86.3\" font-family=\"Times,serif\" font-size=\"14.00\">A</text>\n",
       "</g>\n",
       "<!-- B -->\n",
       "<g id=\"node2\" class=\"node\">\n",
       "<title>B</title>\n",
       "<ellipse fill=\"none\" stroke=\"black\" cx=\"27\" cy=\"-18\" rx=\"27\" ry=\"18\"/>\n",
       "<text text-anchor=\"middle\" x=\"27\" y=\"-14.3\" font-family=\"Times,serif\" font-size=\"14.00\">B</text>\n",
       "</g>\n",
       "<!-- A&#45;&gt;B -->\n",
       "<g id=\"edge1\" class=\"edge\">\n",
       "<title>A&#45;&gt;B</title>\n",
       "<path fill=\"none\" stroke=\"black\" d=\"M27,-71.7C27,-63.98 27,-54.71 27,-46.11\"/>\n",
       "<polygon fill=\"black\" stroke=\"black\" points=\"30.5,-46.1 27,-36.1 23.5,-46.1 30.5,-46.1\"/>\n",
       "</g>\n",
       "</g>\n",
       "</svg>\n"
      ],
      "text/plain": [
       "<graphviz.dot.Digraph at 0x111c0d3a0>"
      ]
     },
     "execution_count": 38,
     "metadata": {},
     "output_type": "execute_result"
    }
   ],
   "source": [
    "make_graph(['AB'])"
   ]
  },
  {
   "cell_type": "markdown",
   "metadata": {
    "slideshow": {
     "slide_type": "subslide"
    }
   },
   "source": [
    "### Causal graph\n",
    "\n",
    "* A directed graph where each node represents a variable, and each arrow depicts a relationship between two variables. \n",
    "* Represents our __expert belief__ about the data generating process, with our assumptions encoded in missing connections (arrows) between variables (nodes). \n",
    "* Defining a causal graph is the first and the most critical step when following the Pearl's framework of causal inference."
   ]
  },
  {
   "cell_type": "markdown",
   "metadata": {
    "id": "qJx0WBKVghkI",
    "slideshow": {
     "slide_type": "fragment"
    }
   },
   "source": [
    "### D-separation (Pearl, 1988)\n",
    "\n",
    "* A criterion to identify __conditional independence__ between two variables: $ X \\perp\\!\\!\\!\\perp Y \\mid S $.\n",
    "* $X$ and $Y$ are d-separated whenever all possible paths from $X$ to $Y$ are __blocked__ _(see next slide)_.\n",
    "* We should test causal assumptions: if $X$ and $Y$ are d-separated, they should be uncorrelated.\n",
    "\n",
    "\n",
    "* (Definition.) A path from $X$ to $Y$ is said to be blocked if either (i) it contains at least one arrow-emitting node that is in $S$, or (ii) it contains at least one collision node that is outside $S$ and has no descendant in $S$."
   ]
  },
  {
   "cell_type": "markdown",
   "metadata": {
    "slideshow": {
     "slide_type": "notes"
    }
   },
   "source": [
    "d = directional\n",
    "d-connected is the opposite"
   ]
  },
  {
   "cell_type": "code",
   "execution_count": 40,
   "metadata": {
    "colab": {
     "base_uri": "https://localhost:8080/",
     "height": 272
    },
    "id": "_0irFNMzghTC",
    "outputId": "defec8e0-78fb-4534-8dec-e44c78cdf40a",
    "slideshow": {
     "slide_type": "subslide"
    }
   },
   "outputs": [
    {
     "data": {
      "image/svg+xml": [
       "<?xml version=\"1.0\" encoding=\"UTF-8\" standalone=\"no\"?>\n",
       "<!DOCTYPE svg PUBLIC \"-//W3C//DTD SVG 1.1//EN\"\n",
       " \"http://www.w3.org/Graphics/SVG/1.1/DTD/svg11.dtd\">\n",
       "<!-- Generated by graphviz version 2.44.1 (20200629.0846)\n",
       " -->\n",
       "<!-- Pages: 1 -->\n",
       "<svg width=\"440pt\" height=\"188pt\"\n",
       " viewBox=\"0.00 0.00 440.00 188.00\" xmlns=\"http://www.w3.org/2000/svg\" xmlns:xlink=\"http://www.w3.org/1999/xlink\">\n",
       "<g id=\"graph0\" class=\"graph\" transform=\"scale(1 1) rotate(0) translate(4 184)\">\n",
       "<polygon fill=\"white\" stroke=\"transparent\" points=\"-4,4 -4,-184 436,-184 436,4 -4,4\"/>\n",
       "<!-- A -->\n",
       "<g id=\"node1\" class=\"node\">\n",
       "<title>A</title>\n",
       "<ellipse fill=\"none\" stroke=\"black\" cx=\"27\" cy=\"-162\" rx=\"27\" ry=\"18\"/>\n",
       "<text text-anchor=\"middle\" x=\"27\" y=\"-158.3\" font-family=\"Times,serif\" font-size=\"14.00\">A</text>\n",
       "</g>\n",
       "<!-- B -->\n",
       "<g id=\"node2\" class=\"node\">\n",
       "<title>B</title>\n",
       "<ellipse fill=\"none\" stroke=\"black\" cx=\"27\" cy=\"-90\" rx=\"27\" ry=\"18\"/>\n",
       "<text text-anchor=\"middle\" x=\"27\" y=\"-86.3\" font-family=\"Times,serif\" font-size=\"14.00\">B</text>\n",
       "</g>\n",
       "<!-- A&#45;&gt;B -->\n",
       "<g id=\"edge1\" class=\"edge\">\n",
       "<title>A&#45;&gt;B</title>\n",
       "<path fill=\"none\" stroke=\"black\" d=\"M27,-143.7C27,-135.98 27,-126.71 27,-118.11\"/>\n",
       "<polygon fill=\"black\" stroke=\"black\" points=\"30.5,-118.1 27,-108.1 23.5,-118.1 30.5,-118.1\"/>\n",
       "</g>\n",
       "<!-- C -->\n",
       "<g id=\"node3\" class=\"node\">\n",
       "<title>C</title>\n",
       "<ellipse fill=\"none\" stroke=\"black\" cx=\"27\" cy=\"-18\" rx=\"27\" ry=\"18\"/>\n",
       "<text text-anchor=\"middle\" x=\"27\" y=\"-14.3\" font-family=\"Times,serif\" font-size=\"14.00\">C</text>\n",
       "</g>\n",
       "<!-- B&#45;&gt;C -->\n",
       "<g id=\"edge2\" class=\"edge\">\n",
       "<title>B&#45;&gt;C</title>\n",
       "<path fill=\"none\" stroke=\"black\" d=\"M27,-71.7C27,-63.98 27,-54.71 27,-46.11\"/>\n",
       "<polygon fill=\"black\" stroke=\"black\" points=\"30.5,-46.1 27,-36.1 23.5,-46.1 30.5,-46.1\"/>\n",
       "</g>\n",
       "<!-- D -->\n",
       "<g id=\"node4\" class=\"node\">\n",
       "<title>D</title>\n",
       "<ellipse fill=\"none\" stroke=\"black\" cx=\"99\" cy=\"-162\" rx=\"27\" ry=\"18\"/>\n",
       "<text text-anchor=\"middle\" x=\"99\" y=\"-158.3\" font-family=\"Times,serif\" font-size=\"14.00\">D</text>\n",
       "</g>\n",
       "<!-- E -->\n",
       "<g id=\"node5\" class=\"node\">\n",
       "<title>E</title>\n",
       "<ellipse fill=\"#40e0d0\" stroke=\"black\" cx=\"99\" cy=\"-90\" rx=\"27\" ry=\"18\"/>\n",
       "<text text-anchor=\"middle\" x=\"99\" y=\"-86.3\" font-family=\"Times,serif\" font-size=\"14.00\">E</text>\n",
       "</g>\n",
       "<!-- D&#45;&gt;E -->\n",
       "<g id=\"edge3\" class=\"edge\">\n",
       "<title>D&#45;&gt;E</title>\n",
       "<path fill=\"none\" stroke=\"black\" d=\"M99,-143.7C99,-135.98 99,-126.71 99,-118.11\"/>\n",
       "<polygon fill=\"black\" stroke=\"black\" points=\"102.5,-118.1 99,-108.1 95.5,-118.1 102.5,-118.1\"/>\n",
       "</g>\n",
       "<!-- F -->\n",
       "<g id=\"node6\" class=\"node\">\n",
       "<title>F</title>\n",
       "<ellipse fill=\"none\" stroke=\"black\" cx=\"99\" cy=\"-18\" rx=\"27\" ry=\"18\"/>\n",
       "<text text-anchor=\"middle\" x=\"99\" y=\"-14.3\" font-family=\"Times,serif\" font-size=\"14.00\">F</text>\n",
       "</g>\n",
       "<!-- E&#45;&gt;F -->\n",
       "<g id=\"edge4\" class=\"edge\">\n",
       "<title>E&#45;&gt;F</title>\n",
       "<path fill=\"none\" stroke=\"black\" d=\"M99,-71.7C99,-63.98 99,-54.71 99,-46.11\"/>\n",
       "<polygon fill=\"black\" stroke=\"black\" points=\"102.5,-46.1 99,-36.1 95.5,-46.1 102.5,-46.1\"/>\n",
       "</g>\n",
       "<!-- G -->\n",
       "<g id=\"node7\" class=\"node\">\n",
       "<title>G</title>\n",
       "<ellipse fill=\"none\" stroke=\"black\" cx=\"189\" cy=\"-162\" rx=\"27\" ry=\"18\"/>\n",
       "<text text-anchor=\"middle\" x=\"189\" y=\"-158.3\" font-family=\"Times,serif\" font-size=\"14.00\">G</text>\n",
       "</g>\n",
       "<!-- H -->\n",
       "<g id=\"node8\" class=\"node\">\n",
       "<title>H</title>\n",
       "<ellipse fill=\"none\" stroke=\"black\" cx=\"207\" cy=\"-90\" rx=\"27\" ry=\"18\"/>\n",
       "<text text-anchor=\"middle\" x=\"207\" y=\"-86.3\" font-family=\"Times,serif\" font-size=\"14.00\">H</text>\n",
       "</g>\n",
       "<!-- G&#45;&gt;H -->\n",
       "<g id=\"edge5\" class=\"edge\">\n",
       "<title>G&#45;&gt;H</title>\n",
       "<path fill=\"none\" stroke=\"black\" d=\"M193.36,-144.05C195.39,-136.14 197.86,-126.54 200.14,-117.69\"/>\n",
       "<polygon fill=\"black\" stroke=\"black\" points=\"203.58,-118.35 202.68,-107.79 196.8,-116.6 203.58,-118.35\"/>\n",
       "</g>\n",
       "<!-- I -->\n",
       "<g id=\"node9\" class=\"node\">\n",
       "<title>I</title>\n",
       "<ellipse fill=\"none\" stroke=\"black\" cx=\"261\" cy=\"-162\" rx=\"27\" ry=\"18\"/>\n",
       "<text text-anchor=\"middle\" x=\"261\" y=\"-158.3\" font-family=\"Times,serif\" font-size=\"14.00\">I</text>\n",
       "</g>\n",
       "<!-- I&#45;&gt;H -->\n",
       "<g id=\"edge6\" class=\"edge\">\n",
       "<title>I&#45;&gt;H</title>\n",
       "<path fill=\"none\" stroke=\"black\" d=\"M249.02,-145.46C242.02,-136.4 233.06,-124.79 225.21,-114.61\"/>\n",
       "<polygon fill=\"black\" stroke=\"black\" points=\"227.83,-112.27 218.95,-106.49 222.29,-116.55 227.83,-112.27\"/>\n",
       "</g>\n",
       "<!-- J -->\n",
       "<g id=\"node10\" class=\"node\">\n",
       "<title>J</title>\n",
       "<ellipse fill=\"none\" stroke=\"black\" cx=\"333\" cy=\"-162\" rx=\"27\" ry=\"18\"/>\n",
       "<text text-anchor=\"middle\" x=\"333\" y=\"-158.3\" font-family=\"Times,serif\" font-size=\"14.00\">J</text>\n",
       "</g>\n",
       "<!-- K -->\n",
       "<g id=\"node11\" class=\"node\">\n",
       "<title>K</title>\n",
       "<ellipse fill=\"none\" stroke=\"black\" cx=\"369\" cy=\"-90\" rx=\"27\" ry=\"18\"/>\n",
       "<text text-anchor=\"middle\" x=\"369\" y=\"-86.3\" font-family=\"Times,serif\" font-size=\"14.00\">K</text>\n",
       "</g>\n",
       "<!-- J&#45;&gt;K -->\n",
       "<g id=\"edge7\" class=\"edge\">\n",
       "<title>J&#45;&gt;K</title>\n",
       "<path fill=\"none\" stroke=\"black\" d=\"M341.35,-144.76C345.71,-136.28 351.15,-125.71 356.04,-116.2\"/>\n",
       "<polygon fill=\"black\" stroke=\"black\" points=\"359.23,-117.64 360.7,-107.15 353.01,-114.44 359.23,-117.64\"/>\n",
       "</g>\n",
       "<!-- M -->\n",
       "<g id=\"node13\" class=\"node\">\n",
       "<title>M</title>\n",
       "<ellipse fill=\"#40e0d0\" stroke=\"black\" cx=\"369\" cy=\"-18\" rx=\"27\" ry=\"18\"/>\n",
       "<text text-anchor=\"middle\" x=\"369\" y=\"-14.3\" font-family=\"Times,serif\" font-size=\"14.00\">M</text>\n",
       "</g>\n",
       "<!-- K&#45;&gt;M -->\n",
       "<g id=\"edge9\" class=\"edge\">\n",
       "<title>K&#45;&gt;M</title>\n",
       "<path fill=\"none\" stroke=\"black\" d=\"M369,-71.7C369,-63.98 369,-54.71 369,-46.11\"/>\n",
       "<polygon fill=\"black\" stroke=\"black\" points=\"372.5,-46.1 369,-36.1 365.5,-46.1 372.5,-46.1\"/>\n",
       "</g>\n",
       "<!-- L -->\n",
       "<g id=\"node12\" class=\"node\">\n",
       "<title>L</title>\n",
       "<ellipse fill=\"none\" stroke=\"black\" cx=\"405\" cy=\"-162\" rx=\"27\" ry=\"18\"/>\n",
       "<text text-anchor=\"middle\" x=\"405\" y=\"-158.3\" font-family=\"Times,serif\" font-size=\"14.00\">L</text>\n",
       "</g>\n",
       "<!-- L&#45;&gt;K -->\n",
       "<g id=\"edge8\" class=\"edge\">\n",
       "<title>L&#45;&gt;K</title>\n",
       "<path fill=\"none\" stroke=\"black\" d=\"M396.65,-144.76C392.29,-136.28 386.85,-125.71 381.96,-116.2\"/>\n",
       "<polygon fill=\"black\" stroke=\"black\" points=\"384.99,-114.44 377.3,-107.15 378.77,-117.64 384.99,-114.44\"/>\n",
       "</g>\n",
       "</g>\n",
       "</svg>\n"
      ],
      "text/plain": [
       "<graphviz.dot.Digraph at 0x11e1753a0>"
      ]
     },
     "execution_count": 40,
     "metadata": {},
     "output_type": "execute_result"
    }
   ],
   "source": [
    "make_graph(**graph1)"
   ]
  },
  {
   "cell_type": "markdown",
   "metadata": {
    "id": "HEejojSfgk77",
    "slideshow": {
     "slide_type": "fragment"
    }
   },
   "source": [
    "* The path from $A$ to $C$ is __unblocked__, and $C$ can be reached from $A$\n",
    "* Intuition: an intervention in A can have a causal effect on C\n",
    "\n",
    "\n",
    "* The path from $D$ to $F$ is __blocked by conditioning__ on $E$\n",
    "* $\\Rightarrow D \\perp\\!\\!\\!\\perp F \\mid S=\\{E\\}$\n",
    "* Intution: whatever happens in $D$, it can't have causal effect on $F$ because value of $E$ is fixed, and there is no other path from $D$ to $F$"
   ]
  },
  {
   "cell_type": "code",
   "execution_count": 39,
   "metadata": {
    "slideshow": {
     "slide_type": "subslide"
    }
   },
   "outputs": [
    {
     "data": {
      "image/svg+xml": [
       "<?xml version=\"1.0\" encoding=\"UTF-8\" standalone=\"no\"?>\n",
       "<!DOCTYPE svg PUBLIC \"-//W3C//DTD SVG 1.1//EN\"\n",
       " \"http://www.w3.org/Graphics/SVG/1.1/DTD/svg11.dtd\">\n",
       "<!-- Generated by graphviz version 2.44.1 (20200629.0846)\n",
       " -->\n",
       "<!-- Pages: 1 -->\n",
       "<svg width=\"440pt\" height=\"188pt\"\n",
       " viewBox=\"0.00 0.00 440.00 188.00\" xmlns=\"http://www.w3.org/2000/svg\" xmlns:xlink=\"http://www.w3.org/1999/xlink\">\n",
       "<g id=\"graph0\" class=\"graph\" transform=\"scale(1 1) rotate(0) translate(4 184)\">\n",
       "<polygon fill=\"white\" stroke=\"transparent\" points=\"-4,4 -4,-184 436,-184 436,4 -4,4\"/>\n",
       "<!-- A -->\n",
       "<g id=\"node1\" class=\"node\">\n",
       "<title>A</title>\n",
       "<ellipse fill=\"none\" stroke=\"black\" cx=\"27\" cy=\"-162\" rx=\"27\" ry=\"18\"/>\n",
       "<text text-anchor=\"middle\" x=\"27\" y=\"-158.3\" font-family=\"Times,serif\" font-size=\"14.00\">A</text>\n",
       "</g>\n",
       "<!-- B -->\n",
       "<g id=\"node2\" class=\"node\">\n",
       "<title>B</title>\n",
       "<ellipse fill=\"none\" stroke=\"black\" cx=\"27\" cy=\"-90\" rx=\"27\" ry=\"18\"/>\n",
       "<text text-anchor=\"middle\" x=\"27\" y=\"-86.3\" font-family=\"Times,serif\" font-size=\"14.00\">B</text>\n",
       "</g>\n",
       "<!-- A&#45;&gt;B -->\n",
       "<g id=\"edge1\" class=\"edge\">\n",
       "<title>A&#45;&gt;B</title>\n",
       "<path fill=\"none\" stroke=\"black\" d=\"M27,-143.7C27,-135.98 27,-126.71 27,-118.11\"/>\n",
       "<polygon fill=\"black\" stroke=\"black\" points=\"30.5,-118.1 27,-108.1 23.5,-118.1 30.5,-118.1\"/>\n",
       "</g>\n",
       "<!-- C -->\n",
       "<g id=\"node3\" class=\"node\">\n",
       "<title>C</title>\n",
       "<ellipse fill=\"none\" stroke=\"black\" cx=\"27\" cy=\"-18\" rx=\"27\" ry=\"18\"/>\n",
       "<text text-anchor=\"middle\" x=\"27\" y=\"-14.3\" font-family=\"Times,serif\" font-size=\"14.00\">C</text>\n",
       "</g>\n",
       "<!-- B&#45;&gt;C -->\n",
       "<g id=\"edge2\" class=\"edge\">\n",
       "<title>B&#45;&gt;C</title>\n",
       "<path fill=\"none\" stroke=\"black\" d=\"M27,-71.7C27,-63.98 27,-54.71 27,-46.11\"/>\n",
       "<polygon fill=\"black\" stroke=\"black\" points=\"30.5,-46.1 27,-36.1 23.5,-46.1 30.5,-46.1\"/>\n",
       "</g>\n",
       "<!-- D -->\n",
       "<g id=\"node4\" class=\"node\">\n",
       "<title>D</title>\n",
       "<ellipse fill=\"none\" stroke=\"black\" cx=\"99\" cy=\"-162\" rx=\"27\" ry=\"18\"/>\n",
       "<text text-anchor=\"middle\" x=\"99\" y=\"-158.3\" font-family=\"Times,serif\" font-size=\"14.00\">D</text>\n",
       "</g>\n",
       "<!-- E -->\n",
       "<g id=\"node5\" class=\"node\">\n",
       "<title>E</title>\n",
       "<ellipse fill=\"#40e0d0\" stroke=\"black\" cx=\"99\" cy=\"-90\" rx=\"27\" ry=\"18\"/>\n",
       "<text text-anchor=\"middle\" x=\"99\" y=\"-86.3\" font-family=\"Times,serif\" font-size=\"14.00\">E</text>\n",
       "</g>\n",
       "<!-- D&#45;&gt;E -->\n",
       "<g id=\"edge3\" class=\"edge\">\n",
       "<title>D&#45;&gt;E</title>\n",
       "<path fill=\"none\" stroke=\"black\" d=\"M99,-143.7C99,-135.98 99,-126.71 99,-118.11\"/>\n",
       "<polygon fill=\"black\" stroke=\"black\" points=\"102.5,-118.1 99,-108.1 95.5,-118.1 102.5,-118.1\"/>\n",
       "</g>\n",
       "<!-- F -->\n",
       "<g id=\"node6\" class=\"node\">\n",
       "<title>F</title>\n",
       "<ellipse fill=\"none\" stroke=\"black\" cx=\"99\" cy=\"-18\" rx=\"27\" ry=\"18\"/>\n",
       "<text text-anchor=\"middle\" x=\"99\" y=\"-14.3\" font-family=\"Times,serif\" font-size=\"14.00\">F</text>\n",
       "</g>\n",
       "<!-- E&#45;&gt;F -->\n",
       "<g id=\"edge4\" class=\"edge\">\n",
       "<title>E&#45;&gt;F</title>\n",
       "<path fill=\"none\" stroke=\"black\" d=\"M99,-71.7C99,-63.98 99,-54.71 99,-46.11\"/>\n",
       "<polygon fill=\"black\" stroke=\"black\" points=\"102.5,-46.1 99,-36.1 95.5,-46.1 102.5,-46.1\"/>\n",
       "</g>\n",
       "<!-- G -->\n",
       "<g id=\"node7\" class=\"node\">\n",
       "<title>G</title>\n",
       "<ellipse fill=\"none\" stroke=\"black\" cx=\"189\" cy=\"-162\" rx=\"27\" ry=\"18\"/>\n",
       "<text text-anchor=\"middle\" x=\"189\" y=\"-158.3\" font-family=\"Times,serif\" font-size=\"14.00\">G</text>\n",
       "</g>\n",
       "<!-- H -->\n",
       "<g id=\"node8\" class=\"node\">\n",
       "<title>H</title>\n",
       "<ellipse fill=\"none\" stroke=\"black\" cx=\"207\" cy=\"-90\" rx=\"27\" ry=\"18\"/>\n",
       "<text text-anchor=\"middle\" x=\"207\" y=\"-86.3\" font-family=\"Times,serif\" font-size=\"14.00\">H</text>\n",
       "</g>\n",
       "<!-- G&#45;&gt;H -->\n",
       "<g id=\"edge5\" class=\"edge\">\n",
       "<title>G&#45;&gt;H</title>\n",
       "<path fill=\"none\" stroke=\"black\" d=\"M193.36,-144.05C195.39,-136.14 197.86,-126.54 200.14,-117.69\"/>\n",
       "<polygon fill=\"black\" stroke=\"black\" points=\"203.58,-118.35 202.68,-107.79 196.8,-116.6 203.58,-118.35\"/>\n",
       "</g>\n",
       "<!-- I -->\n",
       "<g id=\"node9\" class=\"node\">\n",
       "<title>I</title>\n",
       "<ellipse fill=\"none\" stroke=\"black\" cx=\"261\" cy=\"-162\" rx=\"27\" ry=\"18\"/>\n",
       "<text text-anchor=\"middle\" x=\"261\" y=\"-158.3\" font-family=\"Times,serif\" font-size=\"14.00\">I</text>\n",
       "</g>\n",
       "<!-- I&#45;&gt;H -->\n",
       "<g id=\"edge6\" class=\"edge\">\n",
       "<title>I&#45;&gt;H</title>\n",
       "<path fill=\"none\" stroke=\"black\" d=\"M249.02,-145.46C242.02,-136.4 233.06,-124.79 225.21,-114.61\"/>\n",
       "<polygon fill=\"black\" stroke=\"black\" points=\"227.83,-112.27 218.95,-106.49 222.29,-116.55 227.83,-112.27\"/>\n",
       "</g>\n",
       "<!-- J -->\n",
       "<g id=\"node10\" class=\"node\">\n",
       "<title>J</title>\n",
       "<ellipse fill=\"none\" stroke=\"black\" cx=\"333\" cy=\"-162\" rx=\"27\" ry=\"18\"/>\n",
       "<text text-anchor=\"middle\" x=\"333\" y=\"-158.3\" font-family=\"Times,serif\" font-size=\"14.00\">J</text>\n",
       "</g>\n",
       "<!-- K -->\n",
       "<g id=\"node11\" class=\"node\">\n",
       "<title>K</title>\n",
       "<ellipse fill=\"none\" stroke=\"black\" cx=\"369\" cy=\"-90\" rx=\"27\" ry=\"18\"/>\n",
       "<text text-anchor=\"middle\" x=\"369\" y=\"-86.3\" font-family=\"Times,serif\" font-size=\"14.00\">K</text>\n",
       "</g>\n",
       "<!-- J&#45;&gt;K -->\n",
       "<g id=\"edge7\" class=\"edge\">\n",
       "<title>J&#45;&gt;K</title>\n",
       "<path fill=\"none\" stroke=\"black\" d=\"M341.35,-144.76C345.71,-136.28 351.15,-125.71 356.04,-116.2\"/>\n",
       "<polygon fill=\"black\" stroke=\"black\" points=\"359.23,-117.64 360.7,-107.15 353.01,-114.44 359.23,-117.64\"/>\n",
       "</g>\n",
       "<!-- M -->\n",
       "<g id=\"node13\" class=\"node\">\n",
       "<title>M</title>\n",
       "<ellipse fill=\"#40e0d0\" stroke=\"black\" cx=\"369\" cy=\"-18\" rx=\"27\" ry=\"18\"/>\n",
       "<text text-anchor=\"middle\" x=\"369\" y=\"-14.3\" font-family=\"Times,serif\" font-size=\"14.00\">M</text>\n",
       "</g>\n",
       "<!-- K&#45;&gt;M -->\n",
       "<g id=\"edge9\" class=\"edge\">\n",
       "<title>K&#45;&gt;M</title>\n",
       "<path fill=\"none\" stroke=\"black\" d=\"M369,-71.7C369,-63.98 369,-54.71 369,-46.11\"/>\n",
       "<polygon fill=\"black\" stroke=\"black\" points=\"372.5,-46.1 369,-36.1 365.5,-46.1 372.5,-46.1\"/>\n",
       "</g>\n",
       "<!-- L -->\n",
       "<g id=\"node12\" class=\"node\">\n",
       "<title>L</title>\n",
       "<ellipse fill=\"none\" stroke=\"black\" cx=\"405\" cy=\"-162\" rx=\"27\" ry=\"18\"/>\n",
       "<text text-anchor=\"middle\" x=\"405\" y=\"-158.3\" font-family=\"Times,serif\" font-size=\"14.00\">L</text>\n",
       "</g>\n",
       "<!-- L&#45;&gt;K -->\n",
       "<g id=\"edge8\" class=\"edge\">\n",
       "<title>L&#45;&gt;K</title>\n",
       "<path fill=\"none\" stroke=\"black\" d=\"M396.65,-144.76C392.29,-136.28 386.85,-125.71 381.96,-116.2\"/>\n",
       "<polygon fill=\"black\" stroke=\"black\" points=\"384.99,-114.44 377.3,-107.15 378.77,-117.64 384.99,-114.44\"/>\n",
       "</g>\n",
       "</g>\n",
       "</svg>\n"
      ],
      "text/plain": [
       "<graphviz.dot.Digraph at 0x11e175d30>"
      ]
     },
     "execution_count": 39,
     "metadata": {},
     "output_type": "execute_result"
    }
   ],
   "source": [
    "make_graph(**graph1)"
   ]
  },
  {
   "cell_type": "markdown",
   "metadata": {
    "slideshow": {
     "slide_type": "fragment"
    }
   },
   "source": [
    "* The path from $G$ to $I$ is __blocked by the colliding__ on $H$\n",
    "* $\\Rightarrow G \\perp\\!\\!\\!\\perp I \\mid S=\\{\\varnothing\\}$\n",
    "* Intuition: interventions in $G$ can't affect $I$ because the node $H$ is a \"dead end\" on the effect transmission path\n",
    "\n",
    "\n",
    "* The path from $I$ to $L$ is __unblocked__ because the collision node $K$ has a conditioned descendant (child) $M$\n",
    "* $\\Rightarrow D \\not\\!\\perp\\!\\!\\!\\perp F \\mid S=\\{M\\}$\n",
    "* Intuition: different to the previous graph, the collision node \"leaks\" information into the conditioning set $S$. The path would be blocked for $S=\\{\\varnothing\\}$"
   ]
  },
  {
   "cell_type": "markdown",
   "metadata": {
    "slideshow": {
     "slide_type": "subslide"
    }
   },
   "source": [
    "### Back to the marketing application:"
   ]
  },
  {
   "cell_type": "code",
   "execution_count": 29,
   "metadata": {
    "slideshow": {
     "slide_type": "fragment"
    }
   },
   "outputs": [],
   "source": [
    "causal_graph = \"\"\"digraph {\n",
    "different_room_assigned[label=\"Different Room Assigned\"];\n",
    "is_canceled[label=\"Booking Cancelled\"];\n",
    "booking_changes[label=\"Booking Changes\"];\n",
    "previous_bookings_not_canceled[label=\"Previous Booking Retentions\"];\n",
    "days_in_waiting_list[label=\"Days in Waitlist\"];\n",
    "lead_time[label=\"Lead Time\"];\n",
    "market_segment[label=\"Market Segment\"];\n",
    "country[label=\"Country\"];\n",
    "U[label=\"Unobserved Confounders\"];\n",
    "is_repeated_guest;\n",
    "total_stay;\n",
    "guests;\n",
    "meal;\n",
    "market_segment -> lead_time;\n",
    "lead_time->is_canceled; country -> lead_time;\n",
    "different_room_assigned -> is_canceled;\n",
    "U -> different_room_assigned; U -> lead_time; U -> is_canceled;\n",
    "country->meal;\n",
    "lead_time -> days_in_waiting_list;\n",
    "days_in_waiting_list ->is_canceled;\n",
    "previous_bookings_not_canceled -> is_canceled;\n",
    "previous_bookings_not_canceled -> is_repeated_guest;\n",
    "is_repeated_guest -> is_canceled;\n",
    "total_stay -> is_canceled;\n",
    "guests -> is_canceled;\n",
    "booking_changes -> different_room_assigned; booking_changes -> is_canceled; \n",
    "}\"\"\"\n",
    "\n",
    "model = dowhy.CausalModel(\n",
    "    data=dataset,\n",
    "    graph=causal_graph.replace(\"\\n\", \" \"),\n",
    "    treatment='different_room_assigned',\n",
    "    outcome='is_canceled')"
   ]
  },
  {
   "cell_type": "code",
   "execution_count": 30,
   "metadata": {
    "slideshow": {
     "slide_type": "subslide"
    }
   },
   "outputs": [
    {
     "data": {
      "image/png": "[encoded data removed]",
      "text/plain": [
       "<IPython.core.display.Image object>"
      ]
     },
     "metadata": {},
     "output_type": "display_data"
    }
   ],
   "source": [
    "model.view_model()\n",
    "display(Image(filename=\"causal_model.png\"))"
   ]
  },
  {
   "cell_type": "markdown",
   "metadata": {
    "slideshow": {
     "slide_type": "slide"
    }
   },
   "source": [
    "## (3) Identification"
   ]
  },
  {
   "cell_type": "markdown",
   "metadata": {
    "slideshow": {
     "slide_type": "subslide"
    }
   },
   "source": [
    "(3) __Identifying__ the estimand by checking whether explicit assumptions allow to solve for the parameter(s) of interest as function(s) of exogeneous variables"
   ]
  },
  {
   "cell_type": "markdown",
   "metadata": {
    "slideshow": {
     "slide_type": "fragment"
    }
   },
   "source": [
    "### Methods for covariate selection:\n",
    "* back-door criterion\n",
    "* front-door criterion\n",
    "* instrumental variables\n",
    "* mediation techniques"
   ]
  },
  {
   "cell_type": "markdown",
   "metadata": {
    "id": "jk4JuvXCr4CO",
    "slideshow": {
     "slide_type": "notes"
    }
   },
   "source": [
    "### Identifiability (skipped in presentation)"
   ]
  },
  {
   "cell_type": "markdown",
   "metadata": {
    "id": "zi3qRp0mr8vZ",
    "slideshow": {
     "slide_type": "notes"
    }
   },
   "source": [
    "Can the controlled (post-intervention) distribution, $P(Y=y|do(x))$ be estimated from data governed by pre-intervention distribution, $P(z,x,y)$?\n",
    "\n",
    "* According to Pearl's (2010, 12) definition, __a causal effect $ß$ is identifiable__ if its estimation depends solely on the distribution of observed variables and not on the model used for the estimation (for any model that satisfies assumptions encoded in the causal graph)\\\n",
    "_Main takeaway: The model does not matter as long as assumptions are satisfied!_\n",
    "\n",
    "* It can be shown that $E(Y|do(x_0) = E(Y|X=x_0) = E(Y|f_Y(Z, x_0))$, where $f_Y$ is a model explaining $Y$, and $Z$ is a set of covariates d-connected with $Y$\n",
    "\n",
    "* In particular, causal effects are __identifiable__ if the causal graph satisfies the requirements of the __Markovian model__: (i) it is _acyclic_ (no directed cycles) and (ii) all error terms are jointly independent.\n",
    "\n",
    "* Any distribution generated by a Markovian model can be factorized as\\\n",
    "$P(v_1, \\ldots, v_n) = \\prod_iP(v_i|pa_i)$, and\\\n",
    "any distribution generated by a Markovian model with an intervention $do(X=x_0)$ can be given by truncated factorization\\\n",
    "$P(v_1, \\ldots, v_n|do(x_0)) = \\prod_{i|V_i \\notin X}P(v_i|pa_i)|_{x=x_0}$.\n",
    "\n",
    "* One can therefore easily compute the post-intervention distribution; see example below."
   ]
  },
  {
   "cell_type": "code",
   "execution_count": 19,
   "metadata": {
    "colab": {
     "base_uri": "https://localhost:8080/",
     "height": 368
    },
    "id": "ORTGgv4rZHDo",
    "outputId": "74bd3f5c-a326-4235-84ae-a7ad8d764c79",
    "scrolled": true,
    "slideshow": {
     "slide_type": "notes"
    }
   },
   "outputs": [
    {
     "data": {
      "image/svg+xml": [
       "<?xml version=\"1.0\" encoding=\"UTF-8\" standalone=\"no\"?>\n",
       "<!DOCTYPE svg PUBLIC \"-//W3C//DTD SVG 1.1//EN\"\n",
       " \"http://www.w3.org/Graphics/SVG/1.1/DTD/svg11.dtd\">\n",
       "<!-- Generated by graphviz version 2.44.1 (20200629.0846)\n",
       " -->\n",
       "<!-- Pages: 1 -->\n",
       "<svg width=\"154pt\" height=\"260pt\"\n",
       " viewBox=\"0.00 0.00 154.00 260.00\" xmlns=\"http://www.w3.org/2000/svg\" xmlns:xlink=\"http://www.w3.org/1999/xlink\">\n",
       "<g id=\"graph0\" class=\"graph\" transform=\"scale(1 1) rotate(0) translate(4 256)\">\n",
       "<polygon fill=\"white\" stroke=\"transparent\" points=\"-4,4 -4,-256 150,-256 150,4 -4,4\"/>\n",
       "<!-- A -->\n",
       "<g id=\"node1\" class=\"node\">\n",
       "<title>A</title>\n",
       "<ellipse fill=\"none\" stroke=\"black\" cx=\"38\" cy=\"-234\" rx=\"27\" ry=\"18\"/>\n",
       "<text text-anchor=\"middle\" x=\"38\" y=\"-230.3\" font-family=\"Times,serif\" font-size=\"14.00\">Z1</text>\n",
       "</g>\n",
       "<!-- X -->\n",
       "<g id=\"node2\" class=\"node\">\n",
       "<title>X</title>\n",
       "<ellipse fill=\"none\" stroke=\"black\" cx=\"27\" cy=\"-90\" rx=\"27\" ry=\"18\"/>\n",
       "<text text-anchor=\"middle\" x=\"27\" y=\"-86.3\" font-family=\"Times,serif\" font-size=\"14.00\">X</text>\n",
       "</g>\n",
       "<!-- A&#45;&gt;X -->\n",
       "<g id=\"edge1\" class=\"edge\">\n",
       "<title>A&#45;&gt;X</title>\n",
       "<path fill=\"none\" stroke=\"black\" d=\"M36.67,-215.87C34.8,-191.67 31.35,-147.21 29.12,-118.39\"/>\n",
       "<polygon fill=\"black\" stroke=\"black\" points=\"32.59,-117.89 28.33,-108.19 25.61,-118.43 32.59,-117.89\"/>\n",
       "</g>\n",
       "<!-- O -->\n",
       "<g id=\"node3\" class=\"node\">\n",
       "<title>O</title>\n",
       "<ellipse fill=\"none\" stroke=\"black\" cx=\"74\" cy=\"-162\" rx=\"27\" ry=\"18\"/>\n",
       "<text text-anchor=\"middle\" x=\"74\" y=\"-158.3\" font-family=\"Times,serif\" font-size=\"14.00\">Z3</text>\n",
       "</g>\n",
       "<!-- A&#45;&gt;O -->\n",
       "<g id=\"edge2\" class=\"edge\">\n",
       "<title>A&#45;&gt;O</title>\n",
       "<path fill=\"none\" stroke=\"black\" d=\"M46.35,-216.76C50.71,-208.28 56.15,-197.71 61.04,-188.2\"/>\n",
       "<polygon fill=\"black\" stroke=\"black\" points=\"64.23,-189.64 65.7,-179.15 58.01,-186.44 64.23,-189.64\"/>\n",
       "</g>\n",
       "<!-- Y -->\n",
       "<g id=\"node5\" class=\"node\">\n",
       "<title>Y</title>\n",
       "<ellipse fill=\"none\" stroke=\"black\" cx=\"82\" cy=\"-18\" rx=\"27\" ry=\"18\"/>\n",
       "<text text-anchor=\"middle\" x=\"82\" y=\"-14.3\" font-family=\"Times,serif\" font-size=\"14.00\">Y</text>\n",
       "</g>\n",
       "<!-- X&#45;&gt;Y -->\n",
       "<g id=\"edge7\" class=\"edge\">\n",
       "<title>X&#45;&gt;Y</title>\n",
       "<path fill=\"none\" stroke=\"black\" d=\"M38.93,-73.81C46.21,-64.55 55.66,-52.52 63.85,-42.09\"/>\n",
       "<polygon fill=\"black\" stroke=\"black\" points=\"66.66,-44.18 70.09,-34.16 61.16,-39.86 66.66,-44.18\"/>\n",
       "</g>\n",
       "<!-- O&#45;&gt;X -->\n",
       "<g id=\"edge5\" class=\"edge\">\n",
       "<title>O&#45;&gt;X</title>\n",
       "<path fill=\"none\" stroke=\"black\" d=\"M63.33,-145.12C57.45,-136.34 50.01,-125.26 43.39,-115.42\"/>\n",
       "<polygon fill=\"black\" stroke=\"black\" points=\"46.1,-113.17 37.62,-106.82 40.29,-117.07 46.1,-113.17\"/>\n",
       "</g>\n",
       "<!-- O&#45;&gt;Y -->\n",
       "<g id=\"edge6\" class=\"edge\">\n",
       "<title>O&#45;&gt;Y</title>\n",
       "<path fill=\"none\" stroke=\"black\" d=\"M74.96,-143.87C76.33,-119.67 78.83,-75.21 80.46,-46.39\"/>\n",
       "<polygon fill=\"black\" stroke=\"black\" points=\"83.96,-46.37 81.03,-36.19 76.97,-45.98 83.96,-46.37\"/>\n",
       "</g>\n",
       "<!-- B -->\n",
       "<g id=\"node4\" class=\"node\">\n",
       "<title>B</title>\n",
       "<ellipse fill=\"none\" stroke=\"black\" cx=\"119\" cy=\"-234\" rx=\"27\" ry=\"18\"/>\n",
       "<text text-anchor=\"middle\" x=\"119\" y=\"-230.3\" font-family=\"Times,serif\" font-size=\"14.00\">Z2</text>\n",
       "</g>\n",
       "<!-- B&#45;&gt;O -->\n",
       "<g id=\"edge3\" class=\"edge\">\n",
       "<title>B&#45;&gt;O</title>\n",
       "<path fill=\"none\" stroke=\"black\" d=\"M108.79,-217.12C103.15,-208.34 96.03,-197.26 89.7,-187.42\"/>\n",
       "<polygon fill=\"black\" stroke=\"black\" points=\"92.52,-185.34 84.17,-178.82 86.63,-189.13 92.52,-185.34\"/>\n",
       "</g>\n",
       "<!-- B&#45;&gt;Y -->\n",
       "<g id=\"edge4\" class=\"edge\">\n",
       "<title>B&#45;&gt;Y</title>\n",
       "<path fill=\"none\" stroke=\"black\" d=\"M117.88,-215.86C116.56,-197.88 114.02,-168.84 110,-144 104.46,-109.81 95.3,-70.95 88.97,-45.76\"/>\n",
       "<polygon fill=\"black\" stroke=\"black\" points=\"92.31,-44.69 86.45,-35.86 85.52,-46.41 92.31,-44.69\"/>\n",
       "</g>\n",
       "</g>\n",
       "</svg>\n"
      ],
      "text/plain": [
       "<graphviz.dot.Digraph at 0x11d96e310>"
      ]
     },
     "execution_count": 19,
     "metadata": {},
     "output_type": "execute_result"
    }
   ],
   "source": [
    "make_graph(**graph2) # adjusted from Pearl (2010, 15)\n",
    "\n",
    "# Z1, Z2, Z3 are confounders\n",
    "# X is the intervention variable\n",
    "# Y is the target"
   ]
  },
  {
   "cell_type": "markdown",
   "metadata": {
    "id": "U4cLe_f_sE3E",
    "slideshow": {
     "slide_type": "notes"
    }
   },
   "source": [
    "For the causal graph above,\n",
    "\n",
    "* the joint pre-intervention distribution is given by\\\n",
    "$P(x, z_1, z_2, z_3, y) = P(z_1)P(z_2)P(z_3|z_1,z_2)P(x|z_1,z_3)P(y|z_2,z_3,x)$\n",
    "\n",
    "* the joint post-intervention distribution is given by\\\n",
    "$P(z_1, z_2, z_3, y|do(x_0)) = P(z_1)P(z_2)P(z_3|z_1,z_2)P(y|z_2,z_3,x_0)$\n",
    "\n",
    "* and the causal effect can be obtained by marginalizing over Z variables\\\n",
    "$P(y|do(x_0)) = \\sum_{z_1,z_2,z_3}P(z_1)P(z_2)P(z_3|z_1,z_2)P(y|z_2,z_3,x_0)$\n",
    "\n",
    "* or, should a confounder (e.g., $Z_2$) be unmeasurable, simply by\\\n",
    "$P(y|do(x_0)) = \\sum_{z_1,z_3}P(z_1)P(z_3|z_1)P(y|z_1,z_3,x_0)$"
   ]
  },
  {
   "cell_type": "markdown",
   "metadata": {
    "slideshow": {
     "slide_type": "fragment"
    }
   },
   "source": [
    "### Back-door criterion\n",
    "\n",
    "* Isolate (by conditioning) all paths through which the data-generating process can influence the outcome $Y$ through a backward path from $X$\n",
    "* For a causal path $X\\!\\longrightarrow\\!Y$: we must go backwards from $Y$ to $X$\n",
    "\n",
    "\n",
    "* (Definition.) Find a set of nodes 𝑆 that is \"sufficient for adjustment\" s.t. <br>\n",
    "(i) no element of 𝑆 is a descendant (child) of 𝑋, and <br>\n",
    "(ii) elements of 𝑆 block all back-door paths from 𝑋 to 𝑌"
   ]
  },
  {
   "cell_type": "code",
   "execution_count": 42,
   "metadata": {
    "slideshow": {
     "slide_type": "subslide"
    }
   },
   "outputs": [
    {
     "data": {
      "image/svg+xml": [
       "<?xml version=\"1.0\" encoding=\"UTF-8\" standalone=\"no\"?>\n",
       "<!DOCTYPE svg PUBLIC \"-//W3C//DTD SVG 1.1//EN\"\n",
       " \"http://www.w3.org/Graphics/SVG/1.1/DTD/svg11.dtd\">\n",
       "<!-- Generated by graphviz version 2.44.1 (20200629.0846)\n",
       " -->\n",
       "<!-- Pages: 1 -->\n",
       "<svg width=\"154pt\" height=\"260pt\"\n",
       " viewBox=\"0.00 0.00 154.00 260.00\" xmlns=\"http://www.w3.org/2000/svg\" xmlns:xlink=\"http://www.w3.org/1999/xlink\">\n",
       "<g id=\"graph0\" class=\"graph\" transform=\"scale(1 1) rotate(0) translate(4 256)\">\n",
       "<polygon fill=\"white\" stroke=\"transparent\" points=\"-4,4 -4,-256 150,-256 150,4 -4,4\"/>\n",
       "<!-- A -->\n",
       "<g id=\"node1\" class=\"node\">\n",
       "<title>A</title>\n",
       "<ellipse fill=\"none\" stroke=\"black\" cx=\"38\" cy=\"-234\" rx=\"27\" ry=\"18\"/>\n",
       "<text text-anchor=\"middle\" x=\"38\" y=\"-230.3\" font-family=\"Times,serif\" font-size=\"14.00\">Z1</text>\n",
       "</g>\n",
       "<!-- X -->\n",
       "<g id=\"node2\" class=\"node\">\n",
       "<title>X</title>\n",
       "<ellipse fill=\"none\" stroke=\"black\" cx=\"27\" cy=\"-90\" rx=\"27\" ry=\"18\"/>\n",
       "<text text-anchor=\"middle\" x=\"27\" y=\"-86.3\" font-family=\"Times,serif\" font-size=\"14.00\">X</text>\n",
       "</g>\n",
       "<!-- A&#45;&gt;X -->\n",
       "<g id=\"edge1\" class=\"edge\">\n",
       "<title>A&#45;&gt;X</title>\n",
       "<path fill=\"none\" stroke=\"black\" d=\"M36.67,-215.87C34.8,-191.67 31.35,-147.21 29.12,-118.39\"/>\n",
       "<polygon fill=\"black\" stroke=\"black\" points=\"32.59,-117.89 28.33,-108.19 25.61,-118.43 32.59,-117.89\"/>\n",
       "</g>\n",
       "<!-- O -->\n",
       "<g id=\"node3\" class=\"node\">\n",
       "<title>O</title>\n",
       "<ellipse fill=\"none\" stroke=\"black\" cx=\"74\" cy=\"-162\" rx=\"27\" ry=\"18\"/>\n",
       "<text text-anchor=\"middle\" x=\"74\" y=\"-158.3\" font-family=\"Times,serif\" font-size=\"14.00\">Z3</text>\n",
       "</g>\n",
       "<!-- A&#45;&gt;O -->\n",
       "<g id=\"edge2\" class=\"edge\">\n",
       "<title>A&#45;&gt;O</title>\n",
       "<path fill=\"none\" stroke=\"black\" d=\"M46.35,-216.76C50.71,-208.28 56.15,-197.71 61.04,-188.2\"/>\n",
       "<polygon fill=\"black\" stroke=\"black\" points=\"64.23,-189.64 65.7,-179.15 58.01,-186.44 64.23,-189.64\"/>\n",
       "</g>\n",
       "<!-- Y -->\n",
       "<g id=\"node5\" class=\"node\">\n",
       "<title>Y</title>\n",
       "<ellipse fill=\"none\" stroke=\"black\" cx=\"82\" cy=\"-18\" rx=\"27\" ry=\"18\"/>\n",
       "<text text-anchor=\"middle\" x=\"82\" y=\"-14.3\" font-family=\"Times,serif\" font-size=\"14.00\">Y</text>\n",
       "</g>\n",
       "<!-- X&#45;&gt;Y -->\n",
       "<g id=\"edge7\" class=\"edge\">\n",
       "<title>X&#45;&gt;Y</title>\n",
       "<path fill=\"none\" stroke=\"black\" d=\"M38.93,-73.81C46.21,-64.55 55.66,-52.52 63.85,-42.09\"/>\n",
       "<polygon fill=\"black\" stroke=\"black\" points=\"66.66,-44.18 70.09,-34.16 61.16,-39.86 66.66,-44.18\"/>\n",
       "</g>\n",
       "<!-- O&#45;&gt;X -->\n",
       "<g id=\"edge5\" class=\"edge\">\n",
       "<title>O&#45;&gt;X</title>\n",
       "<path fill=\"none\" stroke=\"black\" d=\"M63.33,-145.12C57.45,-136.34 50.01,-125.26 43.39,-115.42\"/>\n",
       "<polygon fill=\"black\" stroke=\"black\" points=\"46.1,-113.17 37.62,-106.82 40.29,-117.07 46.1,-113.17\"/>\n",
       "</g>\n",
       "<!-- O&#45;&gt;Y -->\n",
       "<g id=\"edge6\" class=\"edge\">\n",
       "<title>O&#45;&gt;Y</title>\n",
       "<path fill=\"none\" stroke=\"black\" d=\"M74.96,-143.87C76.33,-119.67 78.83,-75.21 80.46,-46.39\"/>\n",
       "<polygon fill=\"black\" stroke=\"black\" points=\"83.96,-46.37 81.03,-36.19 76.97,-45.98 83.96,-46.37\"/>\n",
       "</g>\n",
       "<!-- B -->\n",
       "<g id=\"node4\" class=\"node\">\n",
       "<title>B</title>\n",
       "<ellipse fill=\"none\" stroke=\"black\" cx=\"119\" cy=\"-234\" rx=\"27\" ry=\"18\"/>\n",
       "<text text-anchor=\"middle\" x=\"119\" y=\"-230.3\" font-family=\"Times,serif\" font-size=\"14.00\">Z2</text>\n",
       "</g>\n",
       "<!-- B&#45;&gt;O -->\n",
       "<g id=\"edge3\" class=\"edge\">\n",
       "<title>B&#45;&gt;O</title>\n",
       "<path fill=\"none\" stroke=\"black\" d=\"M108.79,-217.12C103.15,-208.34 96.03,-197.26 89.7,-187.42\"/>\n",
       "<polygon fill=\"black\" stroke=\"black\" points=\"92.52,-185.34 84.17,-178.82 86.63,-189.13 92.52,-185.34\"/>\n",
       "</g>\n",
       "<!-- B&#45;&gt;Y -->\n",
       "<g id=\"edge4\" class=\"edge\">\n",
       "<title>B&#45;&gt;Y</title>\n",
       "<path fill=\"none\" stroke=\"black\" d=\"M117.88,-215.86C116.56,-197.88 114.02,-168.84 110,-144 104.46,-109.81 95.3,-70.95 88.97,-45.76\"/>\n",
       "<polygon fill=\"black\" stroke=\"black\" points=\"92.31,-44.69 86.45,-35.86 85.52,-46.41 92.31,-44.69\"/>\n",
       "</g>\n",
       "</g>\n",
       "</svg>\n"
      ],
      "text/plain": [
       "<graphviz.dot.Digraph at 0x11cd874f0>"
      ]
     },
     "execution_count": 42,
     "metadata": {},
     "output_type": "execute_result"
    }
   ],
   "source": [
    "make_graph(**graph2) # adjusted from Pearl (2010, 15) \n",
    "\n",
    "# Z1, Z2, Z3 are confounders\n",
    "# X is the intervention variable\n",
    "# Y is the target"
   ]
  },
  {
   "cell_type": "markdown",
   "metadata": {
    "slideshow": {
     "slide_type": "fragment"
    }
   },
   "source": [
    "* What would be a sufficient set for the causal graph shown above? \n",
    "* Clearly, $Z_3$ blocks the back-door path $X\\!\\longleftarrow\\!Z_3\\!\\longrightarrow\\!Y$ (we walk backwards from $X$ to $Z_3$ and then forwards to $Y$)"
   ]
  },
  {
   "cell_type": "code",
   "execution_count": 44,
   "metadata": {
    "slideshow": {
     "slide_type": "subslide"
    }
   },
   "outputs": [
    {
     "data": {
      "image/svg+xml": [
       "<?xml version=\"1.0\" encoding=\"UTF-8\" standalone=\"no\"?>\n",
       "<!DOCTYPE svg PUBLIC \"-//W3C//DTD SVG 1.1//EN\"\n",
       " \"http://www.w3.org/Graphics/SVG/1.1/DTD/svg11.dtd\">\n",
       "<!-- Generated by graphviz version 2.44.1 (20200629.0846)\n",
       " -->\n",
       "<!-- Pages: 1 -->\n",
       "<svg width=\"154pt\" height=\"260pt\"\n",
       " viewBox=\"0.00 0.00 154.00 260.00\" xmlns=\"http://www.w3.org/2000/svg\" xmlns:xlink=\"http://www.w3.org/1999/xlink\">\n",
       "<g id=\"graph0\" class=\"graph\" transform=\"scale(1 1) rotate(0) translate(4 256)\">\n",
       "<polygon fill=\"white\" stroke=\"transparent\" points=\"-4,4 -4,-256 150,-256 150,4 -4,4\"/>\n",
       "<!-- A -->\n",
       "<g id=\"node1\" class=\"node\">\n",
       "<title>A</title>\n",
       "<ellipse fill=\"none\" stroke=\"black\" cx=\"38\" cy=\"-234\" rx=\"27\" ry=\"18\"/>\n",
       "<text text-anchor=\"middle\" x=\"38\" y=\"-230.3\" font-family=\"Times,serif\" font-size=\"14.00\">Z1</text>\n",
       "</g>\n",
       "<!-- X -->\n",
       "<g id=\"node2\" class=\"node\">\n",
       "<title>X</title>\n",
       "<ellipse fill=\"none\" stroke=\"black\" cx=\"27\" cy=\"-90\" rx=\"27\" ry=\"18\"/>\n",
       "<text text-anchor=\"middle\" x=\"27\" y=\"-86.3\" font-family=\"Times,serif\" font-size=\"14.00\">X</text>\n",
       "</g>\n",
       "<!-- A&#45;&gt;X -->\n",
       "<g id=\"edge1\" class=\"edge\">\n",
       "<title>A&#45;&gt;X</title>\n",
       "<path fill=\"none\" stroke=\"black\" d=\"M36.67,-215.87C34.8,-191.67 31.35,-147.21 29.12,-118.39\"/>\n",
       "<polygon fill=\"black\" stroke=\"black\" points=\"32.59,-117.89 28.33,-108.19 25.61,-118.43 32.59,-117.89\"/>\n",
       "</g>\n",
       "<!-- O -->\n",
       "<g id=\"node3\" class=\"node\">\n",
       "<title>O</title>\n",
       "<ellipse fill=\"#40e0d0\" stroke=\"black\" cx=\"74\" cy=\"-162\" rx=\"27\" ry=\"18\"/>\n",
       "<text text-anchor=\"middle\" x=\"74\" y=\"-158.3\" font-family=\"Times,serif\" font-size=\"14.00\">Z3</text>\n",
       "</g>\n",
       "<!-- A&#45;&gt;O -->\n",
       "<g id=\"edge2\" class=\"edge\">\n",
       "<title>A&#45;&gt;O</title>\n",
       "<path fill=\"none\" stroke=\"black\" d=\"M46.35,-216.76C50.71,-208.28 56.15,-197.71 61.04,-188.2\"/>\n",
       "<polygon fill=\"black\" stroke=\"black\" points=\"64.23,-189.64 65.7,-179.15 58.01,-186.44 64.23,-189.64\"/>\n",
       "</g>\n",
       "<!-- Y -->\n",
       "<g id=\"node5\" class=\"node\">\n",
       "<title>Y</title>\n",
       "<ellipse fill=\"none\" stroke=\"black\" cx=\"82\" cy=\"-18\" rx=\"27\" ry=\"18\"/>\n",
       "<text text-anchor=\"middle\" x=\"82\" y=\"-14.3\" font-family=\"Times,serif\" font-size=\"14.00\">Y</text>\n",
       "</g>\n",
       "<!-- X&#45;&gt;Y -->\n",
       "<g id=\"edge7\" class=\"edge\">\n",
       "<title>X&#45;&gt;Y</title>\n",
       "<path fill=\"none\" stroke=\"black\" d=\"M38.93,-73.81C46.21,-64.55 55.66,-52.52 63.85,-42.09\"/>\n",
       "<polygon fill=\"black\" stroke=\"black\" points=\"66.66,-44.18 70.09,-34.16 61.16,-39.86 66.66,-44.18\"/>\n",
       "</g>\n",
       "<!-- O&#45;&gt;X -->\n",
       "<g id=\"edge5\" class=\"edge\">\n",
       "<title>O&#45;&gt;X</title>\n",
       "<path fill=\"none\" stroke=\"black\" d=\"M63.33,-145.12C57.45,-136.34 50.01,-125.26 43.39,-115.42\"/>\n",
       "<polygon fill=\"black\" stroke=\"black\" points=\"46.1,-113.17 37.62,-106.82 40.29,-117.07 46.1,-113.17\"/>\n",
       "</g>\n",
       "<!-- O&#45;&gt;Y -->\n",
       "<g id=\"edge6\" class=\"edge\">\n",
       "<title>O&#45;&gt;Y</title>\n",
       "<path fill=\"none\" stroke=\"black\" d=\"M74.96,-143.87C76.33,-119.67 78.83,-75.21 80.46,-46.39\"/>\n",
       "<polygon fill=\"black\" stroke=\"black\" points=\"83.96,-46.37 81.03,-36.19 76.97,-45.98 83.96,-46.37\"/>\n",
       "</g>\n",
       "<!-- B -->\n",
       "<g id=\"node4\" class=\"node\">\n",
       "<title>B</title>\n",
       "<ellipse fill=\"none\" stroke=\"black\" cx=\"119\" cy=\"-234\" rx=\"27\" ry=\"18\"/>\n",
       "<text text-anchor=\"middle\" x=\"119\" y=\"-230.3\" font-family=\"Times,serif\" font-size=\"14.00\">Z2</text>\n",
       "</g>\n",
       "<!-- B&#45;&gt;O -->\n",
       "<g id=\"edge3\" class=\"edge\">\n",
       "<title>B&#45;&gt;O</title>\n",
       "<path fill=\"none\" stroke=\"black\" d=\"M108.79,-217.12C103.15,-208.34 96.03,-197.26 89.7,-187.42\"/>\n",
       "<polygon fill=\"black\" stroke=\"black\" points=\"92.52,-185.34 84.17,-178.82 86.63,-189.13 92.52,-185.34\"/>\n",
       "</g>\n",
       "<!-- B&#45;&gt;Y -->\n",
       "<g id=\"edge4\" class=\"edge\">\n",
       "<title>B&#45;&gt;Y</title>\n",
       "<path fill=\"none\" stroke=\"black\" d=\"M117.88,-215.86C116.56,-197.88 114.02,-168.84 110,-144 104.46,-109.81 95.3,-70.95 88.97,-45.76\"/>\n",
       "<polygon fill=\"black\" stroke=\"black\" points=\"92.31,-44.69 86.45,-35.86 85.52,-46.41 92.31,-44.69\"/>\n",
       "</g>\n",
       "</g>\n",
       "</svg>\n"
      ],
      "text/plain": [
       "<graphviz.dot.Digraph at 0x11cd87be0>"
      ]
     },
     "execution_count": 44,
     "metadata": {},
     "output_type": "execute_result"
    }
   ],
   "source": [
    "make_graph(**graph2, highlight=['O'])"
   ]
  },
  {
   "cell_type": "markdown",
   "metadata": {
    "slideshow": {
     "slide_type": "fragment"
    }
   },
   "source": [
    "* Now that $Z_3$ is in the conditioning set, another back-door \"opens\" (by conditioning on the collision node):  $X\\!\\longleftarrow\\!Z_1\\!\\longrightarrow\\!Z_3\\!\\longleftarrow\\!Z_2\\!\\longrightarrow\\!Y$\n",
    "* We can \"close\" it by conditioning on $Z_1$ (or $Z_3$)"
   ]
  },
  {
   "cell_type": "code",
   "execution_count": 45,
   "metadata": {
    "slideshow": {
     "slide_type": "subslide"
    }
   },
   "outputs": [
    {
     "data": {
      "image/svg+xml": [
       "<?xml version=\"1.0\" encoding=\"UTF-8\" standalone=\"no\"?>\n",
       "<!DOCTYPE svg PUBLIC \"-//W3C//DTD SVG 1.1//EN\"\n",
       " \"http://www.w3.org/Graphics/SVG/1.1/DTD/svg11.dtd\">\n",
       "<!-- Generated by graphviz version 2.44.1 (20200629.0846)\n",
       " -->\n",
       "<!-- Pages: 1 -->\n",
       "<svg width=\"154pt\" height=\"260pt\"\n",
       " viewBox=\"0.00 0.00 154.00 260.00\" xmlns=\"http://www.w3.org/2000/svg\" xmlns:xlink=\"http://www.w3.org/1999/xlink\">\n",
       "<g id=\"graph0\" class=\"graph\" transform=\"scale(1 1) rotate(0) translate(4 256)\">\n",
       "<polygon fill=\"white\" stroke=\"transparent\" points=\"-4,4 -4,-256 150,-256 150,4 -4,4\"/>\n",
       "<!-- A -->\n",
       "<g id=\"node1\" class=\"node\">\n",
       "<title>A</title>\n",
       "<ellipse fill=\"#40e0d0\" stroke=\"black\" cx=\"38\" cy=\"-234\" rx=\"27\" ry=\"18\"/>\n",
       "<text text-anchor=\"middle\" x=\"38\" y=\"-230.3\" font-family=\"Times,serif\" font-size=\"14.00\">Z1</text>\n",
       "</g>\n",
       "<!-- X -->\n",
       "<g id=\"node2\" class=\"node\">\n",
       "<title>X</title>\n",
       "<ellipse fill=\"none\" stroke=\"black\" cx=\"27\" cy=\"-90\" rx=\"27\" ry=\"18\"/>\n",
       "<text text-anchor=\"middle\" x=\"27\" y=\"-86.3\" font-family=\"Times,serif\" font-size=\"14.00\">X</text>\n",
       "</g>\n",
       "<!-- A&#45;&gt;X -->\n",
       "<g id=\"edge1\" class=\"edge\">\n",
       "<title>A&#45;&gt;X</title>\n",
       "<path fill=\"none\" stroke=\"black\" d=\"M36.67,-215.87C34.8,-191.67 31.35,-147.21 29.12,-118.39\"/>\n",
       "<polygon fill=\"black\" stroke=\"black\" points=\"32.59,-117.89 28.33,-108.19 25.61,-118.43 32.59,-117.89\"/>\n",
       "</g>\n",
       "<!-- O -->\n",
       "<g id=\"node3\" class=\"node\">\n",
       "<title>O</title>\n",
       "<ellipse fill=\"#40e0d0\" stroke=\"black\" cx=\"74\" cy=\"-162\" rx=\"27\" ry=\"18\"/>\n",
       "<text text-anchor=\"middle\" x=\"74\" y=\"-158.3\" font-family=\"Times,serif\" font-size=\"14.00\">Z3</text>\n",
       "</g>\n",
       "<!-- A&#45;&gt;O -->\n",
       "<g id=\"edge2\" class=\"edge\">\n",
       "<title>A&#45;&gt;O</title>\n",
       "<path fill=\"none\" stroke=\"black\" d=\"M46.35,-216.76C50.71,-208.28 56.15,-197.71 61.04,-188.2\"/>\n",
       "<polygon fill=\"black\" stroke=\"black\" points=\"64.23,-189.64 65.7,-179.15 58.01,-186.44 64.23,-189.64\"/>\n",
       "</g>\n",
       "<!-- Y -->\n",
       "<g id=\"node5\" class=\"node\">\n",
       "<title>Y</title>\n",
       "<ellipse fill=\"none\" stroke=\"black\" cx=\"82\" cy=\"-18\" rx=\"27\" ry=\"18\"/>\n",
       "<text text-anchor=\"middle\" x=\"82\" y=\"-14.3\" font-family=\"Times,serif\" font-size=\"14.00\">Y</text>\n",
       "</g>\n",
       "<!-- X&#45;&gt;Y -->\n",
       "<g id=\"edge7\" class=\"edge\">\n",
       "<title>X&#45;&gt;Y</title>\n",
       "<path fill=\"none\" stroke=\"black\" d=\"M38.93,-73.81C46.21,-64.55 55.66,-52.52 63.85,-42.09\"/>\n",
       "<polygon fill=\"black\" stroke=\"black\" points=\"66.66,-44.18 70.09,-34.16 61.16,-39.86 66.66,-44.18\"/>\n",
       "</g>\n",
       "<!-- O&#45;&gt;X -->\n",
       "<g id=\"edge5\" class=\"edge\">\n",
       "<title>O&#45;&gt;X</title>\n",
       "<path fill=\"none\" stroke=\"black\" d=\"M63.33,-145.12C57.45,-136.34 50.01,-125.26 43.39,-115.42\"/>\n",
       "<polygon fill=\"black\" stroke=\"black\" points=\"46.1,-113.17 37.62,-106.82 40.29,-117.07 46.1,-113.17\"/>\n",
       "</g>\n",
       "<!-- O&#45;&gt;Y -->\n",
       "<g id=\"edge6\" class=\"edge\">\n",
       "<title>O&#45;&gt;Y</title>\n",
       "<path fill=\"none\" stroke=\"black\" d=\"M74.96,-143.87C76.33,-119.67 78.83,-75.21 80.46,-46.39\"/>\n",
       "<polygon fill=\"black\" stroke=\"black\" points=\"83.96,-46.37 81.03,-36.19 76.97,-45.98 83.96,-46.37\"/>\n",
       "</g>\n",
       "<!-- B -->\n",
       "<g id=\"node4\" class=\"node\">\n",
       "<title>B</title>\n",
       "<ellipse fill=\"none\" stroke=\"black\" cx=\"119\" cy=\"-234\" rx=\"27\" ry=\"18\"/>\n",
       "<text text-anchor=\"middle\" x=\"119\" y=\"-230.3\" font-family=\"Times,serif\" font-size=\"14.00\">Z2</text>\n",
       "</g>\n",
       "<!-- B&#45;&gt;O -->\n",
       "<g id=\"edge3\" class=\"edge\">\n",
       "<title>B&#45;&gt;O</title>\n",
       "<path fill=\"none\" stroke=\"black\" d=\"M108.79,-217.12C103.15,-208.34 96.03,-197.26 89.7,-187.42\"/>\n",
       "<polygon fill=\"black\" stroke=\"black\" points=\"92.52,-185.34 84.17,-178.82 86.63,-189.13 92.52,-185.34\"/>\n",
       "</g>\n",
       "<!-- B&#45;&gt;Y -->\n",
       "<g id=\"edge4\" class=\"edge\">\n",
       "<title>B&#45;&gt;Y</title>\n",
       "<path fill=\"none\" stroke=\"black\" d=\"M117.88,-215.86C116.56,-197.88 114.02,-168.84 110,-144 104.46,-109.81 95.3,-70.95 88.97,-45.76\"/>\n",
       "<polygon fill=\"black\" stroke=\"black\" points=\"92.31,-44.69 86.45,-35.86 85.52,-46.41 92.31,-44.69\"/>\n",
       "</g>\n",
       "</g>\n",
       "</svg>\n"
      ],
      "text/plain": [
       "<graphviz.dot.Digraph at 0x11e1757f0>"
      ]
     },
     "execution_count": 45,
     "metadata": {},
     "output_type": "execute_result"
    }
   ],
   "source": [
    "make_graph(**graph2, highlight=['O', 'A'])"
   ]
  },
  {
   "cell_type": "markdown",
   "metadata": {
    "slideshow": {
     "slide_type": "fragment"
    }
   },
   "source": [
    "Finally, holding $S = \\{Z_1, Z_3\\}$ constant, we can estimate the \"true\" causal effect of $X$ on $Y$.\n",
    "\n",
    "More formally, the causal effect expression can be rewritten as $P(Y|do(X)) = \\sum_{S} P(Y|X=x, S=s)P(S=s)$, where $S$ denotes the conditioning set.\n",
    "\n",
    "The identification of a sufficient set to condition on is what happens in the `model.identify_effect()` step of the doWhy-pipeline."
   ]
  },
  {
   "cell_type": "markdown",
   "metadata": {
    "slideshow": {
     "slide_type": "subslide"
    }
   },
   "source": [
    "### Back to the marketing application:"
   ]
  },
  {
   "cell_type": "code",
   "execution_count": 92,
   "metadata": {
    "slideshow": {
     "slide_type": "fragment"
    }
   },
   "outputs": [
    {
     "name": "stdout",
     "output_type": "stream",
     "text": [
      "A total of 257 estimands identified for this model. \n",
      "First back-door estimand:\n",
      "\n",
      "> Unconfoundedness assumptions:\n",
      "If U→{different_room_assigned} and U→is_canceled then P(is_canceled|different_room_assigned,booking_changes,lead_time,U) = P(is_canceled|different_room_assigned,booking_changes,lead_time)\n",
      "\n",
      "> Estimand:\n",
      "\n"
     ]
    },
    {
     "data": {
      "image/png": "[encoded data removed]",
      "text/latex": [
       "$\\displaystyle \\frac{d}{d \\left[\\begin{matrix}different_{room assigned}\\end{matrix}\\right]} Expectation\\left(is_{canceled|booking changes,lead time}\\right)$"
      ],
      "text/plain": [
       "            d                                                                 \n",
       "──────────────────────────(Expectation(is_canceled|booking_changes,lead_time))\n",
       "d[different_room_assigned]                                                    "
      ]
     },
     "metadata": {},
     "output_type": "display_data"
    }
   ],
   "source": [
    "identified_estimand = model.identify_effect(proceed_when_unidentifiable=True)\n",
    "pretty_estimand_output(identified_estimand)\n",
    "\n",
    "# https://github.com/microsoft/dowhy/issues/198#issuecomment-735269793\n",
    "# 1 back-door estimand in dowhy==0.4; 257 in dowhy==0.5"
   ]
  },
  {
   "cell_type": "markdown",
   "metadata": {
    "slideshow": {
     "slide_type": "slide"
    }
   },
   "source": [
    "## (4) Estimation"
   ]
  },
  {
   "cell_type": "markdown",
   "metadata": {
    "slideshow": {
     "slide_type": "subslide"
    }
   },
   "source": [
    "### Statistical estimation\n",
    "\n",
    "* __Treatment assignment__: Propensity-based Stratification, Propensity Score Matching, Inverse Propensity Weighting\n",
    "* __Outcome model__: Linear Regression, Generalized Linear Models\n",
    "* __Instrumental variable equation__: Binary Instrument/Wald Estimator, Two-stage least squares, Regression discontinuity\n",
    "* For front-door criterion and general mediation: Two-stage linear regression"
   ]
  },
  {
   "cell_type": "markdown",
   "metadata": {
    "slideshow": {
     "slide_type": "subslide"
    }
   },
   "source": [
    "### Target effect\n",
    "\n",
    "* ATE: Average Treatment Effect\n",
    "* ATT: ATE on Treated: those who were assigned a different room\n",
    "* ATC: ATE on Control: those who were not assigned a different room\n",
    "\n",
    "\n",
    "* ATE = P(customer cancels if a different room assigned) – P(customer cancels if no different room assigned)\n",
    "* ATE = observable effect – counterfactual effect\n",
    "* If bias=0, then ATE = observable effect"
   ]
  },
  {
   "cell_type": "code",
   "execution_count": 35,
   "metadata": {
    "slideshow": {
     "slide_type": "subslide"
    }
   },
   "outputs": [
    {
     "name": "stdout",
     "output_type": "stream",
     "text": [
      "*** Causal Estimate ***\n",
      "\n",
      "## Identified estimand\n",
      "Estimand type: nonparametric-ate\n",
      "\n",
      "## Realized estimand\n",
      "b: is_canceled~different_room_assigned+meal+booking_changes+total_stay+days_in_waiting_list+guests+lead_time+previous_bookings_not_canceled+country+market_segment+is_repeated_guest\n",
      "Target units: ate\n",
      "\n",
      "## Estimate\n",
      "Mean value: -0.3346064358628692\n",
      "\n"
     ]
    }
   ],
   "source": [
    "with warnings.catch_warnings():\n",
    "    warnings.simplefilter('ignore')\n",
    "    \n",
    "    estimate = model.estimate_effect(\n",
    "        identified_estimand,\n",
    "        method_name=\"backdoor.propensity_score_stratification\",\n",
    "        target_units=\"ate\")\n",
    "\n",
    "print(estimate)"
   ]
  },
  {
   "cell_type": "markdown",
   "metadata": {
    "slideshow": {
     "slide_type": "fragment"
    }
   },
   "source": [
    "Interpretation: On average, hotel bookings are 33.5% less likely to be canceled if a guest has been assigned a different room when chosen during the original booking."
   ]
  },
  {
   "cell_type": "markdown",
   "metadata": {
    "slideshow": {
     "slide_type": "subslide"
    }
   },
   "source": [
    "### How is this possible? \n",
    "* 1) wrong assumptions encoded in the graph\n",
    "* 2) counterfactual > observable effect\n",
    "* 3) hotels discriminate against customers less likely to cancel their trip (e.g. business travelers)\n",
    "* 4) real-world data"
   ]
  },
  {
   "cell_type": "markdown",
   "metadata": {
    "slideshow": {
     "slide_type": "slide"
    }
   },
   "source": [
    "## (5) Robustness checks"
   ]
  },
  {
   "cell_type": "markdown",
   "metadata": {
    "id": "3eXJ0hXVbiFw",
    "slideshow": {
     "slide_type": "subslide"
    }
   },
   "source": [
    "### Robustness checks / Model refutation: \n",
    "\n",
    "- __Add Random Common Cause__: adding randomly drawn and independent covariates as common causes into the data and running the analysis. As a result, the estimate shouldn't change. If it changes, the check failed.\n",
    "- __Placebo Treatment__: randomly assignsing any independent covariate as a treatment, which replaces the true treatment variable and running the analysis. The estimate causal effect should go to 0. This would mean, that our assumptions are correct.\n",
    "- __Dummy Outcome__: replacing the true outcome variable with an independent random variable. \n",
    "The estimated caual effect should go to 0. This would again mean, that our assumptions are correct.\n",
    "- __Add Unobserved Common Causes__: adding an additional confounder to the dataset that is correlated with the treatment and the outcome. The sensitivity of the estimate should be low. If its high, the check has failed.\n",
    "- __Data Subsets Validation__: replacing the dataset with a randomly created subset. The estimated effect shouldn't change or vary significantly within the procedure of replacing the subsets with each other. If there is low variation and no significant change, the assumptions are correct. \n",
    "- __Bootstrap Validation__: replacing the given dataset with bootstrapped samples from the same dataset. The estimated effect shouldn't change significantly.\n",
    "\n",
    "(Sharma and Kiciman, 2020, Dixit, 2020)"
   ]
  },
  {
   "cell_type": "code",
   "execution_count": 18,
   "metadata": {
    "colab": {
     "base_uri": "https://localhost:8080/"
    },
    "id": "R5NephZTsPds",
    "outputId": "0eeaee2b-3e26-497e-f32d-7a03a3b26045",
    "slideshow": {
     "slide_type": "subslide"
    }
   },
   "outputs": [
    {
     "name": "stdout",
     "output_type": "stream",
     "text": [
      "random_common_cause: Effect should not change significantly -- PASSED with tolerance of +/- 0.1\n",
      "effect: -0.34 -> -0.34\n",
      "\n",
      "placebo_treatment_refuter: Effect should go to zero -- PASSED with tolerance of +/- 0.1\n",
      "effect: -0.34 -> 0.00\n",
      "\n",
      "dummy_outcome_refuter: Effect should go to zero -- PASSED with tolerance of +/- 0.1\n",
      "effect: -0.34 -> 0.00\n",
      "\n",
      "data_subset_refuter: Effect should not change significantly -- PASSED with tolerance of +/- 0.1\n",
      "effect: -0.34 -> -0.34\n",
      "\n",
      "bootstrap_refuter: Effect should not change significantly -- PASSED with tolerance of +/- 0.1\n",
      "effect: -0.34 -> -0.34\n",
      "\n"
     ]
    }
   ],
   "source": [
    "refuter = CausalRefuter(**refutation_config)\n",
    "refuter.refute(model, identified_estimand, estimate)"
   ]
  },
  {
   "cell_type": "markdown",
   "metadata": {
    "id": "Exp7N8HcMI6z",
    "slideshow": {
     "slide_type": "fragment"
    }
   },
   "source": [
    "The effects change exactly as expected compared to the original model; this is often not the case. It is up to the analyst to decide what deviance from the expected effect change is to be expected."
   ]
  },
  {
   "cell_type": "markdown",
   "metadata": {
    "slideshow": {
     "slide_type": "slide"
    }
   },
   "source": [
    "## Conclusions"
   ]
  },
  {
   "cell_type": "markdown",
   "metadata": {
    "id": "rZHhoo_yPMdd",
    "slideshow": {
     "slide_type": "subslide"
    }
   },
   "source": [
    "### Pearl's criticism in one sentence\n",
    "\n",
    "- \"_Causal conclusions are only as valid as the causal assumptions upon which they rest._\" (Pearl, 2010)\n",
    "- ⠀+ implicit covariate selection"
   ]
  },
  {
   "cell_type": "markdown",
   "metadata": {
    "slideshow": {
     "slide_type": "fragment"
    }
   },
   "source": [
    "### Pearl's contribution in one sentence\n",
    "\n",
    "- Graphical models assist the researcher in specifying the (non-)experimental setup, clearly formulating the research question and structuring the research process"
   ]
  },
  {
   "cell_type": "markdown",
   "metadata": {
    "slideshow": {
     "slide_type": "fragment"
    }
   },
   "source": [
    "### Key message\n",
    "\n",
    "- Pearl's graphical theory of causality should be your go-to gateway to addressing causal claims"
   ]
  },
  {
   "cell_type": "markdown",
   "metadata": {
    "slideshow": {
     "slide_type": "subslide"
    }
   },
   "source": [
    "### Then why is Pearl's framework so unknown/unpopular?\n",
    "\n",
    "- Difficulty for/reluctance of \"traditionally\" trained statistician to leave their parametric/functional world of probability calculus\n",
    "- Unawareness of structural equations modelling\n",
    "- Missing discipline to clearly formulate experiential knowledge as causal assumptions in a scientic notation\n",
    "- Notation"
   ]
  },
  {
   "cell_type": "markdown",
   "metadata": {
    "slideshow": {
     "slide_type": "subslide"
    }
   },
   "source": [
    "### Outlook: _Causal inference beyond the potential outcome framework_\n",
    "\n",
    "- A very broad topic with a lot of underlying theory\n",
    "\n",
    "\n",
    "- Cross-sectional causal inference $\\neq$ dynamic causality (time series, stationarity!)\n",
    "- Dynamic causality: causal inference & treatment ~ impulse response functions from e.g. SVAR models\n",
    "- Classical research questions from macroeconomics, e.g. causal effects of monetary policy on GDP, consumption etc. (Romer-Romer shocks, 2004)"
   ]
  },
  {
   "cell_type": "markdown",
   "metadata": {
    "heading_collapsed": true,
    "id": "RTsgCecWe0Sz",
    "slideshow": {
     "slide_type": "skip"
    }
   },
   "source": [
    "# 2nd example: True causal effect in a linear model"
   ]
  },
  {
   "cell_type": "markdown",
   "metadata": {
    "hidden": true,
    "id": "mbWBSNtMhGif",
    "slideshow": {
     "slide_type": "skip"
    }
   },
   "source": [
    "To give a first example, let's compare the standard approach of a linear regression (where we already impose a functional form - linearity and additivity - !) with one starting with a graphical representation that translates into the familiar linear regression specification."
   ]
  },
  {
   "cell_type": "code",
   "execution_count": 6,
   "metadata": {
    "colab": {
     "base_uri": "https://localhost:8080/",
     "height": 142
    },
    "hidden": true,
    "id": "8DjpUL7xho8j",
    "outputId": "98a579e2-1e6e-42a4-d25a-0ab241404325",
    "slideshow": {
     "slide_type": "skip"
    }
   },
   "outputs": [
    {
     "data": {
      "text/html": [
       "<div>\n",
       "<style scoped>\n",
       "    .dataframe tbody tr th:only-of-type {\n",
       "        vertical-align: middle;\n",
       "    }\n",
       "\n",
       "    .dataframe tbody tr th {\n",
       "        vertical-align: top;\n",
       "    }\n",
       "\n",
       "    .dataframe thead th {\n",
       "        text-align: right;\n",
       "    }\n",
       "</style>\n",
       "<table border=\"1\" class=\"dataframe\">\n",
       "  <thead>\n",
       "    <tr style=\"text-align: right;\">\n",
       "      <th></th>\n",
       "      <th>hours_studied</th>\n",
       "      <th>points_achieved</th>\n",
       "    </tr>\n",
       "  </thead>\n",
       "  <tbody>\n",
       "    <tr>\n",
       "      <th>0</th>\n",
       "      <td>0.0</td>\n",
       "      <td>0.132453</td>\n",
       "    </tr>\n",
       "    <tr>\n",
       "      <th>1</th>\n",
       "      <td>1.0</td>\n",
       "      <td>0.927173</td>\n",
       "    </tr>\n",
       "    <tr>\n",
       "      <th>2</th>\n",
       "      <td>-1.0</td>\n",
       "      <td>-1.059626</td>\n",
       "    </tr>\n",
       "  </tbody>\n",
       "</table>\n",
       "</div>"
      ],
      "text/plain": [
       "   hours_studied  points_achieved\n",
       "0            0.0         0.132453\n",
       "1            1.0         0.927173\n",
       "2           -1.0        -1.059626"
      ]
     },
     "execution_count": 6,
     "metadata": {},
     "output_type": "execute_result"
    }
   ],
   "source": [
    "def standardize(data, ddof=1):\n",
    "    \"\"\"standardizes a matrx using `ddof` = 1 for an unbiased estimator of the sample variance\"\"\"\n",
    "    return (data - np.mean(data))/np.std(data, ddof=ddof)\n",
    "\n",
    "x = standardize(np.array([2, 4, 0])) # no intercept\n",
    "y = standardize(np.array([4, 6, 1]))\n",
    "\n",
    "df = pd.DataFrame({\n",
    "    'hours_studied': x,\n",
    "    'points_achieved': y\n",
    "})\n",
    "\n",
    "df"
   ]
  },
  {
   "cell_type": "code",
   "execution_count": 7,
   "metadata": {
    "colab": {
     "base_uri": "https://localhost:8080/",
     "height": 268
    },
    "hidden": true,
    "id": "sWKq-mHBin8C",
    "outputId": "89cfcf59-e6b4-445f-971d-cac26fb1972e",
    "slideshow": {
     "slide_type": "skip"
    }
   },
   "outputs": [
    {
     "data": {
      "image/png": "[encoded data removed]",
      "text/plain": [
       "<IPython.core.display.Image object>"
      ]
     },
     "metadata": {},
     "output_type": "display_data"
    }
   ],
   "source": [
    "# Step 1: Define & assume — encoding assumptions in a causal graph\n",
    "\n",
    "causal_graph = \"\"\"digraph {\n",
    "hours_studied;\n",
    "points_achieved;\n",
    "U[label=\"Unobserved Confounders\"]; \n",
    "hours_studied -> points_achieved;\n",
    "U->hours_studied; U->points_achieved;\n",
    "}\"\"\"\n",
    "\n",
    "model = dowhy.CausalModel(\n",
    "    data=df,\n",
    "    graph=causal_graph.replace(\"\\n\", \" \"),\n",
    "    treatment=\"hours_studied\",\n",
    "    outcome=\"points_achieved\"\n",
    ")\n",
    "\n",
    "model.view_model()\n",
    "from IPython.display import Image, display\n",
    "display(Image(filename='causal_model.png'))"
   ]
  },
  {
   "cell_type": "markdown",
   "metadata": {
    "hidden": true,
    "id": "xK_uidNYGaly",
    "slideshow": {
     "slide_type": "skip"
    }
   },
   "source": [
    "From the graphical model the implicit structural representation reads\n",
    "\n",
    "$ f_{X}(u_{X}) = X = u_X \\\\\n",
    "f_{Y}(X, u_Y) = Y = \\beta X + u_Y$\n",
    "\n",
    "Note that without the graph the directionality is ambiguous (e.g. rearrange X in terms of Y)! To overcome this notational shortcoming IV estimation has been proposed that injects directionality through exclusion assumptions and is e.g.operationalised through 2SLS which uncorrelates the error terms through the endogeneous variable."
   ]
  },
  {
   "cell_type": "code",
   "execution_count": 8,
   "metadata": {
    "colab": {
     "base_uri": "https://localhost:8080/"
    },
    "hidden": true,
    "id": "aYmnstLUhEau",
    "outputId": "b14d9dc9-72bb-46a6-cd00-e652ae356c92",
    "slideshow": {
     "slide_type": "skip"
    }
   },
   "outputs": [
    {
     "name": "stdout",
     "output_type": "stream",
     "text": [
      "Estimand type: nonparametric-ate\n",
      "\n",
      "### Estimand : 1\n",
      "Estimand name: backdoor1 (Default)\n",
      "Estimand expression:\n",
      "       d                                      \n",
      "────────────────(Expectation(points_achieved))\n",
      "d[hours_studied]                              \n",
      "Estimand assumption 1, Unconfoundedness: If U→{hours_studied} and U→points_achieved then P(points_achieved|hours_studied,,U) = P(points_achieved|hours_studied,)\n",
      "\n",
      "### Estimand : 2\n",
      "Estimand name: iv\n",
      "No such variable found!\n",
      "\n",
      "### Estimand : 3\n",
      "Estimand name: frontdoor\n",
      "No such variable found!\n",
      "\n"
     ]
    }
   ],
   "source": [
    "# Step 2: Identify\n",
    "\n",
    "identified_estimand = model.identify_effect(proceed_when_unidentifiable=True)\n",
    "print(identified_estimand)"
   ]
  },
  {
   "cell_type": "markdown",
   "metadata": {
    "hidden": true,
    "id": "jkDSJHuaGjG_",
    "slideshow": {
     "slide_type": "skip"
    }
   },
   "source": [
    "Note that $Cov(X,Y) = \\beta$ (since $Cov(X, u_Y) = Cov(u_X, u_Y) = 0$).\n",
    "The latter condition is an optimality condition (by construction) that comes from the FONC of the minimized least-squares criterion and gives you k equations for k unknown parameters - identifyability guaranteed (and no dependence of $\\beta$ on the error term $u_Y$ but of **$X$ and $y$ only**). Pearl complains that this condition has been routinely used, \"often thoughtlessly, to justify the estimation of structural coefficients by regression techniques\" (Pearl, 2010). The key point is that this **optimality condition shouldn't be justified by an optimization problem** (which is only needed for quantification) but **by an underlying model to define the axioms used.** Moreover, the effect coefficient $\\beta$ is not only interpreted as causal but it's **proven** to be from the structural equations. Thus, note that background factors in structural equations differ fundamentally from residual terms in regression equations in their interpretation and construction. However, actual actual **ability of estimation** may be impeded by correlatedness of error terms.\n",
    "Endogeneity (OVB, attentuation bias, simultaneity bias e.g. demand<-->supply) leads to biased estimates and inconsistency, violating standard (asymptotic) inference."
   ]
  },
  {
   "cell_type": "code",
   "execution_count": 9,
   "metadata": {
    "colab": {
     "base_uri": "https://localhost:8080/"
    },
    "hidden": true,
    "id": "iXCsrVGAjTUd",
    "outputId": "cffb633e-d3d8-4c0d-f3d6-9764c3e08d41",
    "slideshow": {
     "slide_type": "skip"
    }
   },
   "outputs": [
    {
     "name": "stdout",
     "output_type": "stream",
     "text": [
      "*** Causal Estimate ***\n",
      "\n",
      "## Identified estimand\n",
      "Estimand type: nonparametric-ate\n",
      "\n",
      "## Realized estimand\n",
      "b: points_achieved~hours_studied\n",
      "Target units: ate\n",
      "\n",
      "## Estimate\n",
      "Mean value: 0.9933992677987824\n",
      "p-value: [0.0731864]\n",
      "\n"
     ]
    },
    {
     "name": "stderr",
     "output_type": "stream",
     "text": [
      "/Users/gleb/CODING/informationsystems-causalinference-pearl/venv-IS/lib/python3.8/site-packages/statsmodels/stats/stattools.py:74: ValueWarning: omni_normtest is not valid with less than 8 observations; 3 samples were given.\n",
      "  warn(\"omni_normtest is not valid with less than 8 observations; %i \"\n"
     ]
    }
   ],
   "source": [
    "# Step 3: Estimate\n",
    "\n",
    "estimate = model.estimate_effect(\n",
    "    identified_estimand,\n",
    "    method_name=\"backdoor.linear_regression\",\n",
    "    test_significance=True\n",
    ")\n",
    "print(estimate)"
   ]
  },
  {
   "cell_type": "code",
   "execution_count": 10,
   "metadata": {
    "colab": {
     "base_uri": "https://localhost:8080/"
    },
    "hidden": true,
    "id": "6lKpFpwBoF9i",
    "outputId": "1a738924-c706-4326-a7db-3b809bc1969c",
    "slideshow": {
     "slide_type": "skip"
    }
   },
   "outputs": [
    {
     "name": "stdout",
     "output_type": "stream",
     "text": [
      "random_common_cause: Effect should not change significantly -- PASSED with tolerance of +/- 0.1\n",
      "effect: 0.99 -> 1.09\n",
      "\n",
      "placebo_treatment_refuter: Effect should go to zero -- PASSED with tolerance of +/- 0.1\n",
      "effect: 0.99 -> 0.00\n",
      "\n",
      "dummy_outcome_refuter: Effect should go to zero -- FAILED with tolerance of +/- 0.1\n",
      "effect: 0.99 -> -0.20\n",
      "\n",
      "data_subset_refuter: Effect should not change significantly -- PASSED with tolerance of +/- 0.1\n",
      "effect: 0.99 -> 0.97\n",
      "\n",
      "bootstrap_refuter: Effect should not change significantly -- FAILED with tolerance of +/- 0.1\n",
      "effect: 0.99 -> 0.76\n",
      "\n"
     ]
    }
   ],
   "source": [
    "# Step 4: Refute\n",
    "\n",
    "refuter = CausalRefuter(**refutation_config)\n",
    "refuter.refute(model, identified_estimand, estimate) \n",
    "\n",
    "# more on refutation in the following chapter\n",
    "# some tests failed due to a very small size of the dataset"
   ]
  },
  {
   "cell_type": "code",
   "execution_count": 11,
   "metadata": {
    "colab": {
     "base_uri": "https://localhost:8080/"
    },
    "hidden": true,
    "id": "MZuuBYsRllOS",
    "outputId": "626df845-3589-48ff-81f4-5a3b881e8e63",
    "slideshow": {
     "slide_type": "skip"
    }
   },
   "outputs": [
    {
     "data": {
      "text/plain": [
       "array([[1.        , 0.99339927],\n",
       "       [0.99339927, 1.        ]])"
      ]
     },
     "execution_count": 11,
     "metadata": {},
     "output_type": "execute_result"
    }
   ],
   "source": [
    "np.cov(x, y)"
   ]
  },
  {
   "cell_type": "code",
   "execution_count": 12,
   "metadata": {
    "colab": {
     "base_uri": "https://localhost:8080/"
    },
    "hidden": true,
    "id": "ZeUW9S-sjV7n",
    "outputId": "436950a0-8cf9-41e7-a5f7-b97bb5b9a8a9",
    "slideshow": {
     "slide_type": "skip"
    }
   },
   "outputs": [
    {
     "data": {
      "text/plain": [
       "array([0.99339927])"
      ]
     },
     "execution_count": 12,
     "metadata": {},
     "output_type": "execute_result"
    }
   ],
   "source": [
    "# Manual OLS\n",
    "\n",
    "X = x.reshape((3,1)) # transforming a flat array to a matrix\n",
    "\n",
    "XtX = np.matmul(X.transpose(), X)\n",
    "Xty = np.matmul(X.transpose(), y)\n",
    "\n",
    "OLS = np.matmul(\n",
    "    np.linalg.inv(XtX), \n",
    "    Xty\n",
    ")\n",
    "\n",
    "OLS"
   ]
  },
  {
   "cell_type": "code",
   "execution_count": 13,
   "metadata": {
    "colab": {
     "base_uri": "https://localhost:8080/"
    },
    "hidden": true,
    "id": "GXuGSEn5KX6n",
    "outputId": "0a1b8cc5-9de1-4a10-b610-fcc5fe4b1a79",
    "slideshow": {
     "slide_type": "skip"
    }
   },
   "outputs": [
    {
     "name": "stdout",
     "output_type": "stream",
     "text": [
      "2.0 2.5166114784235836\n"
     ]
    }
   ],
   "source": [
    "x_std = np.std(np.array([2, 4, 0]), ddof=1)\n",
    "y_std = np.std(np.array([4, 6, 1]), ddof=1)\n",
    "print(x_std, y_std)"
   ]
  },
  {
   "cell_type": "markdown",
   "metadata": {
    "hidden": true,
    "id": "_9h8opl6t-q8",
    "slideshow": {
     "slide_type": "skip"
    }
   },
   "source": [
    "In this example, a 1 standard-unit increase in hours studied in terms of hours studied increases, on average (but don't have to, linear regression simply computes the expectation function), the points achieved by one standard-unit in terms of hours studied times the beta coefficient. In this case, if you additionally studied 2 hours, on average the points achieved would increase by 1 * 0.99 = 0.99 standard-units which amounts to 3.67 points. (Moreover, in the absence of multicollinearity the feature hours_studied explains about (0.99)**2 * 100 = 98.68 percent of the variance in the points_achieved.)\n",
    "\n",
    "Both the OLS and the causal model lead to the same result for this simple example."
   ]
  },
  {
   "cell_type": "markdown",
   "metadata": {
    "heading_collapsed": true,
    "id": "HJ_G8F9Dzzgs",
    "slideshow": {
     "slide_type": "slide"
    }
   },
   "source": [
    "# Bibliography"
   ]
  },
  {
   "cell_type": "markdown",
   "metadata": {
    "hidden": true,
    "id": "CNKDL467bA-y",
    "slideshow": {
     "slide_type": "subslide"
    }
   },
   "source": [
    "- Angrist, J., G. Imbens, and D. Rubin (1996): “Identification of causal effects using\n",
    "instrumental variables (with comments),” Journal of the American Statistical\n",
    "Association, 91, 444–472.\n",
    "- Dixit, S. (2020) Beyond Predictive Models: The Causal Story Behind Hotel Booking Cancellations. Retrieved on 09.12.2020 https://towardsdatascience.com/beyond-predictive-models-the-causal-story-behind-hotel-booking-cancellations-d29e8558cbaf\n",
    "- Neyman, J. (1923): “On the application of probability theory to agricultural experiments.\n",
    "Essay on principles. Section 9,” Statistical Science, 5, 465–480.\n",
    "- Pearl, J. (2018) The Seven Tools of Causal Inference with Reflections on Machine Learning. https://ftp.cs.ucla.edu/pub/stat_ser/r481.pdf\n",
    "- Pearl, J. (2010) An Introduction to Causal Inference https://ftp.cs.ucla.edu/pub/stat_ser/r354-corrected-reprint.pdf\n",
    "- Pearl, J. (2000) Causality: Models, Reasoning, and Inference. Chapter 1 http://bayes.cs.ucla.edu/BOOK-2K/\n",
    "- Rosenbaum, P. and D. Rubin (1983): “The central role of propensity score in observational\n",
    "studies for causal effects,” Biometrika, 70, 41–55.\n",
    "- Rubin, D. (1974): “Estimating causal effects of treatments in randomized and nonrandomized\n",
    "studies,” Journal of Educational Psychology, 66, 688–701.\n",
    "- Sharma, A. and Kiciman, E. (2020) DoWhy: An End-to-End Library for Causal Inference. https://arxiv.org/abs/2011.04216\n",
    "- Qingyuan Zhao & Trevor Hastie (2019) Causal Interpretations of Black-Box Models, Journal of Business & Economic Statistics, DOI: 10.1080/07350015.2019.1624293"
   ]
  }
 ],
 "metadata": {
  "celltoolbar": "Slideshow",
  "colab": {
   "collapsed_sections": [
    "Kg8r5C-Qe8v9",
    "YP1gA0ueQaLo",
    "tP8CsFjcxxts",
    "1C6Wn5rAgSRZ",
    "ReJpm4uo9PAf",
    "RTsgCecWe0Sz",
    "HJ_G8F9Dzzgs"
   ],
   "name": "MAIN IS — Pearl's Framework of Causal Inference",
   "provenance": []
  },
  "kernelspec": {
   "display_name": "venv-IS",
   "language": "python",
   "name": "venv-is"
  },
  "language_info": {
   "codemirror_mode": {
    "name": "ipython",
    "version": 3
   },
   "file_extension": ".py",
   "mimetype": "text/x-python",
   "name": "python",
   "nbconvert_exporter": "python",
   "pygments_lexer": "ipython3",
   "version": "3.8.0"
  },
  "toc": {
   "base_numbering": 1,
   "nav_menu": {},
   "number_sections": true,
   "sideBar": true,
   "skip_h1_title": false,
   "title_cell": "Table of Contents",
   "title_sidebar": "Contents",
   "toc_cell": false,
   "toc_position": {},
   "toc_section_display": true,
   "toc_window_display": false
  }
 },
 "nbformat": 4,
 "nbformat_minor": 1
}
