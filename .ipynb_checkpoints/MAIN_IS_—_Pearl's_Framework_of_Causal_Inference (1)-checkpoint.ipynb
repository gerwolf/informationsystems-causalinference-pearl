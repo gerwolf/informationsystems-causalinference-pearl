{
 "cells": [
  {
   "cell_type": "markdown",
   "metadata": {
    "id": "VwXoYch3czcI"
   },
   "source": [
    "# Pearl’s Framework of Causal Inference (Structural Causal Model)\n",
    "\n",
    "Information Systems Seminar @ HU Berlin\n",
    "\n",
    "Winter term 2020/21"
   ]
  },
  {
   "cell_type": "markdown",
   "metadata": {
    "id": "OJJEYRENc8b1"
   },
   "source": [
    "### Authors\n",
    "* Gerome Wolf\n",
    "* Gleb Zhidkov\n",
    "* Nesrin Othmann\n",
    "* Mariia Semenenko\n",
    "\n",
    "\n",
    "### Outlay\n",
    "\n",
    "__1. Introduction to Pearl's causal inference__\n",
    "* 1.1. Motivation\n",
    "* 1.2. Causal inference in a nutshell\n",
    "* 1.3. Causal graphs\n",
    "* 1.4. Three-Level Causal Hierarchy\n",
    "\n",
    "__2. Practical implementation__\n",
    "* 2.1. doWhy library\n",
    "* 2.2. Example: True causal effect in a linear model\n",
    "* 2.3. Example: Hotel booking cancellations\n",
    "\n",
    "__3. Outlook / Seminar paper__\n",
    "\n",
    "__4. Appendix__\n",
    "* 4.1. A theoretical excursion: Identifiability, estimation, and covariate selection\n",
    "* 4.2. Example: Instrumental variable and covariate selection"
   ]
  },
  {
   "cell_type": "markdown",
   "metadata": {
    "id": "Kg8r5C-Qe8v9"
   },
   "source": [
    "# 0. Environment setup"
   ]
  },
  {
   "cell_type": "code",
   "execution_count": null,
   "metadata": {
    "colab": {
     "base_uri": "https://localhost:8080/"
    },
    "id": "UBozFPvRe7IM",
    "outputId": "b0aef1a6-c117-4153-a921-c5f3041441ef"
   },
   "outputs": [],
   "source": [
    "import warnings\n",
    "import logging\n",
    "from typing import List, Dict, Union, Optional, Tuple\n",
    "\n",
    "import numpy as np\n",
    "import pandas as pd\n",
    "import matplotlib.pyplot as plt\n",
    "\n",
    "try:\n",
    "    import dowhy\n",
    "except:\n",
    "    !pip install dowhy==0.5\n",
    "    import dowhy\n",
    "    \n",
    "try:\n",
    "    import linearmodels\n",
    "except:\n",
    "    !pip install linearmodels\n",
    "    import linearmodels\n",
    "\n",
    "from linearmodels.iv import IV2SLS\n",
    "\n",
    "try:\n",
    "    import statsmodels.api as sm\n",
    "except:\n",
    "    !pip install statsmodels\n",
    "    import statsmodels.api as sm\n",
    "\n",
    "try:\n",
    "    import pygraphviz\n",
    "except:\n",
    "    !apt install libgraphviz-dev\n",
    "    !pip install pygraphviz\n",
    "    import pygraphviz\n",
    "\n",
    "# reducing logging by doWhy\n",
    "logger = logging.getLogger('dowhy')\n",
    "logger.setLevel(logging.CRITICAL)"
   ]
  },
  {
   "cell_type": "code",
   "execution_count": null,
   "metadata": {
    "id": "NRx-fdA-fG3B"
   },
   "outputs": [],
   "source": [
    "from graphviz import Digraph\n",
    "\n",
    "def make_graph(\n",
    "    edges: List[str], \n",
    "    nodes: Optional[Dict[str, str]] = None,\n",
    "    highlight: Optional[List[str]] = None\n",
    "    ) -> Digraph:\n",
    "    \"\"\"Makes a directed `graphviz` graph from its description\n",
    "\n",
    "    Parms:\n",
    "    edges     a list of directed edges (arrows), e.g. `['AB']` for `A->B`\n",
    "    nodes     (optional) a mapping of node names, e.g. `{'A':'name'}`\n",
    "    highlight (optional) a list of nodes to be highlighted, e.g. `['A']`\n",
    "    \"\"\"\n",
    "\n",
    "    dot = Digraph()\n",
    "    dot.edges(edges)\n",
    "    if nodes:\n",
    "        for node in nodes:\n",
    "            dot.node(node, nodes[node])\n",
    "    if highlight:\n",
    "        for node in highlight:\n",
    "            dot.node(node, fillcolor='#40e0d0', style='filled')\n",
    "    return dot"
   ]
  },
  {
   "cell_type": "code",
   "execution_count": null,
   "metadata": {
    "id": "x_TgLGvzfGoA"
   },
   "outputs": [],
   "source": [
    "_AVAILABLE_REFUTATION_METHODS = [\n",
    "    'random_common_cause',         # effect -> no significant change (should be: estimation method should not change, not implemented in doWhy)\n",
    "    'placebo_treatment_refuter',   # effect -> 0\n",
    "    'dummy_outcome_refuter',       # effect -> 0\n",
    "    'add_unobserved_common_cause', # effect -> no significant change\n",
    "    'data_subset_refuter',         # effect -> no significant change\n",
    "    'bootstrap_refuter',           # effect -> no significant change\n",
    "    #'simulated_outcome'           # effect -> no significant change # NOT IMPLEMENTED IN doWhy\n",
    "  ]\n",
    "\n",
    "methods = _AVAILABLE_REFUTATION_METHODS.copy()\n",
    "methods.remove('add_unobserved_common_cause')\n",
    "\n",
    "refutation_config = {\n",
    "    'methods': methods,\n",
    "    'tolerance': 0.1,\n",
    "    'suppress_warnings': True,\n",
    "\n",
    "    # kwargs for dowhy's model.refute()\n",
    "    'random_seed': 2020,\n",
    "    'num_simulations': 10,\n",
    "\n",
    "    # kwargs for add_unobserved_common_cause (values must be assumed, out of the scope of this tutorial):\n",
    "    #'effect_strength_on_treatment': 0.5,\n",
    "    #'effect_strength_on_outcome': 0.5\n",
    "}\n",
    "\n",
    "\n",
    "class CausalRefuter():\n",
    "\n",
    "    def __init__(self, \n",
    "            methods: List[str] = _AVAILABLE_REFUTATION_METHODS,\n",
    "            tolerance: int = 0.1,\n",
    "            suppress_warnings: bool = True, \n",
    "            **kwargs\n",
    "            ) -> None:\n",
    "        \"\"\" \"\"\"\n",
    "        self.methods = kwargs.pop('methods', methods).copy()\n",
    "        self.tolerance = kwargs.pop('tolerance', tolerance)\n",
    "        self.suppress_warnings = kwargs.pop('suppress_warnings', tolerance)\n",
    "        self.kwargs = kwargs\n",
    "\n",
    "        if self.suppress_warnings:\n",
    "            self.kwargs['logging_level'] = logging.CRITICAL\n",
    "\n",
    "    def refute(self, \n",
    "            model: dowhy.CausalModel,\n",
    "            estimand: dowhy.causal_identifier.IdentifiedEstimand,\n",
    "            estimate: dowhy.causal_estimator.CausalEstimate, \n",
    "            method: Optional[str] = None\n",
    "            ) -> None:\n",
    "        \"\"\"\n",
    "        Refutes a causal estimate using a single `method` \n",
    "        or all `methods` specified when initiating the CausalRefuter\n",
    "        \"\"\"\n",
    "\n",
    "        self.results = {}\n",
    "        self.estimate_effect = estimate.value\n",
    "        METHODS = [method] if method is not None else self.methods\n",
    "\n",
    "    def loop_over_methods() -> None:\n",
    "        for method in METHODS:\n",
    "            self._refute(model, estimand, estimate, method, **self.kwargs)\n",
    "\n",
    "        if not self.suppress_warnings:\n",
    "            loop_over_methods()\n",
    "    \n",
    "        else:\n",
    "            logger = logging.getLogger('dowhy')\n",
    "            logger_level = logger.level\n",
    "            logger.setLevel(logging.CRITICAL)\n",
    "            with warnings.catch_warnings():\n",
    "                warnings.simplefilter('ignore')\n",
    "                loop_over_methods()\n",
    "            logger.setLevel(logger_level)\n",
    "  \n",
    "    def _refute(self, \n",
    "            model: dowhy.CausalModel, \n",
    "            estimand: dowhy.causal_identifier.IdentifiedEstimand, \n",
    "            estimate: dowhy.causal_estimator.CausalEstimate, \n",
    "            method: str, \n",
    "            **kwargs\n",
    "            ) -> None:\n",
    "\n",
    "        # FIX for a bug in doWhy code\n",
    "        if method == 'dummy_outcome_refuter':\n",
    "            target_var = model._outcome[0]\n",
    "            model._outcome[0] = 'y'\n",
    "            model._data.rename(columns={target_var: 'y'}, inplace=True)\n",
    "\n",
    "        if method == 'add_unobserved_common_cause' and (\n",
    "                'effect_strength_on_treatment' not in self.kwargs or \n",
    "                'effect_strength_on_outcome' not in self.kwargs):\n",
    "            print('To refute using add_unobserved_common_cause, please specify the following args: ')\n",
    "            print(\"'effect_strength_on_treatment' and 'effect_strength_on_outcome'\\n\")\n",
    "            return\n",
    "\n",
    "        if method not in _AVAILABLE_REFUTATION_METHODS:\n",
    "            print(f'Method {method} not supported.\\n')\n",
    "            return\n",
    "\n",
    "        self.results[method] = model.refute_estimate(estimand, estimate, method, **kwargs)\n",
    "\n",
    "        # FIX for a bug in doWhy code\n",
    "        if method == 'dummy_outcome_refuter' and isinstance(self.results[method], list):\n",
    "            self.results[method] = self.results[method][0]\n",
    "\n",
    "        self._print_results(method)\n",
    "\n",
    "    def _validate(self, \n",
    "            method: str,\n",
    "            new_effect: float\n",
    "            ) -> Tuple[bool, str]:\n",
    "\n",
    "        if method in ('placebo_treatment_refuter', 'dummy_outcome_refuter'):\n",
    "            if -self.tolerance < new_effect < self.tolerance:\n",
    "                return True, 'Effect should go to zero'\n",
    "            else:\n",
    "                return False, 'Effect should go to zero'\n",
    "\n",
    "        elif method in ('data_subset_refuter', 'bootstrap_refuter', 'add_unobserved_common_cause', 'random_common_cause'):\n",
    "            if (new_effect - self.tolerance) < self.estimate_effect < (new_effect + self.tolerance):\n",
    "                return True, 'Effect should not change significantly'\n",
    "            else:\n",
    "                return False, 'Effect should not change significantly'\n",
    "\n",
    "    def _print_results(self, method: str) -> None:\n",
    "\n",
    "        passed, comment = self._validate(\n",
    "          method = method,\n",
    "          new_effect = self.results[method].new_effect\n",
    "        )\n",
    "    \n",
    "        print(f\"{method}: {comment} -- {'PASSED' if passed else 'FAILED'} with tolerance of +/- {self.tolerance}\")\n",
    "        print(f\"effect: {self.estimate_effect:.2f} -> {self.results[method].new_effect:.2f}\\n\")"
   ]
  },
  {
   "cell_type": "code",
   "execution_count": null,
   "metadata": {
    "id": "2YA0Jyw5YHul"
   },
   "outputs": [],
   "source": [
    "def prepare_booking_cancellation_data(dataset: pd.DataFrame) -> pd.DataFrame:\n",
    "\n",
    "    # Total stay in nights\n",
    "    dataset['total_stay'] = dataset['stays_in_week_nights'] + dataset['stays_in_weekend_nights']\n",
    "    # Total number of guests\n",
    "    dataset['guests'] = dataset['adults'] + dataset['children'] + dataset['babies']\n",
    "    # Creating the different_room_assigned feature\n",
    "    dataset['different_room_assigned'] = 0\n",
    "    slice_indices = (dataset['reserved_room_type'] != dataset['assigned_room_type'])\n",
    "    dataset.loc[slice_indices,'different_room_assigned'] = 1\n",
    "    # Deleting older features\n",
    "    dataset = dataset.drop(\n",
    "        ['stays_in_week_nights', 'stays_in_weekend_nights', 'adults', \n",
    "         'children', 'babies','reserved_room_type', 'assigned_room_type'], \n",
    "        axis=1)\n",
    "\n",
    "    #dataset.isnull().sum() # Country,Agent,Company contain 488,16340,112593 missing entries \n",
    "    dataset = dataset.drop(['agent','company'], axis=1)\n",
    "    # Replacing missing countries with most freqently occuring countries\n",
    "    dataset['country'] = dataset['country'].fillna(dataset['country'].mode()[0])\n",
    "\n",
    "    dataset = dataset.drop(['reservation_status','reservation_status_date','arrival_date_day_of_month'], axis=1)\n",
    "    dataset = dataset.drop(['arrival_date_year'], axis=1)\n",
    "\n",
    "    # Replacing 1 by True and 0 by False for the experiment and outcome variables\n",
    "    dataset['different_room_assigned'] = dataset['different_room_assigned'].replace(1, True)\n",
    "    dataset['different_room_assigned'] = dataset['different_room_assigned'].replace(0, False)\n",
    "    dataset['is_canceled'] = dataset['is_canceled'].replace(1, True)\n",
    "    dataset['is_canceled'] = dataset['is_canceled'].replace(0, False)\n",
    "    dataset.dropna(inplace=True)\n",
    "    dataset.reset_index(inplace=True, drop=True)\n",
    "\n",
    "    return dataset"
   ]
  },
  {
   "cell_type": "markdown",
   "metadata": {
    "id": "BOde7vyqetpM"
   },
   "source": [
    "# 1. Introduction to Pearl's causal inference"
   ]
  },
  {
   "cell_type": "markdown",
   "metadata": {
    "id": "YP1gA0ueQaLo"
   },
   "source": [
    "## 1.1. Motivation"
   ]
  },
  {
   "cell_type": "markdown",
   "metadata": {
    "id": "rZHhoo_yPMdd"
   },
   "source": [
    "\n",
    "Cause-effect relationships are widespread in real data, yet they usually remain out of scope of even advanced statistical classes. The main reason for this is the non-triviality when it comes to identifying, estimating, and validating causal effects.\n",
    "\n",
    "Judea Pearl, a computer scientist and philosopher and a scholar at UCLA (University of California, LA), dedicated a big share of his academic career to fill this gap by designing and polishing an accessible framework for causal inference, also known as Pearl's graphical theory of causality. Despite Pearl's tremendous efforts, his framework (somewhat undeservedly) remains not so well-known or used among practitioners.\n",
    "\n",
    "This notebook gives a (necessary) first glimpse into the theoretical concepts underlying the Pearl's framework of causal inference, followed by two practical examples utilizing the [doWhy](https://github.com/microsoft/dowhy) library: one simple example for a linear relationship between the treatment and outcome features, and one real-world data example for a marketing application of the framework.\n",
    "\n",
    "![Judea](https://samueli.ucla.edu/wp-content/uploads/samueli/profile_2.jpg)\n",
    "\n",
    "_Above: Judea Pearl_\n",
    "\n",
    "Somewhat simplified, the Pearl's framework can be summarized to five steps the analyst has to go through when analyzing causal effects:\n",
    "\n",
    "0. __Defining__ a _general_ model which is not restricted to a specific functional form (which is the case for, e.g., a linear regression).\\\n",
    "More formally, the target quantity $Q$ is represented structurally or graphically as a function $Q(M)$ for any model $M$ satisfying our beliefs (assumptions) about the data generating process and its directionalities \n",
    "1. __Assuming__ causal (i.e., directed) relationships between data features by designing a __causal graph__\n",
    "2. __Identifying__ the estimand by checking whether explicit assumptions allow to solve for the parameter(s) of interest as function(s) of exogeneous variables\n",
    "3. __Estimating__ the causal effect by applying an arbitrary (appropriate) statistical method\n",
    "4. __Refuting__ the original assumptions by examining the robustness of the model\n",
    "\n",
    "_(The 0-ish step is usually omitted in practical applications, whereas the 4th step is only briefly referenced by Judea Pearl in his papers.)_\n",
    "\n",
    "**Pearl's criticism in one sentence**\n",
    "\n",
    "- \"Causal conclusions are only as valid as the causal assumptions upon which they rest.\" (Pearl, 2010)\n",
    "- ⠀+ implicit covariate selection\n",
    "\n",
    "**Pearl's contribution in one sentence** \n",
    "\n",
    "- Graphical models assist the researcher in specifying the (non-) experimental setup, clearly formulating the research question and structuring the research process\n",
    "\n",
    "**Key message**\n",
    "\n",
    "- Pearl's graphical theory of causality should be your go-to gateway to addressing causal claims **and don't confuse regression equation residuals with structural error terms**\n",
    "\n",
    "**Why is Pearl's framework (~generalized theory) yet so unknown/unpopular?**\n",
    "\n",
    "- Difficulty for/reluctance of \"traditionally\" trained statistician to leave their parametric/functional world of probability calculus\n",
    "- Unawareness of structural equations modelling\n",
    "- Missing discipline to clearly formulate experiential knowledge as causal assumptions in a scientic notation\n",
    "- Notation\n"
   ]
  },
  {
   "cell_type": "markdown",
   "metadata": {
    "id": "tP8CsFjcxxts"
   },
   "source": [
    "## 1.2. Causal inference in a nutshell"
   ]
  },
  {
   "cell_type": "markdown",
   "metadata": {
    "id": "2k2EhRq1gSJF"
   },
   "source": [
    "In causal analysis the counterfactual, or potential outcomes framework, pioneered by Neyman-Rubin (1923, 1974) and Rosenbaum (1983) has been until recently the dominating methodological as well as philosophical paradigm to answering causal claims in non-experimental environments common in the social sciences (Angrist et al., 1996). Moreover, the rise in popularity of machine learning algorithms with their strong predictive power but high degree of model complexity has called for ways and tools to manage interpretability (Zhao, Q., Hastie, T., 2019).\n",
    "\n",
    "The most popular methods of causal inference (experimental and non-experimental) are:\n",
    "\n",
    "- regression\n",
    "- propensity score matching\n",
    "- instrumental variables\n",
    "- difference-in-differences\n",
    "- regression discontinuity design\n",
    "\n",
    "- in dynamic causality (~time series): SVAR\n",
    "\n",
    "Even though the causal interpretation inherited from appropriate methods relying on well-known statistical properties may be justified, some objects, especially the \"counterfactual\", within this framework are subject to a lack of mathematical rigor, formalisation and identification (Pearl). To see this formally, recall the potential outcomes framework that justifies the causal interpretation of regression coefficients with randomization of the (binary) treatment, $D_i = \\{0,1\\}$:\n",
    "\n",
    "The observed outcome, $Y_i$, can be written in terms of potential  outcomes as\n",
    "\n",
    "\\begin{align*}\n",
    "    Y_i &=\n",
    "    \\begin{cases}\n",
    "        Y_{1i},& \\text{if } D_i = 1\\\\\n",
    "        Y_{0i}, & \\text{if } D_i = 0\\\\\n",
    "    \\end{cases}\n",
    "\\end{align*}\n",
    "\n",
    "\\begin{align*}\n",
    "    &= Y_{0i} + (Y_{1i} - Y_{0i}) D_i\n",
    "\\end{align*}\n",
    "\n",
    "By its nature the treatment variable $D_i$ can only be observed once per case in individual $i$, i.e. those who received the treatment and those who did not, giving rise to the \"__counterfactual__\" (\"how would outcome $Y_i$ be if an individual which did not receive treatment $D_i$ actually would have received it\"), $\\mathop{\\mathbb{E}}[Y_{0i}|D_i = 1]$, which is unobservable. \n",
    "\n",
    "\\begin{align*}\n",
    "    \\underbrace{\\mathop{\\mathbb{E}}[Y_{i}|D_i = 1] - \\mathop{\\mathbb{E}}[Y_{i}|D_i = 0]}_\\text{Observable difference in mean outcomes} = \\underbrace{\\mathop{\\mathbb{E}}[Y_{1i}|D_i = 1] - \\mathop{\\mathbb{E}}[Y_{0i}|D_i = 1]}_\\text{Average treatment effect on the treated} + \\underbrace{\\mathop{\\mathbb{E}}[Y_{0i}|D_i = 1] - \\mathop{\\mathbb{E}}[Y_{0i}|D_i = 0]}_\\text{Selection bias}\n",
    "\\end{align*}\n",
    "\n",
    "There is a reason (~propensity) why those who received (or seeked) treatment produce certain outcomes that are not due to the treatment itself but to underlying attributes. Non-randomization (e.g. self-selection in the case of hospizalization) therefore biases the naive comparison of observable mean-differences into the direction of which underlying propensity quantitatively dominates the outcomes (\"selection bias\"). If treatment was randomly assigned, the conditional independence assumption (\"ignorability assumption\" = possible outcomes are independent of the treatment assignment conditional on covariates, you cannot predict the treatment from the residuals) is satisfied and selection bias is equal to zero. Hence, mean-differences as measured by the regression coefficient on $D_i$ has a causal interpretation. \n",
    "This illustration with its necessary conditions to make it work can be thought of a special case of a much broader, generalized theory which has been proposed by Pearl (YEAR). The idea rests on a structural specification of the model's equations, assisted by graphs that clearly visualize the relationships among the variables (and their error terms), therefore making all paths and directions explicit.\n",
    "It's important to stress that the counterfactual model and Pearl's graphical theory of causality are **fully compatible** with each other and are therefore **complementary and not rivalling** concepts. Two fundamental differences in Pearl's framework stand out, though:\n",
    "\n",
    "- No specific functional forms imposed (i.e. non-parametric and/or recursive ~ matching)\n",
    "- Importance of collider (i.e. endogeneous) variables\n",
    "- Irrelevance of the specific model: any model must, given a set of assumptions $A$, be able to identify the target quantity $Q$ [formally: $P(M_1) = P(M_2) \\Rightarrow Q(M_1) = Q(M_2)$]\n",
    "\n",
    "\"The main conceptual difference between the two approaches is that, whereas the structural approach views the intervention $do(x)$ as an operation that changes a distribution but keeps the variables the same, the potential-outcome approach views the variable Y under $do(x)$ to be a different variable, $Y_X$, loosely connected to Y.\" (Pearl, 2010) \n",
    "\n",
    "Pearl requires from the researcher/analyst a clearly defined model specification in a structural form and thus, domain knowledge.\n",
    "\n",
    "Pearl's expression for the \"counterfactual\" (the value of $Y$ in unit $u$, had $X$ been $x$) is \n",
    "\n",
    "\\begin{align*}\n",
    "Y_{x}(u) = Y_{M_{x}}(u)\n",
    "\\end{align*}\n",
    "\n",
    "where $M$ is a structural model and $M_x$ is a modified version of $M$ such that some intervention $do(x)$ has been introduced."
   ]
  },
  {
   "cell_type": "markdown",
   "metadata": {
    "id": "wXlgDPE-gciA"
   },
   "source": [
    "## 1.3. Causal graphs"
   ]
  },
  {
   "cell_type": "markdown",
   "metadata": {
    "id": "qJx0WBKVghkI"
   },
   "source": [
    "* A __directed graph__ is a set of nodes (vertices) connected by arrows (directed edges).\n",
    "An arrow $A\\!\\longrightarrow\\!B$ is said to be directed from the node $A$ (_head_ of the arrow) to the node $B$ (_tail_ of the arrow).\n",
    "If a __path__ of arrows leads from $X$ to $Y$, then $Y$ is said to be a _successor_ of $X$ and to be _reachable_ from $X$.\n",
    "A path can pass several intermediary nodes, and there may be several paths from $X$ to $Y$.\n",
    "\n",
    "* A __causal graph__ is a directed graph where each node represents a variable, and each arrow depicts a relationship between two variables. A causal graph represents our expert belief about the data generating process, with our assumptions encoded in missing connections (arrows) between variables (nodes). Defining a causal graph is the first and the most critical step when following the Pearl's framework of causal inference.\n",
    "\n",
    "* __D-separation__ (directional separation, introduced by Pearl 1988) is a criterion to identify conditional independence between two variables; e.g., between $X$ and $Y$ conditioned on a set of variables $S$: &nbsp;&nbsp;&nbsp;&nbsp;\n",
    "$ X \\perp\\!\\!\\!\\perp Y \\mid S $.\\\n",
    "D-separation is given whenever all possible paths from $X$ to $Y$ are __blocked__, a path quality which can be _read_ directly from the causal graph. The following graph illustrates examples of unblocked and blocked paths.\n",
    "\n",
    "* D-separation is a __tool to test causal assumptions__: whenever two variables are d-separated, they should be uncorrelated; whenever two variables are d-connected, they should be correlated. If the causal assumptions do not hold, no causal effect can be estimated reliably."
   ]
  },
  {
   "cell_type": "code",
   "execution_count": null,
   "metadata": {
    "colab": {
     "base_uri": "https://localhost:8080/",
     "height": 272
    },
    "id": "_0irFNMzghTC",
    "outputId": "defec8e0-78fb-4534-8dec-e44c78cdf40a"
   },
   "outputs": [
    {
     "data": {
      "image/svg+xml": [
       "<?xml version=\"1.0\" encoding=\"UTF-8\" standalone=\"no\"?>\n",
       "<!DOCTYPE svg PUBLIC \"-//W3C//DTD SVG 1.1//EN\"\n",
       " \"http://www.w3.org/Graphics/SVG/1.1/DTD/svg11.dtd\">\n",
       "<!-- Generated by graphviz version 2.40.1 (20161225.0304)\n",
       " -->\n",
       "<!-- Title: %3 Pages: 1 -->\n",
       "<svg width=\"440pt\" height=\"188pt\"\n",
       " viewBox=\"0.00 0.00 440.00 188.00\" xmlns=\"http://www.w3.org/2000/svg\" xmlns:xlink=\"http://www.w3.org/1999/xlink\">\n",
       "<g id=\"graph0\" class=\"graph\" transform=\"scale(1 1) rotate(0) translate(4 184)\">\n",
       "<title>%3</title>\n",
       "<polygon fill=\"#ffffff\" stroke=\"transparent\" points=\"-4,4 -4,-184 436,-184 436,4 -4,4\"/>\n",
       "<!-- A -->\n",
       "<g id=\"node1\" class=\"node\">\n",
       "<title>A</title>\n",
       "<ellipse fill=\"none\" stroke=\"#000000\" cx=\"27\" cy=\"-162\" rx=\"27\" ry=\"18\"/>\n",
       "<text text-anchor=\"middle\" x=\"27\" y=\"-158.3\" font-family=\"Times,serif\" font-size=\"14.00\" fill=\"#000000\">A</text>\n",
       "</g>\n",
       "<!-- B -->\n",
       "<g id=\"node2\" class=\"node\">\n",
       "<title>B</title>\n",
       "<ellipse fill=\"none\" stroke=\"#000000\" cx=\"27\" cy=\"-90\" rx=\"27\" ry=\"18\"/>\n",
       "<text text-anchor=\"middle\" x=\"27\" y=\"-86.3\" font-family=\"Times,serif\" font-size=\"14.00\" fill=\"#000000\">B</text>\n",
       "</g>\n",
       "<!-- A&#45;&gt;B -->\n",
       "<g id=\"edge1\" class=\"edge\">\n",
       "<title>A&#45;&gt;B</title>\n",
       "<path fill=\"none\" stroke=\"#000000\" d=\"M27,-143.8314C27,-136.131 27,-126.9743 27,-118.4166\"/>\n",
       "<polygon fill=\"#000000\" stroke=\"#000000\" points=\"30.5001,-118.4132 27,-108.4133 23.5001,-118.4133 30.5001,-118.4132\"/>\n",
       "</g>\n",
       "<!-- C -->\n",
       "<g id=\"node3\" class=\"node\">\n",
       "<title>C</title>\n",
       "<ellipse fill=\"none\" stroke=\"#000000\" cx=\"27\" cy=\"-18\" rx=\"27\" ry=\"18\"/>\n",
       "<text text-anchor=\"middle\" x=\"27\" y=\"-14.3\" font-family=\"Times,serif\" font-size=\"14.00\" fill=\"#000000\">C</text>\n",
       "</g>\n",
       "<!-- B&#45;&gt;C -->\n",
       "<g id=\"edge2\" class=\"edge\">\n",
       "<title>B&#45;&gt;C</title>\n",
       "<path fill=\"none\" stroke=\"#000000\" d=\"M27,-71.8314C27,-64.131 27,-54.9743 27,-46.4166\"/>\n",
       "<polygon fill=\"#000000\" stroke=\"#000000\" points=\"30.5001,-46.4132 27,-36.4133 23.5001,-46.4133 30.5001,-46.4132\"/>\n",
       "</g>\n",
       "<!-- D -->\n",
       "<g id=\"node4\" class=\"node\">\n",
       "<title>D</title>\n",
       "<ellipse fill=\"none\" stroke=\"#000000\" cx=\"99\" cy=\"-162\" rx=\"27\" ry=\"18\"/>\n",
       "<text text-anchor=\"middle\" x=\"99\" y=\"-158.3\" font-family=\"Times,serif\" font-size=\"14.00\" fill=\"#000000\">D</text>\n",
       "</g>\n",
       "<!-- E -->\n",
       "<g id=\"node5\" class=\"node\">\n",
       "<title>E</title>\n",
       "<ellipse fill=\"#40e0d0\" stroke=\"#000000\" cx=\"99\" cy=\"-90\" rx=\"27\" ry=\"18\"/>\n",
       "<text text-anchor=\"middle\" x=\"99\" y=\"-86.3\" font-family=\"Times,serif\" font-size=\"14.00\" fill=\"#000000\">E</text>\n",
       "</g>\n",
       "<!-- D&#45;&gt;E -->\n",
       "<g id=\"edge3\" class=\"edge\">\n",
       "<title>D&#45;&gt;E</title>\n",
       "<path fill=\"none\" stroke=\"#000000\" d=\"M99,-143.8314C99,-136.131 99,-126.9743 99,-118.4166\"/>\n",
       "<polygon fill=\"#000000\" stroke=\"#000000\" points=\"102.5001,-118.4132 99,-108.4133 95.5001,-118.4133 102.5001,-118.4132\"/>\n",
       "</g>\n",
       "<!-- F -->\n",
       "<g id=\"node6\" class=\"node\">\n",
       "<title>F</title>\n",
       "<ellipse fill=\"none\" stroke=\"#000000\" cx=\"99\" cy=\"-18\" rx=\"27\" ry=\"18\"/>\n",
       "<text text-anchor=\"middle\" x=\"99\" y=\"-14.3\" font-family=\"Times,serif\" font-size=\"14.00\" fill=\"#000000\">F</text>\n",
       "</g>\n",
       "<!-- E&#45;&gt;F -->\n",
       "<g id=\"edge4\" class=\"edge\">\n",
       "<title>E&#45;&gt;F</title>\n",
       "<path fill=\"none\" stroke=\"#000000\" d=\"M99,-71.8314C99,-64.131 99,-54.9743 99,-46.4166\"/>\n",
       "<polygon fill=\"#000000\" stroke=\"#000000\" points=\"102.5001,-46.4132 99,-36.4133 95.5001,-46.4133 102.5001,-46.4132\"/>\n",
       "</g>\n",
       "<!-- G -->\n",
       "<g id=\"node7\" class=\"node\">\n",
       "<title>G</title>\n",
       "<ellipse fill=\"none\" stroke=\"#000000\" cx=\"189\" cy=\"-162\" rx=\"27\" ry=\"18\"/>\n",
       "<text text-anchor=\"middle\" x=\"189\" y=\"-158.3\" font-family=\"Times,serif\" font-size=\"14.00\" fill=\"#000000\">G</text>\n",
       "</g>\n",
       "<!-- H -->\n",
       "<g id=\"node8\" class=\"node\">\n",
       "<title>H</title>\n",
       "<ellipse fill=\"none\" stroke=\"#000000\" cx=\"207\" cy=\"-90\" rx=\"27\" ry=\"18\"/>\n",
       "<text text-anchor=\"middle\" x=\"207\" y=\"-86.3\" font-family=\"Times,serif\" font-size=\"14.00\" fill=\"#000000\">H</text>\n",
       "</g>\n",
       "<!-- G&#45;&gt;H -->\n",
       "<g id=\"edge5\" class=\"edge\">\n",
       "<title>G&#45;&gt;H</title>\n",
       "<path fill=\"none\" stroke=\"#000000\" d=\"M193.4494,-144.2022C195.4398,-136.2406 197.8332,-126.6671 200.0511,-117.7957\"/>\n",
       "<polygon fill=\"#000000\" stroke=\"#000000\" points=\"203.5094,-118.3929 202.5394,-107.8425 196.7184,-116.6951 203.5094,-118.3929\"/>\n",
       "</g>\n",
       "<!-- I -->\n",
       "<g id=\"node9\" class=\"node\">\n",
       "<title>I</title>\n",
       "<ellipse fill=\"none\" stroke=\"#000000\" cx=\"261\" cy=\"-162\" rx=\"27\" ry=\"18\"/>\n",
       "<text text-anchor=\"middle\" x=\"261\" y=\"-158.3\" font-family=\"Times,serif\" font-size=\"14.00\" fill=\"#000000\">I</text>\n",
       "</g>\n",
       "<!-- I&#45;&gt;H -->\n",
       "<g id=\"edge6\" class=\"edge\">\n",
       "<title>I&#45;&gt;H</title>\n",
       "<path fill=\"none\" stroke=\"#000000\" d=\"M248.7466,-145.6621C241.8423,-136.4564 233.0823,-124.7764 225.3715,-114.4953\"/>\n",
       "<polygon fill=\"#000000\" stroke=\"#000000\" points=\"228.005,-112.1733 219.2049,-106.2733 222.405,-116.3733 228.005,-112.1733\"/>\n",
       "</g>\n",
       "<!-- J -->\n",
       "<g id=\"node10\" class=\"node\">\n",
       "<title>J</title>\n",
       "<ellipse fill=\"none\" stroke=\"#000000\" cx=\"333\" cy=\"-162\" rx=\"27\" ry=\"18\"/>\n",
       "<text text-anchor=\"middle\" x=\"333\" y=\"-158.3\" font-family=\"Times,serif\" font-size=\"14.00\" fill=\"#000000\">J</text>\n",
       "</g>\n",
       "<!-- K -->\n",
       "<g id=\"node11\" class=\"node\">\n",
       "<title>K</title>\n",
       "<ellipse fill=\"none\" stroke=\"#000000\" cx=\"369\" cy=\"-90\" rx=\"27\" ry=\"18\"/>\n",
       "<text text-anchor=\"middle\" x=\"369\" y=\"-86.3\" font-family=\"Times,serif\" font-size=\"14.00\" fill=\"#000000\">K</text>\n",
       "</g>\n",
       "<!-- J&#45;&gt;K -->\n",
       "<g id=\"edge7\" class=\"edge\">\n",
       "<title>J&#45;&gt;K</title>\n",
       "<path fill=\"none\" stroke=\"#000000\" d=\"M341.7146,-144.5708C345.9597,-136.0807 351.1536,-125.6929 355.8663,-116.2674\"/>\n",
       "<polygon fill=\"#000000\" stroke=\"#000000\" points=\"359.024,-117.7782 360.3657,-107.2687 352.763,-114.6477 359.024,-117.7782\"/>\n",
       "</g>\n",
       "<!-- M -->\n",
       "<g id=\"node13\" class=\"node\">\n",
       "<title>M</title>\n",
       "<ellipse fill=\"#40e0d0\" stroke=\"#000000\" cx=\"369\" cy=\"-18\" rx=\"27\" ry=\"18\"/>\n",
       "<text text-anchor=\"middle\" x=\"369\" y=\"-14.3\" font-family=\"Times,serif\" font-size=\"14.00\" fill=\"#000000\">M</text>\n",
       "</g>\n",
       "<!-- K&#45;&gt;M -->\n",
       "<g id=\"edge9\" class=\"edge\">\n",
       "<title>K&#45;&gt;M</title>\n",
       "<path fill=\"none\" stroke=\"#000000\" d=\"M369,-71.8314C369,-64.131 369,-54.9743 369,-46.4166\"/>\n",
       "<polygon fill=\"#000000\" stroke=\"#000000\" points=\"372.5001,-46.4132 369,-36.4133 365.5001,-46.4133 372.5001,-46.4132\"/>\n",
       "</g>\n",
       "<!-- L -->\n",
       "<g id=\"node12\" class=\"node\">\n",
       "<title>L</title>\n",
       "<ellipse fill=\"none\" stroke=\"#000000\" cx=\"405\" cy=\"-162\" rx=\"27\" ry=\"18\"/>\n",
       "<text text-anchor=\"middle\" x=\"405\" y=\"-158.3\" font-family=\"Times,serif\" font-size=\"14.00\" fill=\"#000000\">L</text>\n",
       "</g>\n",
       "<!-- L&#45;&gt;K -->\n",
       "<g id=\"edge8\" class=\"edge\">\n",
       "<title>L&#45;&gt;K</title>\n",
       "<path fill=\"none\" stroke=\"#000000\" d=\"M396.2854,-144.5708C392.0403,-136.0807 386.8464,-125.6929 382.1337,-116.2674\"/>\n",
       "<polygon fill=\"#000000\" stroke=\"#000000\" points=\"385.237,-114.6477 377.6343,-107.2687 378.976,-117.7782 385.237,-114.6477\"/>\n",
       "</g>\n",
       "</g>\n",
       "</svg>\n"
      ],
      "text/plain": [
       "<graphviz.dot.Digraph at 0x7f96819e5ef0>"
      ]
     },
     "execution_count": 6,
     "metadata": {
      "tags": []
     },
     "output_type": "execute_result"
    }
   ],
   "source": [
    "graph1 = {\n",
    "    'edges': ['AB', 'BC', 'DE', 'EF', 'GH', 'IH', 'JK', 'LK', 'KM'],\n",
    "    'highlight': ['E', 'M'] # conditioning set\n",
    "}\n",
    "\n",
    "make_graph(**graph1)"
   ]
  },
  {
   "cell_type": "markdown",
   "metadata": {
    "id": "HEejojSfgk77"
   },
   "source": [
    "\n",
    "* The path from $A$ to $C$ is __unblocked__, and $C$ can be reached from $A$\\\n",
    "(Intuition: an intervention in A can have a causal effect on C)\n",
    "\n",
    "* The path from $D$ to $F$ is __blocked by conditioning__ on $E$\\\n",
    "$\\Rightarrow D \\perp\\!\\!\\!\\perp F \\mid S=\\{E\\}$\\\n",
    "(Intution: whatever happens in $D$, it can't have causal effect on $F$ because value of $E$ is fixed, and there is no other path from $D$ to $F$)\n",
    "\n",
    "* The path from $G$ to $I$ is __blocked by the colliding__ on $H$\\\n",
    "$\\Rightarrow G \\perp\\!\\!\\!\\perp I \\mid S=\\{\\varnothing\\}$\\\n",
    "(Intuition: interventions in $G$ can't affect $I$ because the node $H$ is a \"dead end\" on the effect transmission path)\n",
    "\n",
    "* The path from $I$ to $L$ is __unblocked__ because the collision node $K$ has a conditioned descendant (child) $M$\\\n",
    "$\\Rightarrow D \\not\\!\\perp\\!\\!\\!\\perp F \\mid S=\\{M\\}$\\\n",
    "(Intuition: different to the previous graph, the collision node \"leaks\" information into the conditioning set $S$. The path would be blocked for $S=\\{\\varnothing\\}$)\n",
    "\n",
    "&nbsp;\n",
    "\n",
    "$\\color{grey}{\\text{Formal definition:}}$\n",
    "A path from $X$ to $Y$ is said to be blocked if either (i) it contains at least one arrow-emitting node that is in $S$, or (ii) it contains at least one collision node that is outside $S$ and has no descendant in $S$.\n",
    "\n",
    "$\\color{grey}{\\text{See also:}}$\n",
    "[Tutorial by Judea Pearl (2009)](http://bayes.cs.ucla.edu/BOOK-2K/d-sep.html) and [Tutorial by Richard Scheines](https://www.andrew.cmu.edu/user/scheines/tutor/d-sep.html); \\\n",
    "Pearl, J. (1988). Probabilistic Reasoning in Intelligent Systems. Morgan and Kaufman, San Mateo."
   ]
  },
  {
   "cell_type": "markdown",
   "metadata": {
    "id": "1C6Wn5rAgSRZ"
   },
   "source": [
    "## 1.4. Three-level causal hierarchy"
   ]
  },
  {
   "cell_type": "markdown",
   "metadata": {
    "id": "XiKQ73Txc1cR"
   },
   "source": [
    "![Pearl's ladder](https://miro.medium.com/max/4800/1*lPMV15wTtvW4DlngcONhSg.png)"
   ]
  },
  {
   "cell_type": "markdown",
   "metadata": {
    "id": "w-uUlJZguZfI"
   },
   "source": [
    "The Three-Level Causal Hierarchy represents the classification of causal questions depending on the information available. It consists of Association, Intervention and Counterfactuals. Hierarchical structure underlines, that the amount of information needed to answer each question is increasing with the increase of the causal level.\n",
    "\n",
    "\n",
    "**1. Association $P(y|x)$**\n",
    "\n",
    "**What does a purchase of product A tells about the likelihood of a consumer purchasing product B?**\n",
    "\n",
    "Answering this question typically requires observing the data and assuming purely statistical relationships. In this case, no causal information is required. Using conditional expectation and conditional probabilities it is possible to infer associations directly from the observed data.\n",
    "\n",
    "An association layer is defined by conditional probability sentences, e.g. $P(y|x)$ meaning: the probability of event $Y = y$ is equal to $p$, given that we observe event (i.e. variable) $X=x$.\n",
    "\n",
    "Such evidential sentences can be computed using Bayesian Networks, which are widely utilized in such areas as fault diagnosis, fault prediction, military decision making etc. \n",
    "\n",
    "**2. Intervention $P(y|do(x), z)$**\n",
    "\n",
    "**What if we increase the price, how consumer behavior will change?**\n",
    "\n",
    "Intervention is positioned one level higher than Association, because it requires not only observing the data, but also changing or intervening the situation we observe.\n",
    "\n",
    "Let's take a look at the example question above. We can not answer it from the data alone, because in this case we need additional information such as - what consumer reaction will be to the new pricing. Customer choices under the new pricing may differ significantly in contrast to the past prices, unless we replicate exactly the market conditions that existed when the price reached its new level.\n",
    "\n",
    "Intervention level can be defined by $P(y|do(x), z)$, which denotes the probability of event $Y = y$ given that we intervene and set the value of $X$ to $x$ and subsequently observe event $Z=z$.\n",
    "\n",
    "Such expressions can be estimated from randomized trials experimentally or analytically using Causal Bayesian Networks.\n",
    "\n",
    "**3. Counterfactual $P(y_x|x', y')$**\n",
    "\n",
    "**What would happen had the price been twice its current value?**\n",
    "\n",
    "These types of questions require retrospecitve reasoning. They also subsume questions of Association and Intervention, because as soon as we have a model that can answer counterfactual questions, we can also answer interventional and associational queries. For example, the interventional question above: \"What if we increase the price, how consumer behavior will change?\" can be answered by asking the counterfactual question. The translation doesn't work the other way around, since interventional information does not subsume retrospection ($x'$ and $y'$).\n",
    "\n",
    "The expression $P(y_x|x', y')$ stands for the probability of event $Y$ had $X$ been $x$, given that we actually observed $X$ to be $x'$ and $Y$ to be $y'$.\n",
    "\n",
    "Such sentences can be computed only when we make use of functional or structural equation models, or properties of such models. (Pearl, 2000 Causality: Models, Reasoning, and Inference)\n",
    "\n",
    "**Now you might wonder, how does Intervention differ from Counterfactual level?**\n",
    "\n",
    "In interventions you are wondering what will happen in the future if you perform an action. Whereas in counterfactuals you are asking what would have happened in a specific situation in the past if you had taken a different action, given that you have information about what actually happened. \n",
    "\n",
    "Since you already know what had happened in the past while asking a counterfactual question, you need to update the probability in the light of the evidence you have observed. This is also the reason why we need to subsume more information to answer counterfactual question.\n",
    "\n",
    "The Three-Level Hierarchy underlines cases or situations, in which it is so important for machine learning systems to have causal explanations instead of being based on associations only.\n",
    "\n",
    "The new mathematical notation of Pearl's framework was a necessary step in moving from associational to causal statistics. Since it is not possible to verify causal assumption, it is very important to have the notation, that will be cognitively meaningful."
   ]
  },
  {
   "cell_type": "markdown",
   "metadata": {
    "id": "bOr0cOeE9MQ3"
   },
   "source": [
    "# 2. Practical implementation"
   ]
  },
  {
   "cell_type": "markdown",
   "metadata": {
    "id": "ReJpm4uo9PAf"
   },
   "source": [
    "## 2.1. doWhy library"
   ]
  },
  {
   "cell_type": "markdown",
   "metadata": {
    "id": "OfSmmeig9R-_"
   },
   "source": [
    "The open-source Python Library DoWhy (Sharma and Kiciman, 2019) is and end-to-end library and interface for causal analysis. The library includes four steps, which are crucial for causal analysis: \n",
    "\n",
    "![dowhy](https://raw.githubusercontent.com/microsoft/dowhy/master/docs/images/dowhy-schematic.png)\n",
    "\n",
    "What sets the library apart from others is the comprehensive view starting from the data and ending up with a final causal estimate, which on top of that is tested on robustness. It can also operate with other libraries such as EconML and CausalML for estimation causality. \n",
    "\n",
    "### See also:\n",
    "* [doWhy Github repository](https://github.com/microsoft/dowhy)\n",
    "* [doWhy documentation](https://microsoft.github.io/dowhy/)\n",
    "* [examplary notebooks](https://github.com/microsoft/dowhy/tree/master/docs/source/example_notebooks)"
   ]
  },
  {
   "cell_type": "markdown",
   "metadata": {
    "id": "RTsgCecWe0Sz"
   },
   "source": [
    "## 2.2. Example: True causal effect in a linear model"
   ]
  },
  {
   "cell_type": "markdown",
   "metadata": {
    "id": "mbWBSNtMhGif"
   },
   "source": [
    "To give a first example, let's compare the standard approach of a linear regression (where we already impose a functional form - linearity and additivity - !) with one starting with a graphical representation that translates into the familiar linear regression specification."
   ]
  },
  {
   "cell_type": "code",
   "execution_count": null,
   "metadata": {
    "colab": {
     "base_uri": "https://localhost:8080/",
     "height": 142
    },
    "id": "8DjpUL7xho8j",
    "outputId": "98a579e2-1e6e-42a4-d25a-0ab241404325"
   },
   "outputs": [
    {
     "data": {
      "text/html": [
       "<div>\n",
       "<style scoped>\n",
       "    .dataframe tbody tr th:only-of-type {\n",
       "        vertical-align: middle;\n",
       "    }\n",
       "\n",
       "    .dataframe tbody tr th {\n",
       "        vertical-align: top;\n",
       "    }\n",
       "\n",
       "    .dataframe thead th {\n",
       "        text-align: right;\n",
       "    }\n",
       "</style>\n",
       "<table border=\"1\" class=\"dataframe\">\n",
       "  <thead>\n",
       "    <tr style=\"text-align: right;\">\n",
       "      <th></th>\n",
       "      <th>hours_studied</th>\n",
       "      <th>points_achieved</th>\n",
       "    </tr>\n",
       "  </thead>\n",
       "  <tbody>\n",
       "    <tr>\n",
       "      <th>0</th>\n",
       "      <td>0.0</td>\n",
       "      <td>0.132453</td>\n",
       "    </tr>\n",
       "    <tr>\n",
       "      <th>1</th>\n",
       "      <td>1.0</td>\n",
       "      <td>0.927173</td>\n",
       "    </tr>\n",
       "    <tr>\n",
       "      <th>2</th>\n",
       "      <td>-1.0</td>\n",
       "      <td>-1.059626</td>\n",
       "    </tr>\n",
       "  </tbody>\n",
       "</table>\n",
       "</div>"
      ],
      "text/plain": [
       "   hours_studied  points_achieved\n",
       "0            0.0         0.132453\n",
       "1            1.0         0.927173\n",
       "2           -1.0        -1.059626"
      ]
     },
     "execution_count": 7,
     "metadata": {
      "tags": []
     },
     "output_type": "execute_result"
    }
   ],
   "source": [
    "def standardize(data, ddof=1):\n",
    "    \"\"\"standardizes a matrx using `ddof` = 1 for an unbiased estimator of the sample variance\"\"\"\n",
    "    return (data - np.mean(data))/np.std(data, ddof=ddof)\n",
    "\n",
    "x = standardize(np.array([2, 4, 0])) # no intercept\n",
    "y = standardize(np.array([4, 6, 1]))\n",
    "\n",
    "df = pd.DataFrame({\n",
    "    'hours_studied': x,\n",
    "    'points_achieved': y\n",
    "})\n",
    "\n",
    "df"
   ]
  },
  {
   "cell_type": "code",
   "execution_count": null,
   "metadata": {
    "colab": {
     "base_uri": "https://localhost:8080/",
     "height": 268
    },
    "id": "sWKq-mHBin8C",
    "outputId": "89cfcf59-e6b4-445f-971d-cac26fb1972e"
   },
   "outputs": [
    {
     "data": {
      "image/png": "[encoded data removed]",
      "text/plain": [
       "<IPython.core.display.Image object>"
      ]
     },
     "metadata": {
      "tags": []
     },
     "output_type": "display_data"
    }
   ],
   "source": [
    "# Step 1: Define & assume — encoding assumptions in a causal graph\n",
    "\n",
    "causal_graph = \"\"\"digraph {\n",
    "hours_studied;\n",
    "points_achieved;\n",
    "U[label=\"Unobserved Confounders\"]; \n",
    "hours_studied -> points_achieved;\n",
    "U->hours_studied; U->points_achieved;\n",
    "}\"\"\"\n",
    "\n",
    "model = dowhy.CausalModel(\n",
    "    data=df,\n",
    "    graph=causal_graph.replace(\"\\n\", \" \"),\n",
    "    treatment=\"hours_studied\",\n",
    "    outcome=\"points_achieved\"\n",
    ")\n",
    "\n",
    "model.view_model()\n",
    "from IPython.display import Image, display\n",
    "display(Image(filename='causal_model.png'))"
   ]
  },
  {
   "cell_type": "markdown",
   "metadata": {
    "id": "xK_uidNYGaly"
   },
   "source": [
    "From the graphical model the implicit structural representation reads\n",
    "\n",
    "$ f_{X}(u_{X}) = X = u_X \\\\\n",
    "f_{Y}(X, u_Y) = Y = \\beta X + u_Y$\n",
    "\n",
    "Note that without the graph the directionality is ambiguous (e.g. rearrange X in terms of Y)! To overcome this notational shortcoming IV estimation has been proposed that injects directionality through exclusion assumptions and is e.g.operationalised through 2SLS which uncorrelates the error terms through the endogeneous variable."
   ]
  },
  {
   "cell_type": "code",
   "execution_count": null,
   "metadata": {
    "colab": {
     "base_uri": "https://localhost:8080/"
    },
    "id": "aYmnstLUhEau",
    "outputId": "b14d9dc9-72bb-46a6-cd00-e652ae356c92"
   },
   "outputs": [
    {
     "name": "stdout",
     "output_type": "stream",
     "text": [
      "Estimand type: nonparametric-ate\n",
      "\n",
      "### Estimand : 1\n",
      "Estimand name: backdoor1 (Default)\n",
      "Estimand expression:\n",
      "       d                                      \n",
      "────────────────(Expectation(points_achieved))\n",
      "d[hours_studied]                              \n",
      "Estimand assumption 1, Unconfoundedness: If U→{hours_studied} and U→points_achieved then P(points_achieved|hours_studied,,U) = P(points_achieved|hours_studied,)\n",
      "\n",
      "### Estimand : 2\n",
      "Estimand name: iv\n",
      "No such variable found!\n",
      "\n",
      "### Estimand : 3\n",
      "Estimand name: frontdoor\n",
      "No such variable found!\n",
      "\n"
     ]
    }
   ],
   "source": [
    "# Step 2: Identify\n",
    "\n",
    "identified_estimand = model.identify_effect(proceed_when_unidentifiable=True)\n",
    "print(identified_estimand)"
   ]
  },
  {
   "cell_type": "markdown",
   "metadata": {
    "id": "jkDSJHuaGjG_"
   },
   "source": [
    "Note that $Cov(X,Y) = \\beta$ (since $Cov(X, u_Y) = Cov(u_X, u_Y) = 0$).\n",
    "The latter condition is an optimality condition (by construction) that comes from the FONC of the minimized least-squares criterion and gives you k equations for k unknown parameters - identifyability guaranteed (and no dependence of $\\beta$ on the error term $u_Y$ but of **$X$ and $y$ only**). Pearl complains that this condition has been routinely used, \"often thoughtlessly, to justify the estimation of structural coefficients by regression techniques\" (Pearl, 2010). The key point is that this **optimality condition shouldn't be justified by an optimization problem** (which is only needed for quantification) but **by an underlying model to define the axioms used.** Moreover, the effect coefficient $\\beta$ is not only interpreted as causal but it's **proven** to be from the structural equations. Thus, note that background factors in structural equations differ fundamentally from residual terms in regression equations in their interpretation and construction. However, actual actual **ability of estimation** may be impeded by correlatedness of error terms.\n",
    "Endogeneity (OVB, attentuation bias, simultaneity bias e.g. demand<-->supply) leads to biased estimates and inconsistency, violating standard (asymptotic) inference."
   ]
  },
  {
   "cell_type": "code",
   "execution_count": null,
   "metadata": {
    "colab": {
     "base_uri": "https://localhost:8080/"
    },
    "id": "iXCsrVGAjTUd",
    "outputId": "cffb633e-d3d8-4c0d-f3d6-9764c3e08d41"
   },
   "outputs": [
    {
     "name": "stdout",
     "output_type": "stream",
     "text": [
      "*** Causal Estimate ***\n",
      "\n",
      "## Identified estimand\n",
      "Estimand type: nonparametric-ate\n",
      "\n",
      "## Realized estimand\n",
      "b: points_achieved~hours_studied\n",
      "Target units: ate\n",
      "\n",
      "## Estimate\n",
      "Mean value: 0.9933992677987824\n",
      "p-value: [0.0731864]\n",
      "\n"
     ]
    },
    {
     "name": "stderr",
     "output_type": "stream",
     "text": [
      "/usr/local/lib/python3.6/dist-packages/statsmodels/stats/stattools.py:71: ValueWarning: omni_normtest is not valid with less than 8 observations; 3 samples were given.\n",
      "  \"samples were given.\" % int(n), ValueWarning)\n"
     ]
    }
   ],
   "source": [
    "# Step 3: Estimate\n",
    "\n",
    "estimate = model.estimate_effect(\n",
    "    identified_estimand,\n",
    "    method_name=\"backdoor.linear_regression\",\n",
    "    test_significance=True\n",
    ")\n",
    "print(estimate)"
   ]
  },
  {
   "cell_type": "code",
   "execution_count": null,
   "metadata": {
    "colab": {
     "base_uri": "https://localhost:8080/"
    },
    "id": "6lKpFpwBoF9i",
    "outputId": "1a738924-c706-4326-a7db-3b809bc1969c"
   },
   "outputs": [
    {
     "name": "stdout",
     "output_type": "stream",
     "text": [
      "random_common_cause: Effect should not change significantly -- PASSED with tolerance of +/- 0.1\n",
      "effect: 0.99 -> 1.09\n",
      "\n",
      "placebo_treatment_refuter: Effect should go to zero -- PASSED with tolerance of +/- 0.1\n",
      "effect: 0.99 -> 0.00\n",
      "\n",
      "dummy_outcome_refuter: Effect should go to zero -- FAILED with tolerance of +/- 0.1\n",
      "effect: 0.99 -> -0.20\n",
      "\n",
      "data_subset_refuter: Effect should not change significantly -- PASSED with tolerance of +/- 0.1\n",
      "effect: 0.99 -> 0.97\n",
      "\n",
      "bootstrap_refuter: Effect should not change significantly -- FAILED with tolerance of +/- 0.1\n",
      "effect: 0.99 -> 0.76\n",
      "\n"
     ]
    }
   ],
   "source": [
    "# Step 4: Refute\n",
    "\n",
    "refuter = CausalRefuter(**refutation_config)\n",
    "refuter.refute(model, identified_estimand, estimate) \n",
    "\n",
    "# more on refutation in the following chapter\n",
    "# some tests failed due to a very small size of the dataset"
   ]
  },
  {
   "cell_type": "code",
   "execution_count": null,
   "metadata": {
    "colab": {
     "base_uri": "https://localhost:8080/"
    },
    "id": "MZuuBYsRllOS",
    "outputId": "626df845-3589-48ff-81f4-5a3b881e8e63"
   },
   "outputs": [
    {
     "data": {
      "text/plain": [
       "array([[1.        , 0.99339927],\n",
       "       [0.99339927, 1.        ]])"
      ]
     },
     "execution_count": 22,
     "metadata": {
      "tags": []
     },
     "output_type": "execute_result"
    }
   ],
   "source": [
    "np.cov(x, y)"
   ]
  },
  {
   "cell_type": "code",
   "execution_count": null,
   "metadata": {
    "colab": {
     "base_uri": "https://localhost:8080/"
    },
    "id": "ZeUW9S-sjV7n",
    "outputId": "436950a0-8cf9-41e7-a5f7-b97bb5b9a8a9"
   },
   "outputs": [
    {
     "data": {
      "text/plain": [
       "array([0.99339927])"
      ]
     },
     "execution_count": 23,
     "metadata": {
      "tags": []
     },
     "output_type": "execute_result"
    }
   ],
   "source": [
    "# Manual OLS\n",
    "\n",
    "X = x.reshape((3,1)) # transforming a flat array to a matrix\n",
    "\n",
    "XtX = np.matmul(X.transpose(), X)\n",
    "Xty = np.matmul(X.transpose(), y)\n",
    "\n",
    "OLS = np.matmul(\n",
    "    np.linalg.inv(XtX), \n",
    "    Xty\n",
    ")\n",
    "\n",
    "OLS"
   ]
  },
  {
   "cell_type": "code",
   "execution_count": null,
   "metadata": {
    "colab": {
     "base_uri": "https://localhost:8080/"
    },
    "id": "GXuGSEn5KX6n",
    "outputId": "0a1b8cc5-9de1-4a10-b610-fcc5fe4b1a79"
   },
   "outputs": [
    {
     "name": "stdout",
     "output_type": "stream",
     "text": [
      "2.0 2.5166114784235836\n"
     ]
    }
   ],
   "source": [
    "x_std = np.std(np.array([2, 4, 0]), ddof=1)\n",
    "y_std = np.std(np.array([4, 6, 1]), ddof=1)\n",
    "print(x_std, y_std)"
   ]
  },
  {
   "cell_type": "markdown",
   "metadata": {
    "id": "_9h8opl6t-q8"
   },
   "source": [
    "In this example, a 1 standard-unit increase in hours studied in terms of hours studied increases, on average (but don't have to, linear regression simply computes the expectation function), the points achieved by one standard-unit in terms of hours studied times the beta coefficient. In this case, if you additionally studied 2 hours, on average the points achieved would increase by 1 * 0.99 = 0.99 standard-units which amounts to 3.67 points. (Moreover, in the absence of multicollinearity the feature hours_studied explains about (0.99)**2 * 100 = 98.68 percent of the variance in the points_achieved.)\n",
    "\n",
    "Both the OLS and the causal model lead to the same result for this simple example."
   ]
  },
  {
   "cell_type": "markdown",
   "metadata": {
    "id": "WtptScWwe0HU"
   },
   "source": [
    "## 2.3. Example: Hotel booking cancellations"
   ]
  },
  {
   "cell_type": "markdown",
   "metadata": {
    "id": "vi_e69TKW1Bw"
   },
   "source": [
    "The following example follows the [article](https://towardsdatascience.com/beyond-predictive-models-the-causal-story-behind-hotel-booking-cancellations-d29e8558cbaf) by Siddharth Dixit, which introduces a real-world [dataset](https://github.com/Sid-darthvader/DoWhy-The-Causal-Story-Behind-Hotel-Booking-Cancellations) representing booking information for a city hotel and a resort hotel in Portugal. Data preparation follows the original article and is out of the scope of this notebook.\n",
    "\n",
    "The final dataset contains a broad set of features about hotel bookings, such as the booking time, total length of stay (day & night), number of guests and the number of available parking spaces, etc. The current example examines the impact of assigning a room different to what a customer had reserved (__treatment variable__ is `different_room_assigned`) on the booking cancellation (__outcome variable__ is `is_canceled`). Both treatment and outcome have a binary preculiarity (1 if event occurred, 0 else)."
   ]
  },
  {
   "cell_type": "code",
   "execution_count": null,
   "metadata": {
    "colab": {
     "base_uri": "https://localhost:8080/",
     "height": 309
    },
    "id": "gIhsq3BTVxbW",
    "outputId": "2712ff35-d1ef-4fca-8d9d-9d0ef7985292"
   },
   "outputs": [
    {
     "data": {
      "text/html": [
       "<div>\n",
       "<style scoped>\n",
       "    .dataframe tbody tr th:only-of-type {\n",
       "        vertical-align: middle;\n",
       "    }\n",
       "\n",
       "    .dataframe tbody tr th {\n",
       "        vertical-align: top;\n",
       "    }\n",
       "\n",
       "    .dataframe thead th {\n",
       "        text-align: right;\n",
       "    }\n",
       "</style>\n",
       "<table border=\"1\" class=\"dataframe\">\n",
       "  <thead>\n",
       "    <tr style=\"text-align: right;\">\n",
       "      <th></th>\n",
       "      <th>hotel</th>\n",
       "      <th>is_canceled</th>\n",
       "      <th>lead_time</th>\n",
       "      <th>arrival_date_month</th>\n",
       "      <th>arrival_date_week_number</th>\n",
       "      <th>meal</th>\n",
       "      <th>country</th>\n",
       "      <th>market_segment</th>\n",
       "      <th>distribution_channel</th>\n",
       "      <th>is_repeated_guest</th>\n",
       "      <th>previous_cancellations</th>\n",
       "      <th>previous_bookings_not_canceled</th>\n",
       "      <th>booking_changes</th>\n",
       "      <th>deposit_type</th>\n",
       "      <th>days_in_waiting_list</th>\n",
       "      <th>customer_type</th>\n",
       "      <th>adr</th>\n",
       "      <th>required_car_parking_spaces</th>\n",
       "      <th>total_of_special_requests</th>\n",
       "      <th>total_stay</th>\n",
       "      <th>guests</th>\n",
       "      <th>different_room_assigned</th>\n",
       "    </tr>\n",
       "  </thead>\n",
       "  <tbody>\n",
       "    <tr>\n",
       "      <th>0</th>\n",
       "      <td>Resort Hotel</td>\n",
       "      <td>False</td>\n",
       "      <td>342</td>\n",
       "      <td>July</td>\n",
       "      <td>27</td>\n",
       "      <td>BB</td>\n",
       "      <td>PRT</td>\n",
       "      <td>Direct</td>\n",
       "      <td>Direct</td>\n",
       "      <td>0</td>\n",
       "      <td>0</td>\n",
       "      <td>0</td>\n",
       "      <td>3</td>\n",
       "      <td>No Deposit</td>\n",
       "      <td>0</td>\n",
       "      <td>Transient</td>\n",
       "      <td>0.0</td>\n",
       "      <td>0</td>\n",
       "      <td>0</td>\n",
       "      <td>0</td>\n",
       "      <td>2.0</td>\n",
       "      <td>False</td>\n",
       "    </tr>\n",
       "    <tr>\n",
       "      <th>1</th>\n",
       "      <td>Resort Hotel</td>\n",
       "      <td>False</td>\n",
       "      <td>737</td>\n",
       "      <td>July</td>\n",
       "      <td>27</td>\n",
       "      <td>BB</td>\n",
       "      <td>PRT</td>\n",
       "      <td>Direct</td>\n",
       "      <td>Direct</td>\n",
       "      <td>0</td>\n",
       "      <td>0</td>\n",
       "      <td>0</td>\n",
       "      <td>4</td>\n",
       "      <td>No Deposit</td>\n",
       "      <td>0</td>\n",
       "      <td>Transient</td>\n",
       "      <td>0.0</td>\n",
       "      <td>0</td>\n",
       "      <td>0</td>\n",
       "      <td>0</td>\n",
       "      <td>2.0</td>\n",
       "      <td>False</td>\n",
       "    </tr>\n",
       "    <tr>\n",
       "      <th>2</th>\n",
       "      <td>Resort Hotel</td>\n",
       "      <td>False</td>\n",
       "      <td>7</td>\n",
       "      <td>July</td>\n",
       "      <td>27</td>\n",
       "      <td>BB</td>\n",
       "      <td>GBR</td>\n",
       "      <td>Direct</td>\n",
       "      <td>Direct</td>\n",
       "      <td>0</td>\n",
       "      <td>0</td>\n",
       "      <td>0</td>\n",
       "      <td>0</td>\n",
       "      <td>No Deposit</td>\n",
       "      <td>0</td>\n",
       "      <td>Transient</td>\n",
       "      <td>75.0</td>\n",
       "      <td>0</td>\n",
       "      <td>0</td>\n",
       "      <td>1</td>\n",
       "      <td>1.0</td>\n",
       "      <td>True</td>\n",
       "    </tr>\n",
       "    <tr>\n",
       "      <th>3</th>\n",
       "      <td>Resort Hotel</td>\n",
       "      <td>False</td>\n",
       "      <td>13</td>\n",
       "      <td>July</td>\n",
       "      <td>27</td>\n",
       "      <td>BB</td>\n",
       "      <td>GBR</td>\n",
       "      <td>Corporate</td>\n",
       "      <td>Corporate</td>\n",
       "      <td>0</td>\n",
       "      <td>0</td>\n",
       "      <td>0</td>\n",
       "      <td>0</td>\n",
       "      <td>No Deposit</td>\n",
       "      <td>0</td>\n",
       "      <td>Transient</td>\n",
       "      <td>75.0</td>\n",
       "      <td>0</td>\n",
       "      <td>0</td>\n",
       "      <td>1</td>\n",
       "      <td>1.0</td>\n",
       "      <td>False</td>\n",
       "    </tr>\n",
       "    <tr>\n",
       "      <th>4</th>\n",
       "      <td>Resort Hotel</td>\n",
       "      <td>False</td>\n",
       "      <td>14</td>\n",
       "      <td>July</td>\n",
       "      <td>27</td>\n",
       "      <td>BB</td>\n",
       "      <td>GBR</td>\n",
       "      <td>Online TA</td>\n",
       "      <td>TA/TO</td>\n",
       "      <td>0</td>\n",
       "      <td>0</td>\n",
       "      <td>0</td>\n",
       "      <td>0</td>\n",
       "      <td>No Deposit</td>\n",
       "      <td>0</td>\n",
       "      <td>Transient</td>\n",
       "      <td>98.0</td>\n",
       "      <td>0</td>\n",
       "      <td>1</td>\n",
       "      <td>2</td>\n",
       "      <td>2.0</td>\n",
       "      <td>False</td>\n",
       "    </tr>\n",
       "  </tbody>\n",
       "</table>\n",
       "</div>"
      ],
      "text/plain": [
       "          hotel  is_canceled  ...  guests different_room_assigned\n",
       "0  Resort Hotel        False  ...     2.0                   False\n",
       "1  Resort Hotel        False  ...     2.0                   False\n",
       "2  Resort Hotel        False  ...     1.0                    True\n",
       "3  Resort Hotel        False  ...     1.0                   False\n",
       "4  Resort Hotel        False  ...     2.0                   False\n",
       "\n",
       "[5 rows x 22 columns]"
      ]
     },
     "execution_count": 7,
     "metadata": {
      "tags": []
     },
     "output_type": "execute_result"
    }
   ],
   "source": [
    "# Step 0: Data preparation\n",
    "\n",
    "dataset_link = 'https://raw.githubusercontent.com/Sid-darthvader/DoWhy-The-Causal-Story-Behind-Hotel-Booking-Cancellations/master/hotel_bookings.csv'\n",
    "\n",
    "dataset = pd.read_csv(dataset_link)\n",
    "dataset = prepare_booking_cancellation_data(dataset)\n",
    "\n",
    "dataset.head()"
   ]
  },
  {
   "cell_type": "code",
   "execution_count": null,
   "metadata": {
    "colab": {
     "base_uri": "https://localhost:8080/",
     "height": 224
    },
    "id": "OuVOlHqhsECj",
    "outputId": "b1082f58-007f-49fc-b01a-d40eeff648f1"
   },
   "outputs": [
    {
     "data": {
      "text/html": [
       "<div>\n",
       "<style scoped>\n",
       "    .dataframe tbody tr th:only-of-type {\n",
       "        vertical-align: middle;\n",
       "    }\n",
       "\n",
       "    .dataframe tbody tr th {\n",
       "        vertical-align: top;\n",
       "    }\n",
       "\n",
       "    .dataframe thead th {\n",
       "        text-align: right;\n",
       "    }\n",
       "</style>\n",
       "<table border=\"1\" class=\"dataframe\">\n",
       "  <thead>\n",
       "    <tr style=\"text-align: right;\">\n",
       "      <th></th>\n",
       "      <th></th>\n",
       "      <th>hotel</th>\n",
       "      <th>lead_time</th>\n",
       "      <th>arrival_date_month</th>\n",
       "      <th>arrival_date_week_number</th>\n",
       "      <th>meal</th>\n",
       "      <th>country</th>\n",
       "      <th>market_segment</th>\n",
       "      <th>distribution_channel</th>\n",
       "      <th>is_repeated_guest</th>\n",
       "      <th>previous_cancellations</th>\n",
       "      <th>previous_bookings_not_canceled</th>\n",
       "      <th>booking_changes</th>\n",
       "      <th>deposit_type</th>\n",
       "      <th>days_in_waiting_list</th>\n",
       "      <th>customer_type</th>\n",
       "      <th>adr</th>\n",
       "      <th>required_car_parking_spaces</th>\n",
       "      <th>total_of_special_requests</th>\n",
       "      <th>total_stay</th>\n",
       "      <th>guests</th>\n",
       "    </tr>\n",
       "    <tr>\n",
       "      <th>different_room_assigned</th>\n",
       "      <th>is_canceled</th>\n",
       "      <th></th>\n",
       "      <th></th>\n",
       "      <th></th>\n",
       "      <th></th>\n",
       "      <th></th>\n",
       "      <th></th>\n",
       "      <th></th>\n",
       "      <th></th>\n",
       "      <th></th>\n",
       "      <th></th>\n",
       "      <th></th>\n",
       "      <th></th>\n",
       "      <th></th>\n",
       "      <th></th>\n",
       "      <th></th>\n",
       "      <th></th>\n",
       "      <th></th>\n",
       "      <th></th>\n",
       "      <th></th>\n",
       "      <th></th>\n",
       "    </tr>\n",
       "  </thead>\n",
       "  <tbody>\n",
       "    <tr>\n",
       "      <th rowspan=\"2\" valign=\"top\">False</th>\n",
       "      <th>False</th>\n",
       "      <td>61051</td>\n",
       "      <td>61051</td>\n",
       "      <td>61051</td>\n",
       "      <td>61051</td>\n",
       "      <td>61051</td>\n",
       "      <td>61051</td>\n",
       "      <td>61051</td>\n",
       "      <td>61051</td>\n",
       "      <td>61051</td>\n",
       "      <td>61051</td>\n",
       "      <td>61051</td>\n",
       "      <td>61051</td>\n",
       "      <td>61051</td>\n",
       "      <td>61051</td>\n",
       "      <td>61051</td>\n",
       "      <td>61051</td>\n",
       "      <td>61051</td>\n",
       "      <td>61051</td>\n",
       "      <td>61051</td>\n",
       "      <td>61051</td>\n",
       "    </tr>\n",
       "    <tr>\n",
       "      <th>True</th>\n",
       "      <td>43418</td>\n",
       "      <td>43418</td>\n",
       "      <td>43418</td>\n",
       "      <td>43418</td>\n",
       "      <td>43418</td>\n",
       "      <td>43418</td>\n",
       "      <td>43418</td>\n",
       "      <td>43418</td>\n",
       "      <td>43418</td>\n",
       "      <td>43418</td>\n",
       "      <td>43418</td>\n",
       "      <td>43418</td>\n",
       "      <td>43418</td>\n",
       "      <td>43418</td>\n",
       "      <td>43418</td>\n",
       "      <td>43418</td>\n",
       "      <td>43418</td>\n",
       "      <td>43418</td>\n",
       "      <td>43418</td>\n",
       "      <td>43418</td>\n",
       "    </tr>\n",
       "    <tr>\n",
       "      <th rowspan=\"2\" valign=\"top\">True</th>\n",
       "      <th>False</th>\n",
       "      <td>14115</td>\n",
       "      <td>14115</td>\n",
       "      <td>14115</td>\n",
       "      <td>14115</td>\n",
       "      <td>14115</td>\n",
       "      <td>14115</td>\n",
       "      <td>14115</td>\n",
       "      <td>14115</td>\n",
       "      <td>14115</td>\n",
       "      <td>14115</td>\n",
       "      <td>14115</td>\n",
       "      <td>14115</td>\n",
       "      <td>14115</td>\n",
       "      <td>14115</td>\n",
       "      <td>14115</td>\n",
       "      <td>14115</td>\n",
       "      <td>14115</td>\n",
       "      <td>14115</td>\n",
       "      <td>14115</td>\n",
       "      <td>14115</td>\n",
       "    </tr>\n",
       "    <tr>\n",
       "      <th>True</th>\n",
       "      <td>802</td>\n",
       "      <td>802</td>\n",
       "      <td>802</td>\n",
       "      <td>802</td>\n",
       "      <td>802</td>\n",
       "      <td>802</td>\n",
       "      <td>802</td>\n",
       "      <td>802</td>\n",
       "      <td>802</td>\n",
       "      <td>802</td>\n",
       "      <td>802</td>\n",
       "      <td>802</td>\n",
       "      <td>802</td>\n",
       "      <td>802</td>\n",
       "      <td>802</td>\n",
       "      <td>802</td>\n",
       "      <td>802</td>\n",
       "      <td>802</td>\n",
       "      <td>802</td>\n",
       "      <td>802</td>\n",
       "    </tr>\n",
       "  </tbody>\n",
       "</table>\n",
       "</div>"
      ],
      "text/plain": [
       "                                     hotel  lead_time  ...  total_stay  guests\n",
       "different_room_assigned is_canceled                    ...                    \n",
       "False                   False        61051      61051  ...       61051   61051\n",
       "                        True         43418      43418  ...       43418   43418\n",
       "True                    False        14115      14115  ...       14115   14115\n",
       "                        True           802        802  ...         802     802\n",
       "\n",
       "[4 rows x 20 columns]"
      ]
     },
     "execution_count": 9,
     "metadata": {
      "tags": []
     },
     "output_type": "execute_result"
    }
   ],
   "source": [
    "dataset.groupby(['different_room_assigned', 'is_canceled']).count()"
   ]
  },
  {
   "cell_type": "code",
   "execution_count": null,
   "metadata": {
    "colab": {
     "base_uri": "https://localhost:8080/",
     "height": 37
    },
    "id": "2QhMD459sbAm",
    "outputId": "875c5a05-b2aa-4b5e-ee67-2a1baca9f2f7"
   },
   "outputs": [
    {
     "data": {
      "image/png": "[encoded data removed]",
      "text/latex": [
       "$\\displaystyle \\left( 119386, \\  22\\right)$"
      ],
      "text/plain": [
       "(119386, 22)"
      ]
     },
     "execution_count": 10,
     "metadata": {
      "tags": []
     },
     "output_type": "execute_result"
    }
   ],
   "source": [
    "dataset.shape"
   ]
  },
  {
   "cell_type": "markdown",
   "metadata": {
    "id": "A-UXjvsuW8o0"
   },
   "source": [
    "The first step of the Dowhy Package is creating a model, which encodes relationships and variables in an underlying causal graph based on Pearl for a specific issue. Therefore, intuition and causal assumptions about the relationship of certain variables need to be clearly identified. Then the causal graph can be built. If some relationships can't be identified by that time, the Package considers them as potential confounders (Sharma and Kiciman, 2020)."
   ]
  },
  {
   "cell_type": "code",
   "execution_count": null,
   "metadata": {
    "colab": {
     "base_uri": "https://localhost:8080/",
     "height": 364
    },
    "id": "jpBsmzIYsT_v",
    "outputId": "2758ab39-a04c-47a1-a75b-a0a25951ddbd"
   },
   "outputs": [
    {
     "data": {
      "image/png": "[encoded data removed]",
      "text/plain": [
       "<IPython.core.display.Image object>"
      ]
     },
     "metadata": {
      "tags": []
     },
     "output_type": "display_data"
    }
   ],
   "source": [
    "# Step 1: Define & assume — encoding assumptions in a causal graph\n",
    "\n",
    "causal_graph = \"\"\"digraph {\n",
    "different_room_assigned[label=\"Different Room Assigned\"];\n",
    "is_canceled[label=\"Booking Cancelled\"];\n",
    "booking_changes[label=\"Booking Changes\"];\n",
    "previous_bookings_not_canceled[label=\"Previous Booking Retentions\"];\n",
    "days_in_waiting_list[label=\"Days in Waitlist\"];\n",
    "lead_time[label=\"Lead Time\"];\n",
    "market_segment[label=\"Market Segment\"];\n",
    "country[label=\"Country\"];\n",
    "U[label=\"Unobserved Confounders\"];\n",
    "is_repeated_guest;\n",
    "total_stay;\n",
    "guests;\n",
    "meal;\n",
    "market_segment -> lead_time;\n",
    "lead_time->is_canceled; country -> lead_time;\n",
    "different_room_assigned -> is_canceled;\n",
    "U -> different_room_assigned; U -> lead_time; U -> is_canceled;\n",
    "country->meal;\n",
    "lead_time -> days_in_waiting_list;\n",
    "days_in_waiting_list ->is_canceled;\n",
    "previous_bookings_not_canceled -> is_canceled;\n",
    "previous_bookings_not_canceled -> is_repeated_guest;\n",
    "is_repeated_guest -> is_canceled;\n",
    "total_stay -> is_canceled;\n",
    "guests -> is_canceled;\n",
    "booking_changes -> different_room_assigned; booking_changes -> is_canceled; \n",
    "}\"\"\"\n",
    "\n",
    "model = dowhy.CausalModel(\n",
    "    data=dataset,\n",
    "    graph=causal_graph.replace(\"\\n\", \" \"),\n",
    "    treatment='different_room_assigned',\n",
    "    outcome='is_canceled')\n",
    "\n",
    "model.view_model()\n",
    "from IPython.display import Image, display\n",
    "display(Image(filename=\"causal_model.png\"))"
   ]
  },
  {
   "cell_type": "markdown",
   "metadata": {
    "id": "_CeOuwwsXPzT"
   },
   "source": [
    "The next step is the **identification** of the causal effect based on graphical methods and identification criteria such as the back-door and front-door criterion, instrumental variables or mediation techniques (Sharma and Kiciman, 2020). \n",
    "\n",
    "_(For an intuition behind the back-door criterion, see appendix to this notebook.)_"
   ]
  },
  {
   "cell_type": "code",
   "execution_count": null,
   "metadata": {
    "colab": {
     "base_uri": "https://localhost:8080/"
    },
    "id": "3GeSeImusTu8",
    "outputId": "a2028258-978e-4b46-842b-21ba5d018e33"
   },
   "outputs": [
    {
     "name": "stdout",
     "output_type": "stream",
     "text": [
      "257 estimands identified for this model.\n"
     ]
    }
   ],
   "source": [
    "# Step 2: Identify\n",
    "\n",
    "identified_estimand = model.identify_effect(proceed_when_unidentifiable=True)\n",
    "\n",
    "valid_estimands = [estimand \n",
    "                   for estimand in identified_estimand.estimands \n",
    "                   if identified_estimand.estimands[estimand] is not None]\n",
    "\n",
    "print(f'{len(valid_estimands)} estimands identified for this model.')\n",
    "#print(identified_estimand) # uncomment to print all estimands\n",
    "\n",
    "# https://github.com/microsoft/dowhy/issues/198#issuecomment-735269793\n",
    "# 1 back-door estimand in dowhy==0.4; 257 in dowhy==0.5"
   ]
  },
  {
   "cell_type": "markdown",
   "metadata": {
    "id": "zCoxLnbCXYWy"
   },
   "source": [
    "The third step is the **estimation** with statistical methods (Sharma and Kiciman, 2020):\n",
    " -  based on estimating the treatment assignment (Propensity-based Stratification, Propensity Score Matching, Inverse Propensity Weighting)\n",
    " - based on estimating the outcome model (Linear Regression, Generalized Linear Models)\n",
    " - based on the instrumental variable equation (Binary Instrument/Wald Estimator, Two-stage least squares, Regression discontinuity)\n",
    " - for front-door criterion and general mediation (Two-stage linear regression)\n",
    "\n",
    "Besides the identified estimand and method name in the estimate function the target units also need to be specified. These can be the ATE (Average Treatment Effect), the ATT (Average Treatment Effect on Treated: those who were assigned a different room) or the ATC (Average Treatment Effect on Control: those who were not assigned a different room). "
   ]
  },
  {
   "cell_type": "code",
   "execution_count": null,
   "metadata": {
    "colab": {
     "base_uri": "https://localhost:8080/"
    },
    "id": "LBgfelJZsTl5",
    "outputId": "78ae80c4-224d-436c-d2a6-12c52aceb1de"
   },
   "outputs": [
    {
     "name": "stderr",
     "output_type": "stream",
     "text": [
      "/usr/local/lib/python3.6/dist-packages/sklearn/utils/validation.py:760: DataConversionWarning: A column-vector y was passed when a 1d array was expected. Please change the shape of y to (n_samples, ), for example using ravel().\n",
      "  y = column_or_1d(y, warn=True)\n",
      "/usr/local/lib/python3.6/dist-packages/sklearn/linear_model/_logistic.py:940: ConvergenceWarning: lbfgs failed to converge (status=1):\n",
      "STOP: TOTAL NO. of ITERATIONS REACHED LIMIT.\n",
      "\n",
      "Increase the number of iterations (max_iter) or scale the data as shown in:\n",
      "    https://scikit-learn.org/stable/modules/preprocessing.html\n",
      "Please also refer to the documentation for alternative solver options:\n",
      "    https://scikit-learn.org/stable/modules/linear_model.html#logistic-regression\n",
      "  extra_warning_msg=_LOGISTIC_SOLVER_CONVERGENCE_MSG)\n",
      "/usr/local/lib/python3.6/dist-packages/pandas/core/computation/expressions.py:204: UserWarning: evaluating in Python space because the '*' operator is not supported by numexpr for the bool dtype, use '&' instead\n",
      "  f\"evaluating in Python space because the {repr(op_str)} \"\n"
     ]
    },
    {
     "name": "stdout",
     "output_type": "stream",
     "text": [
      "*** Causal Estimate ***\n",
      "\n",
      "## Identified estimand\n",
      "Estimand type: nonparametric-ate\n",
      "\n",
      "## Realized estimand\n",
      "b: is_canceled~different_room_assigned+total_stay+booking_changes+previous_bookings_not_canceled+meal+is_repeated_guest+market_segment+guests+country+days_in_waiting_list+lead_time\n",
      "Target units: ate\n",
      "\n",
      "## Estimate\n",
      "Mean value: -0.3353294138220617\n",
      "\n"
     ]
    }
   ],
   "source": [
    "# Step 3: Estimate the identified estimand\n",
    "\n",
    "estimate = model.estimate_effect(\n",
    "    identified_estimand,\n",
    "    method_name=\"backdoor.propensity_score_stratification\",\n",
    "    target_units=\"ate\")\n",
    "\n",
    "print(estimate)"
   ]
  },
  {
   "cell_type": "markdown",
   "metadata": {
    "id": "4ibfw4Ttegtw"
   },
   "source": [
    "Recall that the (average) treatment effect is the difference between the probability that a customer would cancel the booking if a different room was assigned (which is observable) and the probability that **the counterfactually same** customer would cancel if a different room was also assigned when in reality no different room was assigned.\n",
    "\n",
    "Somewhat counterintutively (and [different](https://github.com/microsoft/dowhy/issues/198#issuecomment-738914686) than in the original notebook), this causal estimate implies that, on average, hotel bookings are 33.5% less likely to be canceled if a guest has been assigned a different room when chosen during the original booking. Therefore, the second, **counterfactual** outcome term must be greater than the actual, observable term/cancellation probability which could be due to an overall higher probability of cancellations in the data that are not caused by booking changes and/or different room assignment but something else.\n",
    "\n",
    "One reasonable explanation for such effect is that hotels discriminate against people who are unlikely to cancel their trip by switching them to different rooms. Is it possible that our original assumptions were wrong? We can do a series of checks, called __refutation__ to examine the robustness of the estimated model and its underlying assumptions."
   ]
  },
  {
   "cell_type": "markdown",
   "metadata": {
    "id": "3eXJ0hXVbiFw"
   },
   "source": [
    "Such refutation checks include (Sharma and Kiciman, 2020, Dixit, 2020): \n",
    "\n",
    "- __Add Random Common Cause__: adding randomly drawn and independent covariates as common causes into the data and running the analysis. As a result, the estimate shouldn't change. If it changes, the check failed.\n",
    "- __Placebo Treatment__: randomly assignsing any independent covariate as a treatment, which replaces the true treatment variable and running the analysis. The estimate causal effect should go to 0. This would mean, that our assumptions are correct.\n",
    "- __Dummy Outcome__: replacing the true outcome variable with an independent random variable. \n",
    "The estimated caual effect should go to 0. This would again mean, that our assumptions are correct.\n",
    "- __Add Unobserved Common Causes__: adding an additional confounder to the dataset that is correlated with the treatment and the outcome. The sensitivity of the estimate should be low. If its high, the check has failed.\n",
    "- __Data Subsets Validation__: replacing the dataset with a randomly created subset. The estimated effect shouldn't change or vary significantly within the procedure of replacing the subsets with each other. If there is low variation and no significant change, the assumptions are correct. \n",
    "- __Bootstrap Validation__: replacing the given dataset with bootstrapped samples from the same dataset. The estimated effect shouldn't change significantly."
   ]
  },
  {
   "cell_type": "code",
   "execution_count": null,
   "metadata": {
    "colab": {
     "base_uri": "https://localhost:8080/"
    },
    "id": "R5NephZTsPds",
    "outputId": "0eeaee2b-3e26-497e-f32d-7a03a3b26045"
   },
   "outputs": [
    {
     "name": "stdout",
     "output_type": "stream",
     "text": [
      "random_common_cause: Effect should not change significantly -- PASSED with tolerance of +/- 0.1\n",
      "effect: -0.34 -> -0.34\n",
      "\n",
      "placebo_treatment_refuter: Effect should go to zero -- PASSED with tolerance of +/- 0.1\n",
      "effect: -0.34 -> 0.00\n",
      "\n",
      "dummy_outcome_refuter: Effect should go to zero -- PASSED with tolerance of +/- 0.1\n",
      "effect: -0.34 -> 0.00\n",
      "\n",
      "data_subset_refuter: Effect should not change significantly -- PASSED with tolerance of +/- 0.1\n",
      "effect: -0.34 -> -0.34\n",
      "\n",
      "bootstrap_refuter: Effect should not change significantly -- PASSED with tolerance of +/- 0.1\n",
      "effect: -0.34 -> -0.34\n",
      "\n"
     ]
    }
   ],
   "source": [
    "# Step 4: Refute – robustness check\n",
    "\n",
    "refuter = CausalRefuter(**refutation_config)\n",
    "refuter.refute(model, identified_estimand, estimate)"
   ]
  },
  {
   "cell_type": "markdown",
   "metadata": {
    "id": "Exp7N8HcMI6z"
   },
   "source": [
    "For this example, the effects change exactly as expected compared to the original model; this is often not the case. It is up to the analyst to decide what deviance from the expected effect change is to be expected (here: `tolerance` hyperparameter of `expected effect`$\\pm0.1$)."
   ]
  },
  {
   "cell_type": "markdown",
   "metadata": {
    "id": "N_y6b-oxXTuj"
   },
   "source": [
    "# 3. Outlook / Seminar paper\n",
    "\n",
    "- Cross-sectional causal inference $\\neq$ dynamic causality (time series, stationarity!), Pearl's graphical theory of causality perhaps not applicable (need to check)\n",
    "- Dynamic causality: causal inference & treatment ~ impulse response functions from e.g. SVAR models\n",
    "- Classical research questions from macroeconomics, e.g. causal effects of monetary policy on GDP, consumption etc. (Romer-Romer shocks, 2004)\n",
    "\n",
    "**A great/complete review:** https://towardsdatascience.com/inferring-causality-in-time-series-data-b8b75fe52c46\n",
    "\n",
    "**\"Practical\" application:** Joshua D. Angrist, Òscar Jordà & Guido M. Kuersteiner (2018) Semiparametric Estimates of Monetary Policy Effects: String Theory Revisited, Journal of Business & Economic Statistics, 36:3, 371-387, DOI: 10.1080/07350015.2016.1204919\n"
   ]
  },
  {
   "cell_type": "markdown",
   "metadata": {
    "id": "aSyAx-MTez9e"
   },
   "source": [
    "# 4. Appendix: More theory and application"
   ]
  },
  {
   "cell_type": "markdown",
   "metadata": {
    "id": "jk4JuvXCr4CO"
   },
   "source": [
    "## 4.1. A theoretical excursus: Identifiability, estimation, and covariate selection"
   ]
  },
  {
   "cell_type": "markdown",
   "metadata": {
    "id": "zi3qRp0mr8vZ"
   },
   "source": [
    "Can the controlled (post-intervention) distribution, $P(Y=y|do(x))$ be estimated from data governed by pre-intervention distribution, $P(z,x,y)$?\n",
    "\n",
    "* According to Pearl's (2010, 12) definition, __a causal effect $ß$ is identifiable__ if its estimation depends solely on the distribution of observed variables and not on the model used for the estimation (for any model that satisfies assumptions encoded in the causal graph)\\\n",
    "_Main takeaway: The model does not matter as long as assumptions are satisfied!_\n",
    "\n",
    "* It can be shown that $E(Y|do(x_0) = E(Y|X=x_0) = E(Y|f_Y(Z, x_0))$, where $f_Y$ is a model explaining $Y$, and $Z$ is a set of covariates d-connected with $Y$\n",
    "\n",
    "* In particular, causal effects are __identifiable__ if the causal graph satisfies the requirements of the __Markovian model__: (i) it is _acyclic_ (no directed cycles) and (ii) all error terms are jointly independent.\n",
    "\n",
    "* Any distribution generated by a Markovian model can be factorized as\\\n",
    "$P(v_1, \\ldots, v_n) = \\prod_iP(v_i|pa_i)$, and\\\n",
    "any distribution generated by a Markovian model with an intervention $do(X=x_0)$ can be given by truncated factorization\\\n",
    "$P(v_1, \\ldots, v_n|do(x_0)) = \\prod_{i|V_i \\notin X}P(v_i|pa_i)|_{x=x_0}$.\n",
    "\n",
    "* One can therefore easily compute the post-intervention distribution; see example below."
   ]
  },
  {
   "cell_type": "code",
   "execution_count": null,
   "metadata": {
    "colab": {
     "base_uri": "https://localhost:8080/",
     "height": 368
    },
    "id": "ORTGgv4rZHDo",
    "outputId": "74bd3f5c-a326-4235-84ae-a7ad8d764c79"
   },
   "outputs": [
    {
     "data": {
      "image/svg+xml": [
       "<?xml version=\"1.0\" encoding=\"UTF-8\" standalone=\"no\"?>\n",
       "<!DOCTYPE svg PUBLIC \"-//W3C//DTD SVG 1.1//EN\"\n",
       " \"http://www.w3.org/Graphics/SVG/1.1/DTD/svg11.dtd\">\n",
       "<!-- Generated by graphviz version 2.40.1 (20161225.0304)\n",
       " -->\n",
       "<!-- Title: %3 Pages: 1 -->\n",
       "<svg width=\"154pt\" height=\"260pt\"\n",
       " viewBox=\"0.00 0.00 154.00 260.00\" xmlns=\"http://www.w3.org/2000/svg\" xmlns:xlink=\"http://www.w3.org/1999/xlink\">\n",
       "<g id=\"graph0\" class=\"graph\" transform=\"scale(1 1) rotate(0) translate(4 256)\">\n",
       "<title>%3</title>\n",
       "<polygon fill=\"#ffffff\" stroke=\"transparent\" points=\"-4,4 -4,-256 150,-256 150,4 -4,4\"/>\n",
       "<!-- A -->\n",
       "<g id=\"node1\" class=\"node\">\n",
       "<title>A</title>\n",
       "<ellipse fill=\"none\" stroke=\"#000000\" cx=\"38\" cy=\"-234\" rx=\"27\" ry=\"18\"/>\n",
       "<text text-anchor=\"middle\" x=\"38\" y=\"-230.3\" font-family=\"Times,serif\" font-size=\"14.00\" fill=\"#000000\">Z1</text>\n",
       "</g>\n",
       "<!-- X -->\n",
       "<g id=\"node2\" class=\"node\">\n",
       "<title>X</title>\n",
       "<ellipse fill=\"none\" stroke=\"#000000\" cx=\"27\" cy=\"-90\" rx=\"27\" ry=\"18\"/>\n",
       "<text text-anchor=\"middle\" x=\"27\" y=\"-86.3\" font-family=\"Times,serif\" font-size=\"14.00\" fill=\"#000000\">X</text>\n",
       "</g>\n",
       "<!-- A&#45;&gt;X -->\n",
       "<g id=\"edge1\" class=\"edge\">\n",
       "<title>A&#45;&gt;X</title>\n",
       "<path fill=\"none\" stroke=\"#000000\" d=\"M36.6068,-215.7623C34.7306,-191.201 31.3731,-147.2474 29.1659,-118.3541\"/>\n",
       "<polygon fill=\"#000000\" stroke=\"#000000\" points=\"32.6334,-117.794 28.3818,-108.0896 25.6538,-118.3272 32.6334,-117.794\"/>\n",
       "</g>\n",
       "<!-- O -->\n",
       "<g id=\"node3\" class=\"node\">\n",
       "<title>O</title>\n",
       "<ellipse fill=\"none\" stroke=\"#000000\" cx=\"74\" cy=\"-162\" rx=\"27\" ry=\"18\"/>\n",
       "<text text-anchor=\"middle\" x=\"74\" y=\"-158.3\" font-family=\"Times,serif\" font-size=\"14.00\" fill=\"#000000\">Z3</text>\n",
       "</g>\n",
       "<!-- A&#45;&gt;O -->\n",
       "<g id=\"edge2\" class=\"edge\">\n",
       "<title>A&#45;&gt;O</title>\n",
       "<path fill=\"none\" stroke=\"#000000\" d=\"M46.7146,-216.5708C50.9597,-208.0807 56.1536,-197.6929 60.8663,-188.2674\"/>\n",
       "<polygon fill=\"#000000\" stroke=\"#000000\" points=\"64.024,-189.7782 65.3657,-179.2687 57.763,-186.6477 64.024,-189.7782\"/>\n",
       "</g>\n",
       "<!-- Y -->\n",
       "<g id=\"node5\" class=\"node\">\n",
       "<title>Y</title>\n",
       "<ellipse fill=\"none\" stroke=\"#000000\" cx=\"82\" cy=\"-18\" rx=\"27\" ry=\"18\"/>\n",
       "<text text-anchor=\"middle\" x=\"82\" y=\"-14.3\" font-family=\"Times,serif\" font-size=\"14.00\" fill=\"#000000\">Y</text>\n",
       "</g>\n",
       "<!-- X&#45;&gt;Y -->\n",
       "<g id=\"edge7\" class=\"edge\">\n",
       "<title>X&#45;&gt;Y</title>\n",
       "<path fill=\"none\" stroke=\"#000000\" d=\"M39.4804,-73.6621C46.5124,-64.4564 55.4347,-52.7764 63.2883,-42.4953\"/>\n",
       "<polygon fill=\"#000000\" stroke=\"#000000\" points=\"66.28,-44.3446 69.569,-34.2733 60.7172,-40.0953 66.28,-44.3446\"/>\n",
       "</g>\n",
       "<!-- O&#45;&gt;X -->\n",
       "<g id=\"edge5\" class=\"edge\">\n",
       "<title>O&#45;&gt;X</title>\n",
       "<path fill=\"none\" stroke=\"#000000\" d=\"M63.0991,-145.3008C57.2264,-136.3043 49.8634,-125.0247 43.3213,-115.0029\"/>\n",
       "<polygon fill=\"#000000\" stroke=\"#000000\" points=\"46.2389,-113.0693 37.8418,-106.6087 40.3772,-116.8957 46.2389,-113.0693\"/>\n",
       "</g>\n",
       "<!-- O&#45;&gt;Y -->\n",
       "<g id=\"edge6\" class=\"edge\">\n",
       "<title>O&#45;&gt;Y</title>\n",
       "<path fill=\"none\" stroke=\"#000000\" d=\"M75.0132,-143.7623C76.3777,-119.201 78.8196,-75.2474 80.4248,-46.3541\"/>\n",
       "<polygon fill=\"#000000\" stroke=\"#000000\" points=\"83.9348,-46.2684 80.995,-36.0896 76.9456,-45.88 83.9348,-46.2684\"/>\n",
       "</g>\n",
       "<!-- B -->\n",
       "<g id=\"node4\" class=\"node\">\n",
       "<title>B</title>\n",
       "<ellipse fill=\"none\" stroke=\"#000000\" cx=\"119\" cy=\"-234\" rx=\"27\" ry=\"18\"/>\n",
       "<text text-anchor=\"middle\" x=\"119\" y=\"-230.3\" font-family=\"Times,serif\" font-size=\"14.00\" fill=\"#000000\">Z2</text>\n",
       "</g>\n",
       "<!-- B&#45;&gt;O -->\n",
       "<g id=\"edge3\" class=\"edge\">\n",
       "<title>B&#45;&gt;O</title>\n",
       "<path fill=\"none\" stroke=\"#000000\" d=\"M108.563,-217.3008C103.0765,-208.5224 96.2314,-197.5703 90.0837,-187.7339\"/>\n",
       "<polygon fill=\"#000000\" stroke=\"#000000\" points=\"92.9609,-185.7336 84.6929,-179.1086 87.0249,-189.4436 92.9609,-185.7336\"/>\n",
       "</g>\n",
       "<!-- B&#45;&gt;Y -->\n",
       "<g id=\"edge4\" class=\"edge\">\n",
       "<title>B&#45;&gt;Y</title>\n",
       "<path fill=\"none\" stroke=\"#000000\" d=\"M117.8323,-215.9889C116.5023,-197.7616 113.9822,-168.8071 110,-144 104.5304,-109.927 95.5088,-71.2515 89.1881,-45.8411\"/>\n",
       "<polygon fill=\"#000000\" stroke=\"#000000\" points=\"92.4993,-44.6575 86.6628,-35.8152 85.7114,-46.3673 92.4993,-44.6575\"/>\n",
       "</g>\n",
       "</g>\n",
       "</svg>\n"
      ],
      "text/plain": [
       "<graphviz.dot.Digraph at 0x7f7e07da3128>"
      ]
     },
     "execution_count": 13,
     "metadata": {
      "tags": []
     },
     "output_type": "execute_result"
    }
   ],
   "source": [
    "graph2 = {\n",
    "    'edges': ['AX', 'AO', 'BO', 'BY', 'OX', 'OY', 'XY'],\n",
    "    'nodes': {'A': 'Z1', 'B': 'Z2', 'O': 'Z3'},\n",
    "}\n",
    "\n",
    "make_graph(**graph2) # adjusted from Pearl (2010, 15) \n",
    "\n",
    "# Z1, Z2, Z3 are confounders\n",
    "# X is the intervention variable\n",
    "# Y is the target"
   ]
  },
  {
   "cell_type": "markdown",
   "metadata": {
    "id": "U4cLe_f_sE3E"
   },
   "source": [
    "For the causal graph above,\n",
    "\n",
    "* the joint pre-intervention distribution is given by\\\n",
    "$P(x, z_1, z_2, z_3, y) = P(z_1)P(z_2)P(z_3|z_1,z_2)P(x|z_1,z_3)P(y|z_2,z_3,x)$\n",
    "\n",
    "* the joint post-intervention distribution is given by\\\n",
    "$P(z_1, z_2, z_3, y|do(x_0)) = P(z_1)P(z_2)P(z_3|z_1,z_2)P(y|z_2,z_3,x_0)$\n",
    "\n",
    "* and the causal effect can be obtained by marginalizing over Z variables\\\n",
    "$P(y|do(x_0)) = \\sum_{z_1,z_2,z_3}P(z_1)P(z_2)P(z_3|z_1,z_2)P(y|z_2,z_3,x_0)$\n",
    "\n",
    "* or, should a confounder (e.g., $Z_2$) be unmeasurable, simply by\\\n",
    "$P(y|do(x_0)) = \\sum_{z_1,z_3}P(z_1)P(z_3|z_1)P(y|z_1,z_3,x_0)$"
   ]
  },
  {
   "cell_type": "markdown",
   "metadata": {
    "id": "YazNO1g1R2zm"
   },
   "source": [
    "* __Covariate selection:__ There exist different methods to identify a sufficient set of nodes (variables), such as the back-door and front-door criterion, instrumental variables, and the so-called mediation techniques. We will examine the backdoor criterion in mode detail.\n",
    "\n",
    "* __Back-door criterion:__ Find a set of nodes 𝑆 that is \"sufficient for adjustment\" s.t. \\\n",
    "(i) no element of 𝑆 is a descendant (child) of 𝑋, and \\\n",
    "(ii) elements of 𝑆 block all back-door paths from 𝑋 to 𝑌\n",
    "\n",
    "* In other words, the idea of the back-door criterion is to isolate the paths through which the data-generating process can influence $Y$ from $X$ following a backward path (opposite to the directions of arrows in the causal graph)\n",
    "\n",
    "* What would be a sufficient set for the causal graph shown above? Clearly, $Z_3$ blocks the back-door path $X\\!\\longleftarrow\\!Z_3\\!\\longrightarrow\\!Y$ (we walk backwards from $X$ to $Z_3$ and then forwards to $Y$)"
   ]
  },
  {
   "cell_type": "code",
   "execution_count": null,
   "metadata": {
    "colab": {
     "base_uri": "https://localhost:8080/",
     "height": 368
    },
    "id": "Ud5WLFktTqdK",
    "outputId": "2d249d7c-d699-408c-9cf4-20586068e827"
   },
   "outputs": [
    {
     "data": {
      "image/svg+xml": [
       "<?xml version=\"1.0\" encoding=\"UTF-8\" standalone=\"no\"?>\n",
       "<!DOCTYPE svg PUBLIC \"-//W3C//DTD SVG 1.1//EN\"\n",
       " \"http://www.w3.org/Graphics/SVG/1.1/DTD/svg11.dtd\">\n",
       "<!-- Generated by graphviz version 2.40.1 (20161225.0304)\n",
       " -->\n",
       "<!-- Title: %3 Pages: 1 -->\n",
       "<svg width=\"154pt\" height=\"260pt\"\n",
       " viewBox=\"0.00 0.00 154.00 260.00\" xmlns=\"http://www.w3.org/2000/svg\" xmlns:xlink=\"http://www.w3.org/1999/xlink\">\n",
       "<g id=\"graph0\" class=\"graph\" transform=\"scale(1 1) rotate(0) translate(4 256)\">\n",
       "<title>%3</title>\n",
       "<polygon fill=\"#ffffff\" stroke=\"transparent\" points=\"-4,4 -4,-256 150,-256 150,4 -4,4\"/>\n",
       "<!-- A -->\n",
       "<g id=\"node1\" class=\"node\">\n",
       "<title>A</title>\n",
       "<ellipse fill=\"none\" stroke=\"#000000\" cx=\"38\" cy=\"-234\" rx=\"27\" ry=\"18\"/>\n",
       "<text text-anchor=\"middle\" x=\"38\" y=\"-230.3\" font-family=\"Times,serif\" font-size=\"14.00\" fill=\"#000000\">Z1</text>\n",
       "</g>\n",
       "<!-- X -->\n",
       "<g id=\"node2\" class=\"node\">\n",
       "<title>X</title>\n",
       "<ellipse fill=\"none\" stroke=\"#000000\" cx=\"27\" cy=\"-90\" rx=\"27\" ry=\"18\"/>\n",
       "<text text-anchor=\"middle\" x=\"27\" y=\"-86.3\" font-family=\"Times,serif\" font-size=\"14.00\" fill=\"#000000\">X</text>\n",
       "</g>\n",
       "<!-- A&#45;&gt;X -->\n",
       "<g id=\"edge1\" class=\"edge\">\n",
       "<title>A&#45;&gt;X</title>\n",
       "<path fill=\"none\" stroke=\"#000000\" d=\"M36.6068,-215.7623C34.7306,-191.201 31.3731,-147.2474 29.1659,-118.3541\"/>\n",
       "<polygon fill=\"#000000\" stroke=\"#000000\" points=\"32.6334,-117.794 28.3818,-108.0896 25.6538,-118.3272 32.6334,-117.794\"/>\n",
       "</g>\n",
       "<!-- O -->\n",
       "<g id=\"node3\" class=\"node\">\n",
       "<title>O</title>\n",
       "<ellipse fill=\"#40e0d0\" stroke=\"#000000\" cx=\"74\" cy=\"-162\" rx=\"27\" ry=\"18\"/>\n",
       "<text text-anchor=\"middle\" x=\"74\" y=\"-158.3\" font-family=\"Times,serif\" font-size=\"14.00\" fill=\"#000000\">Z3</text>\n",
       "</g>\n",
       "<!-- A&#45;&gt;O -->\n",
       "<g id=\"edge2\" class=\"edge\">\n",
       "<title>A&#45;&gt;O</title>\n",
       "<path fill=\"none\" stroke=\"#000000\" d=\"M46.7146,-216.5708C50.9597,-208.0807 56.1536,-197.6929 60.8663,-188.2674\"/>\n",
       "<polygon fill=\"#000000\" stroke=\"#000000\" points=\"64.024,-189.7782 65.3657,-179.2687 57.763,-186.6477 64.024,-189.7782\"/>\n",
       "</g>\n",
       "<!-- Y -->\n",
       "<g id=\"node5\" class=\"node\">\n",
       "<title>Y</title>\n",
       "<ellipse fill=\"none\" stroke=\"#000000\" cx=\"82\" cy=\"-18\" rx=\"27\" ry=\"18\"/>\n",
       "<text text-anchor=\"middle\" x=\"82\" y=\"-14.3\" font-family=\"Times,serif\" font-size=\"14.00\" fill=\"#000000\">Y</text>\n",
       "</g>\n",
       "<!-- X&#45;&gt;Y -->\n",
       "<g id=\"edge7\" class=\"edge\">\n",
       "<title>X&#45;&gt;Y</title>\n",
       "<path fill=\"none\" stroke=\"#000000\" d=\"M39.4804,-73.6621C46.5124,-64.4564 55.4347,-52.7764 63.2883,-42.4953\"/>\n",
       "<polygon fill=\"#000000\" stroke=\"#000000\" points=\"66.28,-44.3446 69.569,-34.2733 60.7172,-40.0953 66.28,-44.3446\"/>\n",
       "</g>\n",
       "<!-- O&#45;&gt;X -->\n",
       "<g id=\"edge5\" class=\"edge\">\n",
       "<title>O&#45;&gt;X</title>\n",
       "<path fill=\"none\" stroke=\"#000000\" d=\"M63.0991,-145.3008C57.2264,-136.3043 49.8634,-125.0247 43.3213,-115.0029\"/>\n",
       "<polygon fill=\"#000000\" stroke=\"#000000\" points=\"46.2389,-113.0693 37.8418,-106.6087 40.3772,-116.8957 46.2389,-113.0693\"/>\n",
       "</g>\n",
       "<!-- O&#45;&gt;Y -->\n",
       "<g id=\"edge6\" class=\"edge\">\n",
       "<title>O&#45;&gt;Y</title>\n",
       "<path fill=\"none\" stroke=\"#000000\" d=\"M75.0132,-143.7623C76.3777,-119.201 78.8196,-75.2474 80.4248,-46.3541\"/>\n",
       "<polygon fill=\"#000000\" stroke=\"#000000\" points=\"83.9348,-46.2684 80.995,-36.0896 76.9456,-45.88 83.9348,-46.2684\"/>\n",
       "</g>\n",
       "<!-- B -->\n",
       "<g id=\"node4\" class=\"node\">\n",
       "<title>B</title>\n",
       "<ellipse fill=\"none\" stroke=\"#000000\" cx=\"119\" cy=\"-234\" rx=\"27\" ry=\"18\"/>\n",
       "<text text-anchor=\"middle\" x=\"119\" y=\"-230.3\" font-family=\"Times,serif\" font-size=\"14.00\" fill=\"#000000\">Z2</text>\n",
       "</g>\n",
       "<!-- B&#45;&gt;O -->\n",
       "<g id=\"edge3\" class=\"edge\">\n",
       "<title>B&#45;&gt;O</title>\n",
       "<path fill=\"none\" stroke=\"#000000\" d=\"M108.563,-217.3008C103.0765,-208.5224 96.2314,-197.5703 90.0837,-187.7339\"/>\n",
       "<polygon fill=\"#000000\" stroke=\"#000000\" points=\"92.9609,-185.7336 84.6929,-179.1086 87.0249,-189.4436 92.9609,-185.7336\"/>\n",
       "</g>\n",
       "<!-- B&#45;&gt;Y -->\n",
       "<g id=\"edge4\" class=\"edge\">\n",
       "<title>B&#45;&gt;Y</title>\n",
       "<path fill=\"none\" stroke=\"#000000\" d=\"M117.8323,-215.9889C116.5023,-197.7616 113.9822,-168.8071 110,-144 104.5304,-109.927 95.5088,-71.2515 89.1881,-45.8411\"/>\n",
       "<polygon fill=\"#000000\" stroke=\"#000000\" points=\"92.4993,-44.6575 86.6628,-35.8152 85.7114,-46.3673 92.4993,-44.6575\"/>\n",
       "</g>\n",
       "</g>\n",
       "</svg>\n"
      ],
      "text/plain": [
       "<graphviz.dot.Digraph at 0x7f7e002be8d0>"
      ]
     },
     "execution_count": 14,
     "metadata": {
      "tags": []
     },
     "output_type": "execute_result"
    }
   ],
   "source": [
    "graph2['highlight'] = ['O']\n",
    "make_graph(**graph2)"
   ]
  },
  {
   "cell_type": "markdown",
   "metadata": {
    "id": "zPnn0_DUc2-j"
   },
   "source": [
    "Now that $Z_3$ is in the conditioning set, another back-door \"opens\" (by conditioning on the collision node): $X\\!\\longleftarrow\\!Z_1\\!\\longrightarrow\\!Z_3\\!\\longleftarrow\\!Z_2\\!\\longrightarrow\\!Y$. We can \"close\" it by conditioning on $Z_1$ (or $Z_3$), see graph below. "
   ]
  },
  {
   "cell_type": "code",
   "execution_count": null,
   "metadata": {
    "colab": {
     "base_uri": "https://localhost:8080/",
     "height": 368
    },
    "id": "PUimT84Tdldy",
    "outputId": "6e51c7db-b63f-4c86-c494-793daebd0da3"
   },
   "outputs": [
    {
     "data": {
      "image/svg+xml": [
       "<?xml version=\"1.0\" encoding=\"UTF-8\" standalone=\"no\"?>\n",
       "<!DOCTYPE svg PUBLIC \"-//W3C//DTD SVG 1.1//EN\"\n",
       " \"http://www.w3.org/Graphics/SVG/1.1/DTD/svg11.dtd\">\n",
       "<!-- Generated by graphviz version 2.40.1 (20161225.0304)\n",
       " -->\n",
       "<!-- Title: %3 Pages: 1 -->\n",
       "<svg width=\"154pt\" height=\"260pt\"\n",
       " viewBox=\"0.00 0.00 154.00 260.00\" xmlns=\"http://www.w3.org/2000/svg\" xmlns:xlink=\"http://www.w3.org/1999/xlink\">\n",
       "<g id=\"graph0\" class=\"graph\" transform=\"scale(1 1) rotate(0) translate(4 256)\">\n",
       "<title>%3</title>\n",
       "<polygon fill=\"#ffffff\" stroke=\"transparent\" points=\"-4,4 -4,-256 150,-256 150,4 -4,4\"/>\n",
       "<!-- A -->\n",
       "<g id=\"node1\" class=\"node\">\n",
       "<title>A</title>\n",
       "<ellipse fill=\"#40e0d0\" stroke=\"#000000\" cx=\"38\" cy=\"-234\" rx=\"27\" ry=\"18\"/>\n",
       "<text text-anchor=\"middle\" x=\"38\" y=\"-230.3\" font-family=\"Times,serif\" font-size=\"14.00\" fill=\"#000000\">Z1</text>\n",
       "</g>\n",
       "<!-- X -->\n",
       "<g id=\"node2\" class=\"node\">\n",
       "<title>X</title>\n",
       "<ellipse fill=\"none\" stroke=\"#000000\" cx=\"27\" cy=\"-90\" rx=\"27\" ry=\"18\"/>\n",
       "<text text-anchor=\"middle\" x=\"27\" y=\"-86.3\" font-family=\"Times,serif\" font-size=\"14.00\" fill=\"#000000\">X</text>\n",
       "</g>\n",
       "<!-- A&#45;&gt;X -->\n",
       "<g id=\"edge1\" class=\"edge\">\n",
       "<title>A&#45;&gt;X</title>\n",
       "<path fill=\"none\" stroke=\"#000000\" d=\"M36.6068,-215.7623C34.7306,-191.201 31.3731,-147.2474 29.1659,-118.3541\"/>\n",
       "<polygon fill=\"#000000\" stroke=\"#000000\" points=\"32.6334,-117.794 28.3818,-108.0896 25.6538,-118.3272 32.6334,-117.794\"/>\n",
       "</g>\n",
       "<!-- O -->\n",
       "<g id=\"node3\" class=\"node\">\n",
       "<title>O</title>\n",
       "<ellipse fill=\"#40e0d0\" stroke=\"#000000\" cx=\"74\" cy=\"-162\" rx=\"27\" ry=\"18\"/>\n",
       "<text text-anchor=\"middle\" x=\"74\" y=\"-158.3\" font-family=\"Times,serif\" font-size=\"14.00\" fill=\"#000000\">Z3</text>\n",
       "</g>\n",
       "<!-- A&#45;&gt;O -->\n",
       "<g id=\"edge2\" class=\"edge\">\n",
       "<title>A&#45;&gt;O</title>\n",
       "<path fill=\"none\" stroke=\"#000000\" d=\"M46.7146,-216.5708C50.9597,-208.0807 56.1536,-197.6929 60.8663,-188.2674\"/>\n",
       "<polygon fill=\"#000000\" stroke=\"#000000\" points=\"64.024,-189.7782 65.3657,-179.2687 57.763,-186.6477 64.024,-189.7782\"/>\n",
       "</g>\n",
       "<!-- Y -->\n",
       "<g id=\"node5\" class=\"node\">\n",
       "<title>Y</title>\n",
       "<ellipse fill=\"none\" stroke=\"#000000\" cx=\"82\" cy=\"-18\" rx=\"27\" ry=\"18\"/>\n",
       "<text text-anchor=\"middle\" x=\"82\" y=\"-14.3\" font-family=\"Times,serif\" font-size=\"14.00\" fill=\"#000000\">Y</text>\n",
       "</g>\n",
       "<!-- X&#45;&gt;Y -->\n",
       "<g id=\"edge7\" class=\"edge\">\n",
       "<title>X&#45;&gt;Y</title>\n",
       "<path fill=\"none\" stroke=\"#000000\" d=\"M39.4804,-73.6621C46.5124,-64.4564 55.4347,-52.7764 63.2883,-42.4953\"/>\n",
       "<polygon fill=\"#000000\" stroke=\"#000000\" points=\"66.28,-44.3446 69.569,-34.2733 60.7172,-40.0953 66.28,-44.3446\"/>\n",
       "</g>\n",
       "<!-- O&#45;&gt;X -->\n",
       "<g id=\"edge5\" class=\"edge\">\n",
       "<title>O&#45;&gt;X</title>\n",
       "<path fill=\"none\" stroke=\"#000000\" d=\"M63.0991,-145.3008C57.2264,-136.3043 49.8634,-125.0247 43.3213,-115.0029\"/>\n",
       "<polygon fill=\"#000000\" stroke=\"#000000\" points=\"46.2389,-113.0693 37.8418,-106.6087 40.3772,-116.8957 46.2389,-113.0693\"/>\n",
       "</g>\n",
       "<!-- O&#45;&gt;Y -->\n",
       "<g id=\"edge6\" class=\"edge\">\n",
       "<title>O&#45;&gt;Y</title>\n",
       "<path fill=\"none\" stroke=\"#000000\" d=\"M75.0132,-143.7623C76.3777,-119.201 78.8196,-75.2474 80.4248,-46.3541\"/>\n",
       "<polygon fill=\"#000000\" stroke=\"#000000\" points=\"83.9348,-46.2684 80.995,-36.0896 76.9456,-45.88 83.9348,-46.2684\"/>\n",
       "</g>\n",
       "<!-- B -->\n",
       "<g id=\"node4\" class=\"node\">\n",
       "<title>B</title>\n",
       "<ellipse fill=\"none\" stroke=\"#000000\" cx=\"119\" cy=\"-234\" rx=\"27\" ry=\"18\"/>\n",
       "<text text-anchor=\"middle\" x=\"119\" y=\"-230.3\" font-family=\"Times,serif\" font-size=\"14.00\" fill=\"#000000\">Z2</text>\n",
       "</g>\n",
       "<!-- B&#45;&gt;O -->\n",
       "<g id=\"edge3\" class=\"edge\">\n",
       "<title>B&#45;&gt;O</title>\n",
       "<path fill=\"none\" stroke=\"#000000\" d=\"M108.563,-217.3008C103.0765,-208.5224 96.2314,-197.5703 90.0837,-187.7339\"/>\n",
       "<polygon fill=\"#000000\" stroke=\"#000000\" points=\"92.9609,-185.7336 84.6929,-179.1086 87.0249,-189.4436 92.9609,-185.7336\"/>\n",
       "</g>\n",
       "<!-- B&#45;&gt;Y -->\n",
       "<g id=\"edge4\" class=\"edge\">\n",
       "<title>B&#45;&gt;Y</title>\n",
       "<path fill=\"none\" stroke=\"#000000\" d=\"M117.8323,-215.9889C116.5023,-197.7616 113.9822,-168.8071 110,-144 104.5304,-109.927 95.5088,-71.2515 89.1881,-45.8411\"/>\n",
       "<polygon fill=\"#000000\" stroke=\"#000000\" points=\"92.4993,-44.6575 86.6628,-35.8152 85.7114,-46.3673 92.4993,-44.6575\"/>\n",
       "</g>\n",
       "</g>\n",
       "</svg>\n"
      ],
      "text/plain": [
       "<graphviz.dot.Digraph at 0x7f7e07e6fef0>"
      ]
     },
     "execution_count": 15,
     "metadata": {
      "tags": []
     },
     "output_type": "execute_result"
    }
   ],
   "source": [
    "graph2['highlight'] = ['O', 'A']\n",
    "make_graph(**graph2)"
   ]
  },
  {
   "cell_type": "markdown",
   "metadata": {
    "id": "8l2eAHi2guL-"
   },
   "source": [
    "Finally, holding $S = \\{Z_1, Z_3\\}$ constant, we can estimate the \"true\" causal effect of $X$ on $Y$.\n",
    "\n",
    "More formally, the causal effect expression can be rewritten as $P(Y|do(X)) = \\sum_{S} P(Y|X=x, S=s)P(S=s)$, where $S$ denotes the conditioning set.\n",
    "\n",
    "The identification of a sufficient set to condition on is what happens in the `model.identify_effect()` step of the doWhy-pipeline."
   ]
  },
  {
   "cell_type": "markdown",
   "metadata": {
    "id": "nDyTw9EmtMV5"
   },
   "source": [
    "## 4.2. Example: Instrumental variable for confounders/endogeneity (if not randomization at hand)"
   ]
  },
  {
   "cell_type": "markdown",
   "metadata": {
    "id": "mLbscoY0tZc2"
   },
   "source": [
    "We want to know the price elasticity of demand for cigarettes. Price and quantity are simultaneously determined in equilibrium! What does potentially determine demand/price exogeneously? - economic policy such as sales tax. A naive OLS regression ignores correlatedness of error terms ($Cov(u_X, u_Y) \\neq 0$), i.e. solves a system of equations \"as-if\" there were as many equations as unknown parameters when there are actually more unknown parameters than restrictions."
   ]
  },
  {
   "cell_type": "code",
   "execution_count": null,
   "metadata": {
    "colab": {
     "base_uri": "https://localhost:8080/",
     "height": 204
    },
    "id": "cs_KWqlHtefd",
    "outputId": "102b1792-f983-4bd9-d66f-9ef6847ba9a6"
   },
   "outputs": [
    {
     "data": {
      "text/html": [
       "<div>\n",
       "<style scoped>\n",
       "    .dataframe tbody tr th:only-of-type {\n",
       "        vertical-align: middle;\n",
       "    }\n",
       "\n",
       "    .dataframe tbody tr th {\n",
       "        vertical-align: top;\n",
       "    }\n",
       "\n",
       "    .dataframe thead th {\n",
       "        text-align: right;\n",
       "    }\n",
       "</style>\n",
       "<table border=\"1\" class=\"dataframe\">\n",
       "  <thead>\n",
       "    <tr style=\"text-align: right;\">\n",
       "      <th></th>\n",
       "      <th>state</th>\n",
       "      <th>year</th>\n",
       "      <th>cpi</th>\n",
       "      <th>population</th>\n",
       "      <th>packs</th>\n",
       "      <th>income</th>\n",
       "      <th>tax</th>\n",
       "      <th>price</th>\n",
       "      <th>taxs</th>\n",
       "    </tr>\n",
       "  </thead>\n",
       "  <tbody>\n",
       "    <tr>\n",
       "      <th>1</th>\n",
       "      <td>AL</td>\n",
       "      <td>1985</td>\n",
       "      <td>1.076</td>\n",
       "      <td>3973000.0</td>\n",
       "      <td>116.486282</td>\n",
       "      <td>46014968</td>\n",
       "      <td>32.500004</td>\n",
       "      <td>102.181671</td>\n",
       "      <td>33.348335</td>\n",
       "    </tr>\n",
       "    <tr>\n",
       "      <th>2</th>\n",
       "      <td>AR</td>\n",
       "      <td>1985</td>\n",
       "      <td>1.076</td>\n",
       "      <td>2327000.0</td>\n",
       "      <td>128.534592</td>\n",
       "      <td>26210736</td>\n",
       "      <td>37.000000</td>\n",
       "      <td>101.474998</td>\n",
       "      <td>37.000000</td>\n",
       "    </tr>\n",
       "    <tr>\n",
       "      <th>3</th>\n",
       "      <td>AZ</td>\n",
       "      <td>1985</td>\n",
       "      <td>1.076</td>\n",
       "      <td>3184000.0</td>\n",
       "      <td>104.522614</td>\n",
       "      <td>43956936</td>\n",
       "      <td>31.000000</td>\n",
       "      <td>108.578751</td>\n",
       "      <td>36.170418</td>\n",
       "    </tr>\n",
       "    <tr>\n",
       "      <th>4</th>\n",
       "      <td>CA</td>\n",
       "      <td>1985</td>\n",
       "      <td>1.076</td>\n",
       "      <td>26444000.0</td>\n",
       "      <td>100.363037</td>\n",
       "      <td>447102816</td>\n",
       "      <td>26.000000</td>\n",
       "      <td>107.837341</td>\n",
       "      <td>32.104000</td>\n",
       "    </tr>\n",
       "    <tr>\n",
       "      <th>5</th>\n",
       "      <td>CO</td>\n",
       "      <td>1985</td>\n",
       "      <td>1.076</td>\n",
       "      <td>3209000.0</td>\n",
       "      <td>112.963539</td>\n",
       "      <td>49466672</td>\n",
       "      <td>31.000000</td>\n",
       "      <td>94.266663</td>\n",
       "      <td>31.000000</td>\n",
       "    </tr>\n",
       "  </tbody>\n",
       "</table>\n",
       "</div>"
      ],
      "text/plain": [
       "  state  year    cpi  population  ...     income        tax       price       taxs\n",
       "1    AL  1985  1.076   3973000.0  ...   46014968  32.500004  102.181671  33.348335\n",
       "2    AR  1985  1.076   2327000.0  ...   26210736  37.000000  101.474998  37.000000\n",
       "3    AZ  1985  1.076   3184000.0  ...   43956936  31.000000  108.578751  36.170418\n",
       "4    CA  1985  1.076  26444000.0  ...  447102816  26.000000  107.837341  32.104000\n",
       "5    CO  1985  1.076   3209000.0  ...   49466672  31.000000   94.266663  31.000000\n",
       "\n",
       "[5 rows x 9 columns]"
      ]
     },
     "execution_count": 6,
     "metadata": {
      "tags": []
     },
     "output_type": "execute_result"
    }
   ],
   "source": [
    "df = pd.read_csv('https://vincentarelbundock.github.io/Rdatasets/csv/AER/CigarettesSW.csv', index_col=0)\n",
    "df.head()"
   ]
  },
  {
   "cell_type": "code",
   "execution_count": null,
   "metadata": {
    "colab": {
     "base_uri": "https://localhost:8080/"
    },
    "id": "adIwzID5tgi2",
    "outputId": "1ab41ccb-ace8-465f-9ce5-cfe21f8435af"
   },
   "outputs": [
    {
     "name": "stdout",
     "output_type": "stream",
     "text": [
      "[[1.         0.69946015]\n",
      " [0.69946015 1.        ]]\n"
     ]
    }
   ],
   "source": [
    "# Adjust everything for inflation\n",
    "df['rprice'] = df['price']/df['cpi']\n",
    "df['rincome'] = df['income']/df['population']/df['cpi']\n",
    "df['tdiff'] = (df['taxs'] - df['tax'])/df['cpi']\n",
    "df['const'] = 1\n",
    "\n",
    "y = np.log(df['packs'])\n",
    "x1 = np.log(df['rprice']).values\n",
    "x0 = df['const'].values\n",
    "\n",
    "print(np.corrcoef(x1, df['tdiff'].values)) # about 0.7, relevance condition fulfilled\n",
    "\n",
    "df = pd.DataFrame({\n",
    "    'constant': x0,\n",
    "    'price': x1,\n",
    "    'packs': y\n",
    "})"
   ]
  },
  {
   "cell_type": "code",
   "execution_count": null,
   "metadata": {
    "colab": {
     "base_uri": "https://localhost:8080/"
    },
    "id": "iqYd5rOVtlMS",
    "outputId": "9a583030-f297-4270-b8aa-83eb278b64ec"
   },
   "outputs": [
    {
     "name": "stdout",
     "output_type": "stream",
     "text": [
      "                            OLS Regression Results                            \n",
      "==============================================================================\n",
      "Dep. Variable:                  packs   R-squared:                       0.525\n",
      "Model:                            OLS   Adj. R-squared:                  0.520\n",
      "Method:                 Least Squares   F-statistic:                     104.0\n",
      "Date:                Wed, 09 Dec 2020   Prob (F-statistic):           7.03e-17\n",
      "Time:                        10:52:52   Log-Likelihood:                 35.592\n",
      "No. Observations:                  96   AIC:                            -67.18\n",
      "Df Residuals:                      94   BIC:                            -62.05\n",
      "Df Model:                           1                                         \n",
      "Covariance Type:            nonrobust                                         \n",
      "==============================================================================\n",
      "                 coef    std err          t      P>|t|      [0.025      0.975]\n",
      "------------------------------------------------------------------------------\n",
      "const         10.0412      0.528     19.033      0.000       8.994      11.089\n",
      "x1            -1.1506      0.113    -10.197      0.000      -1.375      -0.927\n",
      "==============================================================================\n",
      "Omnibus:                       16.616   Durbin-Watson:                   2.017\n",
      "Prob(Omnibus):                  0.000   Jarque-Bera (JB):               29.351\n",
      "Skew:                          -0.689   Prob(JB):                     4.23e-07\n",
      "Kurtosis:                       5.332   Cond. No.                         150.\n",
      "==============================================================================\n",
      "\n",
      "Warnings:\n",
      "[1] Standard Errors assume that the covariance matrix of the errors is correctly specified.\n"
     ]
    }
   ],
   "source": [
    "X = df.loc[:, ['constant', 'price']].to_numpy()\n",
    "\n",
    "model = sm.OLS(y, X)\n",
    "results = model.fit()\n",
    "print(results.summary())"
   ]
  },
  {
   "cell_type": "code",
   "execution_count": null,
   "metadata": {
    "colab": {
     "base_uri": "https://localhost:8080/",
     "height": 268
    },
    "id": "iEeYosJwtoTM",
    "outputId": "785bbeda-64b0-4d96-999d-c46d0c4728d0"
   },
   "outputs": [
    {
     "data": {
      "image/png": "[encoded data removed]",
      "text/plain": [
       "<IPython.core.display.Image object>"
      ]
     },
     "metadata": {
      "tags": []
     },
     "output_type": "display_data"
    }
   ],
   "source": [
    "df = pd.read_csv('https://vincentarelbundock.github.io/Rdatasets/csv/AER/CigarettesSW.csv', index_col=0)\n",
    "\n",
    "# Adjust everything for inflation\n",
    "df['rprice'] = np.log(df['price']/df['cpi'])\n",
    "df['rincome'] = np.log(df['income']/df['population']/df['cpi'])\n",
    "df['tdiff'] = (df['taxs'] - df['tax'])/df['cpi']\n",
    "df['packs'] = np.log(df['packs'])\n",
    "\n",
    "model = dowhy.CausalModel(\n",
    "        data = df,\n",
    "        treatment='rprice',\n",
    "        outcome='packs',\n",
    "        # common_causes=['ability'],\n",
    "        instruments=['tdiff']\n",
    "        )\n",
    "\n",
    "model.view_model()\n",
    "from IPython.display import Image, display\n",
    "display(Image(filename='causal_model.png'))"
   ]
  },
  {
   "cell_type": "markdown",
   "metadata": {
    "id": "xYkrOks4ttk6"
   },
   "source": [
    "From this graph we can see that the Backdoor Criterion between **rprice** and **packs** is satisfied:\n",
    "- no collider present that could block backdoor-path already (since unobserved confounders and **tdiff** are independent) and hence conditioning set {**tdiff**} blocks every path between treatment (**rprice**) and outcome (**packs**) automatically\n",
    "- no node in conditioning set {**tdiff**} is a descendent of treatment (**rprice**)\n",
    "\n",
    "Hence, conditioning on the set {**tdiff**} is sufficient to control for confounding and recovers true causal effect of price changes (of cigarettes) on changes in demand (for cigarettes).\n"
   ]
  },
  {
   "cell_type": "code",
   "execution_count": null,
   "metadata": {
    "colab": {
     "base_uri": "https://localhost:8080/"
    },
    "id": "9sudVJrQtukb",
    "outputId": "b3a6d356-d41a-4cf8-c636-ccf36897b565"
   },
   "outputs": [
    {
     "name": "stdout",
     "output_type": "stream",
     "text": [
      "Estimand type: nonparametric-ate\n",
      "\n",
      "### Estimand : 1\n",
      "Estimand name: backdoor1 (Default)\n",
      "Estimand expression:\n",
      "    d                        \n",
      "─────────(Expectation(packs))\n",
      "d[rprice]                    \n",
      "Estimand assumption 1, Unconfoundedness: If U→{rprice} and U→packs then P(packs|rprice,,U) = P(packs|rprice,)\n",
      "\n",
      "### Estimand : 2\n",
      "Estimand name: iv\n",
      "Estimand expression:\n",
      "Expectation(Derivative(packs, [tdiff])*Derivative([rprice], [tdiff])**(-1))\n",
      "Estimand assumption 1, As-if-random: If U→→packs then ¬(U →→{tdiff})\n",
      "Estimand assumption 2, Exclusion: If we remove {tdiff}→{rprice}, then ¬({tdiff}→packs)\n",
      "\n",
      "### Estimand : 3\n",
      "Estimand name: frontdoor\n",
      "No such variable found!\n",
      "\n"
     ]
    }
   ],
   "source": [
    "# Step 2: Identify\n",
    "\n",
    "identified_estimand = model.identify_effect(proceed_when_unidentifiable=True)\n",
    "print(identified_estimand)"
   ]
  },
  {
   "cell_type": "code",
   "execution_count": null,
   "metadata": {
    "colab": {
     "base_uri": "https://localhost:8080/"
    },
    "id": "foeXA4B8t0sv",
    "outputId": "4898aba9-6129-444a-f6cc-94b5ce3b1714"
   },
   "outputs": [
    {
     "name": "stdout",
     "output_type": "stream",
     "text": [
      "*** Causal Estimate ***\n",
      "\n",
      "## Identified estimand\n",
      "Estimand type: nonparametric-ate\n",
      "\n",
      "### Estimand : 1\n",
      "Estimand name: iv\n",
      "Estimand expression:\n",
      "Expectation(Derivative(packs, [tdiff])*Derivative([rprice], [tdiff])**(-1))\n",
      "Estimand assumption 1, As-if-random: If U→→packs then ¬(U →→{tdiff})\n",
      "Estimand assumption 2, Exclusion: If we remove {tdiff}→{rprice}, then ¬({tdiff}→packs)\n",
      "\n",
      "## Realized estimand\n",
      "Realized estimand: Wald Estimator\n",
      "Realized estimand type: nonparametric-ate\n",
      "Estimand expression:\n",
      "                                                                            -1\n",
      "Expectation(Derivative(packs, tdiff))⋅Expectation(Derivative(rprice, tdiff))  \n",
      "Estimand assumption 1, As-if-random: If U→→packs then ¬(U →→{tdiff})\n",
      "Estimand assumption 2, Exclusion: If we remove {tdiff}→{rprice}, then ¬({tdiff}→packs)\n",
      "Estimand assumption 3, treatment_effect_homogeneity: Each unit's treatment ['rprice'] is affected in the same way by common causes of ['rprice'] and packs\n",
      "Estimand assumption 4, outcome_effect_homogeneity: Each unit's outcome packs is affected in the same way by common causes of ['rprice'] and packs\n",
      "\n",
      "Target units: ate\n",
      "\n",
      "## Estimate\n",
      "Mean value: -1.1322255677659647\n",
      "p-value: [0, 0.001]\n",
      "\n"
     ]
    }
   ],
   "source": [
    "# Step 3: estimate\n",
    "\n",
    "estimate = model.estimate_effect(\n",
    "    identified_estimand,\n",
    "    method_name=\"iv.instrumental_variable\", \n",
    "    test_significance=True\n",
    "    )\n",
    "print(estimate)"
   ]
  },
  {
   "cell_type": "code",
   "execution_count": null,
   "metadata": {
    "colab": {
     "base_uri": "https://localhost:8080/"
    },
    "id": "u54YXvoGJHTL",
    "outputId": "f3acac13-132c-436b-c474-291620c25762"
   },
   "outputs": [
    {
     "name": "stdout",
     "output_type": "stream",
     "text": [
      "random_common_cause: Effect should not change significantly -- PASSED with tolerance of +/- 0.1\n",
      "effect: -1.13 -> -1.13\n",
      "\n",
      "placebo_treatment_refuter: Effect should go to zero -- FAILED with tolerance of +/- 0.1\n",
      "effect: -1.13 -> -inf\n",
      "\n",
      "dummy_outcome_refuter: Effect should go to zero -- PASSED with tolerance of +/- 0.1\n",
      "effect: -1.13 -> -0.09\n",
      "\n",
      "data_subset_refuter: Effect should not change significantly -- PASSED with tolerance of +/- 0.1\n",
      "effect: -1.13 -> -1.17\n",
      "\n",
      "bootstrap_refuter: Effect should not change significantly -- PASSED with tolerance of +/- 0.1\n",
      "effect: -1.13 -> -1.14\n",
      "\n"
     ]
    }
   ],
   "source": [
    "# Step 4: Refute – robustness check\n",
    "\n",
    "refuter = CausalRefuter(**refutation_config)\n",
    "refuter.refute(model, identified_estimand, estimate)"
   ]
  },
  {
   "cell_type": "code",
   "execution_count": null,
   "metadata": {
    "colab": {
     "base_uri": "https://localhost:8080/",
     "height": 404
    },
    "id": "0nOaLY_Yt3FE",
    "outputId": "b28b72f8-79ff-4e06-d72e-bbb14727dbd3"
   },
   "outputs": [
    {
     "name": "stderr",
     "output_type": "stream",
     "text": [
      "/usr/local/lib/python3.6/dist-packages/linearmodels/iv/data.py:25: FutureWarning: is_categorical is deprecated and will be removed in a future version.  Use is_categorical_dtype instead\n",
      "  if is_categorical(s):\n"
     ]
    },
    {
     "data": {
      "text/html": [
       "<table class=\"simpletable\">\n",
       "<caption>IV-2SLS Estimation Summary</caption>\n",
       "<tr>\n",
       "  <th>Dep. Variable:</th>          <td>packs</td>      <th>  R-squared:         </th> <td>0.5251</td> \n",
       "</tr>\n",
       "<tr>\n",
       "  <th>Estimator:</th>             <td>IV-2SLS</td>     <th>  Adj. R-squared:    </th> <td>0.5200</td> \n",
       "</tr>\n",
       "<tr>\n",
       "  <th>No. Observations:</th>        <td>96</td>        <th>  F-statistic:       </th> <td>50.699</td> \n",
       "</tr>\n",
       "<tr>\n",
       "  <th>Date:</th>             <td>Wed, Dec 09 2020</td> <th>  P-value (F-stat)   </th> <td>0.0000</td> \n",
       "</tr>\n",
       "<tr>\n",
       "  <th>Time:</th>                 <td>10:58:48</td>     <th>  Distribution:      </th> <td>chi2(1)</td>\n",
       "</tr>\n",
       "<tr>\n",
       "  <th>Cov. Estimator:</th>        <td>robust</td>      <th>                     </th>    <td></td>    \n",
       "</tr>\n",
       "<tr>\n",
       "  <th></th>                          <td></td>         <th>                     </th>    <td></td>    \n",
       "</tr>\n",
       "</table>\n",
       "<table class=\"simpletable\">\n",
       "<caption>Parameter Estimates</caption>\n",
       "<tr>\n",
       "      <td></td>      <th>Parameter</th> <th>Std. Err.</th> <th>T-stat</th>  <th>P-value</th> <th>Lower CI</th> <th>Upper CI</th>\n",
       "</tr>\n",
       "<tr>\n",
       "  <th>Intercept</th>  <td>9.9552</td>    <td>0.7419</td>   <td>13.419</td>  <td>0.0000</td>   <td>8.5012</td>   <td>11.409</td> \n",
       "</tr>\n",
       "<tr>\n",
       "  <th>rprice</th>     <td>-1.1322</td>   <td>0.1590</td>   <td>-7.1203</td> <td>0.0000</td>   <td>-1.4439</td>  <td>-0.8206</td>\n",
       "</tr>\n",
       "</table><br/><br/>Endogenous: rprice<br/>Instruments: tdiff<br/>Robust Covariance (Heteroskedastic)<br/>Debiased: False"
      ],
      "text/plain": [
       "<class 'linearmodels.compat.statsmodels.Summary'>\n",
       "\"\"\"\n",
       "                          IV-2SLS Estimation Summary                          \n",
       "==============================================================================\n",
       "Dep. Variable:                  packs   R-squared:                      0.5251\n",
       "Estimator:                    IV-2SLS   Adj. R-squared:                 0.5200\n",
       "No. Observations:                  96   F-statistic:                    50.699\n",
       "Date:                Wed, Dec 09 2020   P-value (F-stat)                0.0000\n",
       "Time:                        10:58:48   Distribution:                  chi2(1)\n",
       "Cov. Estimator:                robust                                         \n",
       "                                                                              \n",
       "                             Parameter Estimates                              \n",
       "==============================================================================\n",
       "            Parameter  Std. Err.     T-stat    P-value    Lower CI    Upper CI\n",
       "------------------------------------------------------------------------------\n",
       "Intercept      9.9552     0.7419     13.419     0.0000      8.5012      11.409\n",
       "rprice        -1.1322     0.1590    -7.1203     0.0000     -1.4439     -0.8206\n",
       "==============================================================================\n",
       "\n",
       "Endogenous: rprice\n",
       "Instruments: tdiff\n",
       "Robust Covariance (Heteroskedastic)\n",
       "Debiased: False\n",
       "\"\"\""
      ]
     },
     "execution_count": 24,
     "metadata": {
      "tags": []
     },
     "output_type": "execute_result"
    }
   ],
   "source": [
    "formula = 'packs ~ 1 + [rprice ~ tdiff]'\n",
    "# Specify model and data\n",
    "mod = IV2SLS.from_formula(formula, df)\n",
    "# Fit model\n",
    "res = mod.fit()\n",
    "# Show model summary\n",
    "res.summary"
   ]
  },
  {
   "cell_type": "markdown",
   "metadata": {
    "id": "HJ_G8F9Dzzgs"
   },
   "source": [
    "# Bibliography"
   ]
  },
  {
   "cell_type": "markdown",
   "metadata": {
    "id": "CNKDL467bA-y"
   },
   "source": [
    "- Angrist, J., G. Imbens, and D. Rubin (1996): “Identification of causal effects using\n",
    "instrumental variables (with comments),” Journal of the American Statistical\n",
    "Association, 91, 444–472.\n",
    "- Dixit, S. (2020) Beyond Predictive Models: The Causal Story Behind Hotel Booking Cancellations. Retrieved on 09.12.2020 https://towardsdatascience.com/beyond-predictive-models-the-causal-story-behind-hotel-booking-cancellations-d29e8558cbaf\n",
    "- Neyman, J. (1923): “On the application of probability theory to agricultural experiments.\n",
    "Essay on principles. Section 9,” Statistical Science, 5, 465–480.\n",
    "- Pearl, J. (2018) The Seven Tools of Causal Inference with Reflections on Machine Learning. https://ftp.cs.ucla.edu/pub/stat_ser/r481.pdf\n",
    "- Pearl, J. (2010) An Introduction to Causal Inference https://ftp.cs.ucla.edu/pub/stat_ser/r354-corrected-reprint.pdf\n",
    "- Pearl, J. (2000) Causality: Models, Reasoning, and Inference. Chapter 1 http://bayes.cs.ucla.edu/BOOK-2K/\n",
    "- Rosenbaum, P. and D. Rubin (1983): “The central role of propensity score in observational\n",
    "studies for causal effects,” Biometrika, 70, 41–55.\n",
    "- Rubin, D. (1974): “Estimating causal effects of treatments in randomized and nonrandomized\n",
    "studies,” Journal of Educational Psychology, 66, 688–701.\n",
    "- Sharma, A. and Kiciman, E.(2020) DoWhy: An End-to-End Library for Causal Inference. https://arxiv.org/abs/2011.04216\n",
    "- Qingyuan Zhao & Trevor Hastie (2019) Causal Interpretations of Black-Box Models, Journal of Business & Economic Statistics, DOI: 10.1080/07350015.2019.1624293"
   ]
  }
 ],
 "metadata": {
  "colab": {
   "collapsed_sections": [
    "Kg8r5C-Qe8v9",
    "ReJpm4uo9PAf",
    "HJ_G8F9Dzzgs"
   ],
   "name": "MAIN IS — Pearl's Framework of Causal Inference",
   "provenance": []
  },
  "kernelspec": {
   "display_name": "Py39 DoWhy",
   "language": "python",
   "name": "env"
  },
  "language_info": {
   "codemirror_mode": {
    "name": "ipython",
    "version": 3
   },
   "file_extension": ".py",
   "mimetype": "text/x-python",
   "name": "python",
   "nbconvert_exporter": "python",
   "pygments_lexer": "ipython3",
   "version": "3.9.0"
  }
 },
 "nbformat": 4,
 "nbformat_minor": 1
}
